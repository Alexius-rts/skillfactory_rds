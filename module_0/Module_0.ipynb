{
 "cells": [
  {
   "cell_type": "code",
   "execution_count": 15,
   "metadata": {},
   "outputs": [],
   "source": [
    "import numpy as np\n",
    "\n",
    "def score_game(game_core):\n",
    "    '''Запускаем игру 1000 раз, чтобы узнать, как быстро игра угадывает число'''\n",
    "    count_ls = []\n",
    "    np.random.seed(1)  # фиксируем RANDOM SEED, чтобы ваш эксперимент был воспроизводим!\n",
    "    random_array = np.random.randint(1,101, size=(1000))\n",
    "    for number in random_array:\n",
    "        count_ls.append(game_core(number))\n",
    "    score = int(np.mean(count_ls))\n",
    "    print(\"Ваш алгоритм угадывает число в среднем за {} попыток\".format(score))\n",
    "    return score\n",
    " \n",
    "    \n",
    "def game_core_v3(number):\n",
    "    '''Сначала устанавливаем любое random число, а потом уменьшаем или увеличиваем его в зависимости от того,\n",
    "       больше оно или меньше нужного. Функция принимает загаданное число и возвращает число попыток'''\n",
    "    count = 1\n",
    "    predict = np.random.randint(1,101)\n",
    "    \n",
    "    # Вводим флаги: more=0 обозначает, что predict изначально не был больше загаданного числа number\n",
    "    # less=0 обозначает, что predict изначально не был меньше загаданного числа number \n",
    "    more=0\n",
    "    less=0\n",
    "    \n",
    "    while True:\n",
    "        if number == predict:\n",
    "            break\n",
    "        \n",
    "        if number > predict:\n",
    "            # если number изначально был меньше predict\n",
    "            if less == 1:\n",
    "                predict += 1\n",
    "                count += 1\n",
    "            # если number ранее не был меньше predict   \n",
    "            if less == 0:\n",
    "                predict = int(predict + 10) # увеличиваем изначально загаданное число на 10\n",
    "                count += 1\n",
    "                # указываем, что number изначально больше predict\n",
    "                more = 1\n",
    "        \n",
    "        if number < predict: \n",
    "            # если number изначально был больше predict\n",
    "            if more == 1:\n",
    "                predict -= 1\n",
    "                count += 1\n",
    "            # если number ранее не был больше predict\n",
    "            if more == 0:\n",
    "                predict = int(predict - 10) # уменьшаем изначально загаданное число на 10\n",
    "                count += 1\n",
    "                # указываем, что number изначально меньше predict\n",
    "                less = 1\n",
    "\n",
    "    return(count) # выход из цикла, если угадали "
   ]
  },
  {
   "cell_type": "code",
   "execution_count": 14,
   "metadata": {},
   "outputs": [
    {
     "name": "stdout",
     "output_type": "stream",
     "text": [
      "Ваш алгоритм угадывает число в среднем за 9 попыток\n"
     ]
    },
    {
     "data": {
      "text/plain": [
       "9"
      ]
     },
     "execution_count": 14,
     "metadata": {},
     "output_type": "execute_result"
    }
   ],
   "source": [
    "score_game(game_core_v3)"
   ]
  },
  {
   "cell_type": "code",
   "execution_count": null,
   "metadata": {},
   "outputs": [],
   "source": []
  }
 ],
 "metadata": {
  "kernelspec": {
   "display_name": "Python 3",
   "language": "python",
   "name": "python3"
  },
  "language_info": {
   "codemirror_mode": {
    "name": "ipython",
    "version": 3
   },
   "file_extension": ".py",
   "mimetype": "text/x-python",
   "name": "python",
   "nbconvert_exporter": "python",
   "pygments_lexer": "ipython3",
   "version": "3.7.6"
  }
 },
 "nbformat": 4,
 "nbformat_minor": 4
}
