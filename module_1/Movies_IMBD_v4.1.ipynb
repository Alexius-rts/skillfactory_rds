{
 "cells": [
  {
   "cell_type": "code",
   "execution_count": null,
   "metadata": {
    "_cell_guid": "b1076dfc-b9ad-4769-8c92-a6c4dae69d19",
    "_uuid": "8f2839f25d086af736a60e9eeb907d3b93b6e0e5",
    "colab": {},
    "colab_type": "code",
    "id": "U2D2gTdJVp90"
   },
   "outputs": [],
   "source": [
    "import numpy as np\n",
    "import pandas as pd\n",
    "import seaborn as sns\n",
    "import matplotlib.pyplot as plt\n",
    "from collections import Counter\n",
    "import operator"
   ]
  },
  {
   "cell_type": "code",
   "execution_count": null,
   "metadata": {
    "_cell_guid": "79c7e3d0-c299-4dcb-8224-4455121ee9b0",
    "_uuid": "d629ff2d2480ee46fbb7e2d37f6b5fab8052498a",
    "colab": {},
    "colab_type": "code",
    "id": "oyGfxL3eVp9-"
   },
   "outputs": [],
   "source": [
    "data = pd.read_csv('movie_bd_v5.csv')\n",
    "data.head(10)\n"
   ]
  },
  {
   "cell_type": "code",
   "execution_count": null,
   "metadata": {
    "colab": {},
    "colab_type": "code",
    "id": "CoYUnagMVp-C"
   },
   "outputs": [],
   "source": [
    "data.info()"
   ]
  },
  {
   "cell_type": "markdown",
   "metadata": {
    "colab_type": "text",
    "id": "DTIt7ezGVp-G"
   },
   "source": [
    "# Предобработка"
   ]
  },
  {
   "cell_type": "code",
   "execution_count": null,
   "metadata": {
    "colab": {},
    "colab_type": "code",
    "id": "jNb40DwKVp-H"
   },
   "outputs": [],
   "source": [
    "answers = {} # создадим словарь для ответов\n",
    "\n",
    "data['profit'] = data['revenue'] - data['budget'] # create columns 'profit'\n",
    "\n",
    "# тут другие ваши предобработки колонок например:\n",
    "\n",
    "#the time given in the dataset is in string format.\n",
    "#So we need to change this in datetime format\n",
    "data['date_of_release'] = pd.to_datetime(data.release_date)\n",
    "\n",
    "# create column 'len_title' containing lenght of title films\n",
    "data['len_title'] = data['original_title'].str.len()\n",
    "\n",
    "# create column 'len_overview' containing quantity words in overview of films\n",
    "def len_overview(row):\n",
    "    count = 1\n",
    "    for letter in row['overview']:\n",
    "        if letter == ' ':\n",
    "            count+=1\n",
    "    return count\n",
    "data['len_overview'] = data.apply(len_overview, axis=1)\n",
    "\n",
    "\n",
    "\n",
    "# Задание 11-12, 17. Описываем функцию, которая выбирает значения из столбца 'genres' и помещает их в список genre_list\n",
    "def search_genres_v1(row):\n",
    "    temp_list = row['genres'].split('|')\n",
    "    for genre in temp_list:\n",
    "        genre_list.append(genre)\n",
    "    return row['genres']\n",
    "\n",
    "\n",
    "# Задание 11-12, 17. Описываем функцию, которая выбирает значения из столбца 'genres' и помещает их в словарь genres_list,\n",
    "# подсчитывая их количество\n",
    "def search_genres_v2(row):\n",
    "    temp_list1 = row['genres'].split('|')\n",
    "    for genre in temp_list1:\n",
    "        if genre in genres_list.keys():\n",
    "            genres_list[genre]+= 1\n",
    "        else:\n",
    "            genres_list[genre] = 1  \n",
    "    return row['genres']\n",
    "\n",
    "\n",
    "# Задание 13,23. Описываем функцию, которая выбирает значения из столбца 'director' и помещает их в словарь director_list\n",
    "def counting_director(row):\n",
    "    temp_list = row['director'].split('|')\n",
    "    for director in temp_list:\n",
    "        if director in director_list.keys():\n",
    "            director_list[director]+= 1\n",
    "        else:\n",
    "            director_list[director] = 1\n",
    "    return row['director']\n",
    "\n",
    "# Задание 15-16. Описываем функцию, которая выбирает значения из столбца 'cast' и помещает их в словарь actor_list\n",
    "def search_actor(row):\n",
    "    temp_list = row['cast'].split('|')\n",
    "    for actor in temp_list:\n",
    "        if actor in actor_list.keys():\n",
    "            actor_list[actor]+= 1\n",
    "        else:\n",
    "            actor_list[actor] = 1\n",
    "    return row['cast']\n",
    "\n",
    "\n",
    "# Задание 21. Описываем функцию, которая перебирает  строковые значения месяцев из столбца 'release_date' \n",
    "# и помещает их количество в словарь month_list\n",
    "# start_month,end_month - числовые значения месяцев, в диапазоне которых нужно вести поиск \n",
    "# (end_month - порядковое значение месяца+1)\n",
    "\n",
    "def search_month_v1(row):\n",
    "    string = row['release_date']             \n",
    "    for i in range(start_month,end_month):\n",
    "        if string.startswith('{}/'.format(i)):\n",
    "            if i in month_list.keys():\n",
    "                month_list[i] += 1\n",
    "            else:\n",
    "                month_list[i] = 1\n",
    "    return (row['release_date'])\n",
    "\n",
    "\n",
    "# Задание 21,22. Описываем функцию, которая перебирает значения месяцев из столбца 'date_of_release' \n",
    "# и помещает их  количество в словарь month_list\n",
    "# start_month,end_month - числовые значения месяцев, в диапазоне которых нужно вести поиск \n",
    "# (end_month - порядковое значение месяца+1)\n",
    "\n",
    "def search_month_v2(row):\n",
    "    for i in range(start_month,end_month):\n",
    "        if row['date_of_release'].month == i:\n",
    "            if i in month_list.keys():\n",
    "                month_list[i] += 1\n",
    "            else:\n",
    "                month_list[i] = 1\n",
    "    return (row['release_date']) \n",
    "\n",
    "# Задание 24, 25. Описываем функцию, которая выбирает значения из столбца 'production_companies' и помещает их в словарь company_list    \n",
    "def search_company(row):\n",
    "    temp_list = row['production_companies'].split('|')\n",
    "    for company in temp_list:\n",
    "        if company in company_list.keys():\n",
    "            company_list[company]+= 1\n",
    "        else:\n",
    "            company_list[company] = 1\n",
    "    return row['production_companies']\n",
    "\n",
    "\n",
    "# Задание 27. Описываем функцию, которая выбирает значения из столбца 'cast' и парами помещает их в словарь pair_actors_list    \n",
    "def search_pair_actors(row):\n",
    "    temp_list = row['cast'].split('|')\n",
    "    for i in range(len(temp_list)-1):\n",
    "        for j in range(i+1, len(temp_list)):\n",
    "            string = temp_list[i] + ' & ' + temp_list[j] \n",
    "            if  string not in pair_actors_list.keys():\n",
    "                pair_actors_list[string]= 1\n",
    "            else:\n",
    "                pair_actors_list[string] += 1\n",
    "    return row['cast']\n"
   ]
  },
  {
   "cell_type": "markdown",
   "metadata": {
    "colab_type": "text",
    "id": "YxZaH-nPVp-L"
   },
   "source": [
    "# 1. У какого фильма из списка самый большой бюджет?"
   ]
  },
  {
   "cell_type": "markdown",
   "metadata": {
    "colab_type": "text",
    "id": "Nd-G5gX6Vp-M"
   },
   "source": [
    "Использовать варианты ответов в коде решения запрещено.    \n",
    "Вы думаете и в жизни у вас будут варианты ответов?)"
   ]
  },
  {
   "cell_type": "markdown",
   "metadata": {
    "colab_type": "text",
    "id": "K7L3nbRXVp-X"
   },
   "source": [
    "ВАРИАНТ 1"
   ]
  },
  {
   "cell_type": "code",
   "execution_count": null,
   "metadata": {
    "colab": {},
    "colab_type": "code",
    "id": "dZwb3m28Vp-S",
    "scrolled": false
   },
   "outputs": [],
   "source": [
    "data[data['budget'] == data['budget'].max()]"
   ]
  },
  {
   "cell_type": "markdown",
   "metadata": {
    "colab_type": "text",
    "id": "K7L3nbRXVp-X"
   },
   "source": [
    "ВАРИАНТ 2"
   ]
  },
  {
   "cell_type": "code",
   "execution_count": null,
   "metadata": {
    "colab": {},
    "colab_type": "code",
    "id": "OGaoQI7rVp-X"
   },
   "outputs": [],
   "source": [
    "data.groupby(['budget'])[['imdb_id', 'original_title']].max()"
   ]
  },
  {
   "cell_type": "code",
   "execution_count": null,
   "metadata": {
    "colab": {},
    "colab_type": "code",
    "id": "uVnXAY5RVp-O"
   },
   "outputs": [],
   "source": [
    "answers['1'] = 'Pirates of the Caribbean: On Stranger Tides (tt1298650)'\n",
    "# если ответили верно, можете добавить комментарий со значком \"+\""
   ]
  },
  {
   "cell_type": "markdown",
   "metadata": {
    "colab_type": "text",
    "id": "FNRbbI3vVp-c"
   },
   "source": [
    "# 2. Какой из фильмов самый длительный (в минутах)?"
   ]
  },
  {
   "cell_type": "markdown",
   "metadata": {
    "colab_type": "text",
    "id": "K7L3nbRXVp-X"
   },
   "source": [
    "ВАРИАНТ 1"
   ]
  },
  {
   "cell_type": "code",
   "execution_count": null,
   "metadata": {
    "colab": {},
    "colab_type": "code",
    "id": "ot-VX2XrVp-g",
    "scrolled": true
   },
   "outputs": [],
   "source": [
    "data[data['runtime'] == data['runtime'].max()]"
   ]
  },
  {
   "cell_type": "markdown",
   "metadata": {
    "colab_type": "text",
    "id": "K7L3nbRXVp-X"
   },
   "source": [
    "ВАРИАНТ 2"
   ]
  },
  {
   "cell_type": "code",
   "execution_count": null,
   "metadata": {
    "colab": {},
    "colab_type": "code",
    "id": "vHAoEXNTVp-d"
   },
   "outputs": [],
   "source": [
    "data.groupby(['runtime'])[['imdb_id', 'original_title']].max()"
   ]
  },
  {
   "cell_type": "code",
   "execution_count": null,
   "metadata": {},
   "outputs": [],
   "source": [
    "answers['2'] = 'Gods and Generals (tt0279111)'"
   ]
  },
  {
   "cell_type": "markdown",
   "metadata": {
    "colab_type": "text",
    "id": "bapLlpW8Vp-k"
   },
   "source": [
    "# 3. Какой из фильмов самый короткий (в минутах)?\n",
    "\n",
    "\n",
    "\n"
   ]
  },
  {
   "cell_type": "markdown",
   "metadata": {
    "colab_type": "text",
    "id": "K7L3nbRXVp-X"
   },
   "source": [
    "ВАРИАНТ 1"
   ]
  },
  {
   "cell_type": "code",
   "execution_count": null,
   "metadata": {
    "colab": {},
    "colab_type": "code",
    "id": "YBxaSHuAVp-l"
   },
   "outputs": [],
   "source": [
    "data[data['runtime'] == data['runtime'].min()]\n",
    "\n"
   ]
  },
  {
   "cell_type": "markdown",
   "metadata": {
    "colab_type": "text",
    "id": "K7L3nbRXVp-X"
   },
   "source": [
    "ВАРИАНТ 2"
   ]
  },
  {
   "cell_type": "code",
   "execution_count": null,
   "metadata": {},
   "outputs": [],
   "source": [
    "data.groupby(['runtime'])[['imdb_id', 'original_title']].min()\n",
    "answers['3'] = 'Winnie the Pooh (tt1449283)'"
   ]
  },
  {
   "cell_type": "markdown",
   "metadata": {
    "colab_type": "text",
    "id": "TfQbxbfNVp-p"
   },
   "source": [
    "# 4. Какова средняя длительность фильмов?\n"
   ]
  },
  {
   "cell_type": "code",
   "execution_count": null,
   "metadata": {
    "colab": {},
    "colab_type": "code",
    "id": "5K6dKZYVVp-q"
   },
   "outputs": [],
   "source": [
    "round(data['runtime'].mean())"
   ]
  },
  {
   "cell_type": "code",
   "execution_count": null,
   "metadata": {},
   "outputs": [],
   "source": [
    "answers['4'] = '110'"
   ]
  },
  {
   "cell_type": "markdown",
   "metadata": {
    "colab_type": "text",
    "id": "r5TvbnT_Vp-u"
   },
   "source": [
    "# 5. Каково медианное значение длительности фильмов? "
   ]
  },
  {
   "cell_type": "code",
   "execution_count": null,
   "metadata": {
    "colab": {},
    "colab_type": "code",
    "id": "iBROplKnVp-v"
   },
   "outputs": [],
   "source": [
    "round(data['runtime'].median())"
   ]
  },
  {
   "cell_type": "code",
   "execution_count": null,
   "metadata": {},
   "outputs": [],
   "source": [
    "answers['5'] = '107'"
   ]
  },
  {
   "cell_type": "markdown",
   "metadata": {
    "colab_type": "text",
    "id": "39P-deDSVp-y"
   },
   "source": [
    "# 6. Какой самый прибыльный фильм?\n",
    "#### Внимание! Здесь и далее под «прибылью» или «убытками» понимается разность между сборами и бюджетом фильма. (прибыль = сборы - бюджет) в нашем датасете это будет (profit = revenue - budget) "
   ]
  },
  {
   "cell_type": "markdown",
   "metadata": {
    "colab_type": "text",
    "id": "K7L3nbRXVp-X"
   },
   "source": [
    "ВАРИАНТ 1"
   ]
  },
  {
   "cell_type": "code",
   "execution_count": null,
   "metadata": {
    "colab": {},
    "colab_type": "code",
    "id": "UYZh4T9WVp-y"
   },
   "outputs": [],
   "source": [
    "# лучше код получения столбца profit вынести в Предобработку что в начале\n",
    "data[data['profit']>0].groupby(['profit'])[['imdb_id', 'original_title']].max()"
   ]
  },
  {
   "cell_type": "markdown",
   "metadata": {
    "colab_type": "text",
    "id": "K7L3nbRXVp-X"
   },
   "source": [
    "ВАРИАНТ 2"
   ]
  },
  {
   "cell_type": "code",
   "execution_count": null,
   "metadata": {},
   "outputs": [],
   "source": [
    "data[data['profit'] == data['profit'].max()]"
   ]
  },
  {
   "cell_type": "code",
   "execution_count": null,
   "metadata": {},
   "outputs": [],
   "source": [
    "answers['6'] = 'Avatar (tt0499549)'"
   ]
  },
  {
   "cell_type": "markdown",
   "metadata": {
    "colab_type": "text",
    "id": "M99JmIX4Vp-2"
   },
   "source": [
    "# 7. Какой фильм самый убыточный? "
   ]
  },
  {
   "cell_type": "markdown",
   "metadata": {
    "colab_type": "text",
    "id": "K7L3nbRXVp-X"
   },
   "source": [
    "ВАРИАНТ 1"
   ]
  },
  {
   "cell_type": "code",
   "execution_count": null,
   "metadata": {
    "colab": {},
    "colab_type": "code",
    "id": "w-D2m4XPVp-3"
   },
   "outputs": [],
   "source": [
    "data[data['profit'] == data['profit'].min()]"
   ]
  },
  {
   "cell_type": "markdown",
   "metadata": {
    "colab_type": "text",
    "id": "K7L3nbRXVp-X"
   },
   "source": [
    "ВАРИАНТ 2"
   ]
  },
  {
   "cell_type": "code",
   "execution_count": null,
   "metadata": {},
   "outputs": [],
   "source": [
    "data[data['profit']<0].groupby(['profit'])[['imdb_id', 'original_title']].min()\n"
   ]
  },
  {
   "cell_type": "code",
   "execution_count": null,
   "metadata": {},
   "outputs": [],
   "source": [
    "answers['7'] = 'The Lone Ranger (tt1210819)'"
   ]
  },
  {
   "cell_type": "markdown",
   "metadata": {
    "colab_type": "text",
    "id": "wEOM5ERVVp-6"
   },
   "source": [
    "# 8. У скольких фильмов из датасета объем сборов оказался выше бюджета?"
   ]
  },
  {
   "cell_type": "code",
   "execution_count": null,
   "metadata": {
    "colab": {},
    "colab_type": "code",
    "id": "y00_7HD6Vp-7"
   },
   "outputs": [],
   "source": [
    "len(data[data['profit'] > 0])"
   ]
  },
  {
   "cell_type": "code",
   "execution_count": null,
   "metadata": {},
   "outputs": [],
   "source": [
    "answers['8'] = '1478'"
   ]
  },
  {
   "cell_type": "markdown",
   "metadata": {
    "colab_type": "text",
    "id": "xhpspA9KVp_A"
   },
   "source": [
    "# 9. Какой фильм оказался самым кассовым в 2008 году?"
   ]
  },
  {
   "cell_type": "markdown",
   "metadata": {
    "colab_type": "text",
    "id": "K7L3nbRXVp-X"
   },
   "source": [
    "ВАРИАНТ 1"
   ]
  },
  {
   "cell_type": "code",
   "execution_count": null,
   "metadata": {
    "colab": {},
    "colab_type": "code",
    "id": "MoUyQr9RVp_B",
    "scrolled": true
   },
   "outputs": [],
   "source": [
    "\n",
    "data2 = data[data['release_year'] == 2008]\n",
    "data2[(data2['revenue'] == data2['revenue'].max())]"
   ]
  },
  {
   "cell_type": "markdown",
   "metadata": {
    "colab_type": "text",
    "id": "K7L3nbRXVp-X"
   },
   "source": [
    "ВАРИАНТ 2"
   ]
  },
  {
   "cell_type": "code",
   "execution_count": null,
   "metadata": {},
   "outputs": [],
   "source": [
    "data[data['release_year'] == 2008].groupby(['revenue'])[['imdb_id', 'original_title']].max()"
   ]
  },
  {
   "cell_type": "code",
   "execution_count": null,
   "metadata": {},
   "outputs": [],
   "source": [
    "answers['9'] = 'The Dark Knight (tt0468569)'\n"
   ]
  },
  {
   "cell_type": "markdown",
   "metadata": {
    "colab_type": "text",
    "id": "Zi4hDKidVp_F"
   },
   "source": [
    "# 10. Самый убыточный фильм за период с 2012 по 2014 г. (включительно)?\n"
   ]
  },
  {
   "cell_type": "markdown",
   "metadata": {
    "colab_type": "text",
    "id": "K7L3nbRXVp-X"
   },
   "source": [
    "ВАРИАНТ 1"
   ]
  },
  {
   "cell_type": "code",
   "execution_count": null,
   "metadata": {
    "colab": {},
    "colab_type": "code",
    "id": "XqyRmufJVp_F",
    "scrolled": true
   },
   "outputs": [],
   "source": [
    "data2 = data[(2012 <= data['release_year']) & (data['release_year'] <= 2014)]\n",
    "data2[(data2['profit'] == data2['profit'].min())]\n"
   ]
  },
  {
   "cell_type": "markdown",
   "metadata": {
    "colab_type": "text",
    "id": "K7L3nbRXVp-X"
   },
   "source": [
    "ВАРИАНТ 2"
   ]
  },
  {
   "cell_type": "code",
   "execution_count": null,
   "metadata": {},
   "outputs": [],
   "source": [
    "data[(2012 <= data['release_year']) & (data['release_year'] <= 2014)].groupby(['profit'])[['imdb_id', 'original_title']].min()"
   ]
  },
  {
   "cell_type": "code",
   "execution_count": null,
   "metadata": {},
   "outputs": [],
   "source": [
    "answers['10'] = 'The Lone Ranger (tt1210819)'"
   ]
  },
  {
   "cell_type": "markdown",
   "metadata": {
    "colab_type": "text",
    "id": "EA7Sa9dkVp_I"
   },
   "source": [
    "# 11. Какого жанра фильмов больше всего?"
   ]
  },
  {
   "cell_type": "code",
   "execution_count": null,
   "metadata": {
    "colab": {},
    "colab_type": "code",
    "id": "zsJAwJ8QVp_J"
   },
   "outputs": [],
   "source": [
    "# эту задачу тоже можно решать разными подходами, попробуй реализовать разные варианты\n",
    "# если будешь добавлять функцию - выноси ее в предобработку что в начале"
   ]
  },
  {
   "cell_type": "markdown",
   "metadata": {
    "colab_type": "text",
    "id": "Ax6g2C8SVp_M"
   },
   "source": [
    "ВАРИАНТ 1"
   ]
  },
  {
   "cell_type": "code",
   "execution_count": null,
   "metadata": {},
   "outputs": [],
   "source": [
    "genre_list = [] # Создаем пустой список для жанров\n",
    "data.apply(search_genres_v1, axis=1) # помещаем в данный список все значения жанров из столбца 'genres'\n",
    "# плюс этого метода - можно вывести отсортировать значения счетчика\n",
    "\n",
    "c = Counter()\n",
    "for item in genre_list:\n",
    "    c[item]+=1\n",
    "\n",
    "display(c.most_common())"
   ]
  },
  {
   "cell_type": "markdown",
   "metadata": {
    "colab_type": "text",
    "id": "Ax6g2C8SVp_M"
   },
   "source": [
    "ВАРИАНТ 2"
   ]
  },
  {
   "cell_type": "code",
   "execution_count": null,
   "metadata": {},
   "outputs": [],
   "source": [
    "genres_list={} # создаем пустой словарь\n",
    "data.apply(search_genres_v2, axis=1) # помещаем в данный словарь значения жанров, подсчитываю количество их упоминаний\n",
    "\n",
    "genres_list = sorted(genres_list.items(), key=operator.itemgetter(1), reverse = True)\n",
    "genres_list"
   ]
  },
  {
   "cell_type": "code",
   "execution_count": null,
   "metadata": {},
   "outputs": [],
   "source": [
    "answers['11'] = 'Drama'\n",
    "# проверка\n",
    "len(data[data.genres.str.contains('Drama')])"
   ]
  },
  {
   "cell_type": "markdown",
   "metadata": {
    "colab_type": "text",
    "id": "T9_bPWpkVp_Q"
   },
   "source": [
    "# 12. Фильмы какого жанра чаще всего становятся прибыльными? "
   ]
  },
  {
   "cell_type": "code",
   "execution_count": null,
   "metadata": {
    "colab": {},
    "colab_type": "code",
    "id": "Tmt8MaK1Vp_R"
   },
   "outputs": [],
   "source": [
    "genres_list={}\n",
    "# делаем выборку фильмов чья прибыль больше 0, и затем проверяем какого жанра они чаще всего \n",
    "sample = data[data['profit'] > 0].groupby(['profit'])[['imdb_id', 'original_title', 'profit', 'genres']].max()\n",
    "sample.apply(search_genres_v2, axis=1)\n",
    "\n",
    "genres_list = sorted(genres_list.items(), key=operator.itemgetter(1), reverse = True)\n",
    "genres_list"
   ]
  },
  {
   "cell_type": "code",
   "execution_count": null,
   "metadata": {},
   "outputs": [],
   "source": [
    "answers['12'] = 'Drama'"
   ]
  },
  {
   "cell_type": "markdown",
   "metadata": {
    "colab_type": "text",
    "id": "0F23bgsDVp_U"
   },
   "source": [
    "# 13. У какого режиссера самые большие суммарные кассовые сбооры?"
   ]
  },
  {
   "cell_type": "code",
   "execution_count": null,
   "metadata": {
    "colab": {},
    "colab_type": "code",
    "id": "K6Z3J8ygVp_X"
   },
   "outputs": [],
   "source": [
    "data.groupby(['director'])['revenue'].sum().sort_values(ascending=False)"
   ]
  },
  {
   "cell_type": "code",
   "execution_count": null,
   "metadata": {},
   "outputs": [],
   "source": [
    "answers['13'] = 'Peter Jackson'"
   ]
  },
  {
   "cell_type": "markdown",
   "metadata": {
    "colab_type": "text",
    "id": "PsYC9FgRVp_a"
   },
   "source": [
    "# 14. Какой режисер снял больше всего фильмов в стиле Action?"
   ]
  },
  {
   "cell_type": "code",
   "execution_count": null,
   "metadata": {
    "colab": {},
    "colab_type": "code",
    "id": "wd2M-wHeVp_b"
   },
   "outputs": [],
   "source": [
    "director_list = {}\n",
    "\n",
    "# делаем выборку фильмов в стиле Action\n",
    "sample = data[data.genres.str.contains('Action', na=False)]\n",
    "# проверяем, какой режиссер чаще других снимал такие фильмы\n",
    "sample.apply(counting_director, axis=1)\n",
    "\n",
    "\n",
    "\n",
    "director_list = sorted(director_list.items(), key=operator.itemgetter(1), reverse = True)\n",
    "director_list[0:9]"
   ]
  },
  {
   "cell_type": "code",
   "execution_count": null,
   "metadata": {},
   "outputs": [],
   "source": [
    "answers['14'] = 'Robert Rodriguez'"
   ]
  },
  {
   "cell_type": "markdown",
   "metadata": {
    "colab_type": "text",
    "id": "PQ0KciD7Vp_f"
   },
   "source": [
    "# 15. Фильмы с каким актером принесли самые высокие кассовые сборы в 2012 году? "
   ]
  },
  {
   "cell_type": "markdown",
   "metadata": {
    "colab_type": "text",
    "id": "Ax6g2C8SVp_M"
   },
   "source": [
    "ВАРИАНТ 1"
   ]
  },
  {
   "cell_type": "code",
   "execution_count": null,
   "metadata": {
    "colab": {},
    "colab_type": "code",
    "id": "aga62oeKVp_g",
    "scrolled": true
   },
   "outputs": [],
   "source": [
    "# Делаем выборку фильмов,вышедших в 2012 году и не принесших убытка: \n",
    "list_films = data[(data['release_year'] == 2012) & (data['profit'] > 0)]\n",
    "\n",
    "# Делаем из этих фильмов выборку фильмов, чьи кассовые сборы были выше среднего\n",
    "sample = list_films.loc[list_films['revenue'] > list_films['revenue'].mean()]\n",
    "\n",
    "actor_list = {}\n",
    "# проверяем, какие актеры, и как часто снимались в этих фильмах\n",
    "sample.apply(search_actor, axis=1)\n",
    "actor_list = sorted(actor_list.items(), key=operator.itemgetter(1), reverse = True)\n",
    "actor_list[0:13]\n"
   ]
  },
  {
   "cell_type": "markdown",
   "metadata": {
    "colab_type": "text",
    "id": "Ax6g2C8SVp_M"
   },
   "source": [
    "ВАРИАНТ 2"
   ]
  },
  {
   "cell_type": "code",
   "execution_count": null,
   "metadata": {},
   "outputs": [],
   "source": [
    "# Делаем выборку фильмов,вышедших в 2012 году: \n",
    "list_films = data[data['release_year'] == 2012]\n",
    "\n",
    "actor_list = {}\n",
    "# проверяем, какие актеры, и как часто снимались в этих фильмах\n",
    "list_films.apply(search_actor, axis=1)\n",
    "actor_list = pd.Series(actor_list)\n",
    "\n",
    "# подсчитываем сумму сборов для каждого из актеров, по фильмам в которых он снимался\n",
    "for actor in actor_list.index:\n",
    "    actor_list[actor] = list_films['revenue'][list_films['cast'].map(lambda x: True if actor in x else False)].sum()\n",
    "\n",
    "#actor_list = sorted(actor_list.items(), key=operator.itemgetter(1), reverse = True)\n",
    "actor_list = pd.DataFrame(actor_list)\n",
    "actor_list.sort_values(0, ascending = False)"
   ]
  },
  {
   "cell_type": "code",
   "execution_count": null,
   "metadata": {},
   "outputs": [],
   "source": [
    "answers['15'] = 'Chris Hemsworth'"
   ]
  },
  {
   "cell_type": "markdown",
   "metadata": {
    "colab_type": "text",
    "id": "mWHyyL7QVp_j"
   },
   "source": [
    "# 16. Какой актер снялся в большем количестве высокобюджетных фильмов?"
   ]
  },
  {
   "cell_type": "code",
   "execution_count": null,
   "metadata": {
    "colab": {},
    "colab_type": "code",
    "id": "qQtmHKTFVp_k"
   },
   "outputs": [],
   "source": [
    "# Делаем выборку фильмов, чей бюджет был выше среднего\n",
    "sample = data.loc[data['budget'] > data['budget'].mean()]\n",
    "\n",
    "actor_list = {}\n",
    "# проверяем, какие актеры, и как часто снимались в этих фильмах\n",
    "sample.apply(search_actor, axis=1)\n",
    "actor_list = sorted(actor_list.items(), key=operator.itemgetter(1), reverse = True)\n",
    "actor_list[:9]\n",
    "\n"
   ]
  },
  {
   "cell_type": "code",
   "execution_count": null,
   "metadata": {},
   "outputs": [],
   "source": [
    "answers['16'] = 'Matt Damon'"
   ]
  },
  {
   "cell_type": "markdown",
   "metadata": {
    "colab_type": "text",
    "id": "NIh6AaW5Vp_n"
   },
   "source": [
    "# 17. В фильмах какого жанра больше всего снимался Nicolas Cage? "
   ]
  },
  {
   "cell_type": "code",
   "execution_count": null,
   "metadata": {
    "colab": {},
    "colab_type": "code",
    "id": "H74SJDIBVp_n"
   },
   "outputs": [],
   "source": [
    "# делаем выборку фильмов c Николасом Кейджем\n",
    "sample = data[data.cast.str.contains('Nicolas Cage', na=False)]\n",
    "\n",
    "genres_list = {}\n",
    "sample.apply(search_genres_v2, axis=1)\n",
    "\n",
    "genres_list = sorted(genres_list.items(), key=operator.itemgetter(1), reverse = True)\n",
    "genres_list"
   ]
  },
  {
   "cell_type": "code",
   "execution_count": null,
   "metadata": {},
   "outputs": [],
   "source": [
    "answers['17'] = 'Action'"
   ]
  },
  {
   "cell_type": "markdown",
   "metadata": {
    "colab_type": "text",
    "id": "RqOmPRfWVp_q"
   },
   "source": [
    "# 18. Самый убыточный фильм от Paramount Pictures"
   ]
  },
  {
   "cell_type": "code",
   "execution_count": null,
   "metadata": {
    "colab": {},
    "colab_type": "code",
    "id": "9E_B0Y96Vp_r"
   },
   "outputs": [],
   "source": [
    "sample = data[data.production_companies.str.contains('Paramount Pictures', na=False)]\n",
    "sample[sample['profit'] == sample['profit'].min()]"
   ]
  },
  {
   "cell_type": "code",
   "execution_count": null,
   "metadata": {},
   "outputs": [],
   "source": [
    "answers['18'] = 'K-19: The Widowmake (tt0267626)'"
   ]
  },
  {
   "cell_type": "markdown",
   "metadata": {
    "colab_type": "text",
    "id": "vS8Ur6ddVp_u"
   },
   "source": [
    "# 19. Какой год стал самым успешным по суммарным кассовым сборам?"
   ]
  },
  {
   "cell_type": "code",
   "execution_count": null,
   "metadata": {
    "colab": {},
    "colab_type": "code",
    "id": "Dnbt4GdIVp_v"
   },
   "outputs": [],
   "source": [
    "data.groupby(['release_year'])[['revenue']].sum().sort_values(by='revenue', ascending=False)"
   ]
  },
  {
   "cell_type": "code",
   "execution_count": null,
   "metadata": {},
   "outputs": [],
   "source": [
    "answers['19'] = '2015'"
   ]
  },
  {
   "cell_type": "markdown",
   "metadata": {
    "colab_type": "text",
    "id": "JAzJh4QAVp_z"
   },
   "source": [
    "# 20. Какой самый прибыльный год для студии Warner Bros?"
   ]
  },
  {
   "cell_type": "code",
   "execution_count": null,
   "metadata": {
    "colab": {},
    "colab_type": "code",
    "id": "wgVu02DEVp_0"
   },
   "outputs": [],
   "source": [
    "sample = data[data.production_companies.str.contains('Warner Bros', na=False)]\n",
    "sample.groupby(['release_year'])[['profit']].sum().sort_values(by='profit', ascending=False)"
   ]
  },
  {
   "cell_type": "code",
   "execution_count": null,
   "metadata": {},
   "outputs": [],
   "source": [
    "answers['20'] = '2014'"
   ]
  },
  {
   "cell_type": "markdown",
   "metadata": {
    "colab_type": "text",
    "id": "8Im1S2HRVp_4"
   },
   "source": [
    "# 21. В каком месяце за все годы суммарно вышло больше всего фильмов?"
   ]
  },
  {
   "cell_type": "markdown",
   "metadata": {
    "colab_type": "text",
    "id": "Ax6g2C8SVp_M"
   },
   "source": [
    "ВАРИАНТ 1"
   ]
  },
  {
   "cell_type": "code",
   "execution_count": null,
   "metadata": {
    "scrolled": true
   },
   "outputs": [],
   "source": [
    "month_list ={} # создаем пустой словарь для счетчиков месяцев\n",
    "# указываем в каком диапазоне месяцев используем функцию перебора месяцев\n",
    "start_month = 1\n",
    "end_month = 13    \n",
    "\n",
    "data.apply(search_month_v1, axis=1)\n",
    "\n",
    "month_list = sorted(month_list.items(), key=operator.itemgetter(1), reverse = True)\n",
    "month_list"
   ]
  },
  {
   "cell_type": "markdown",
   "metadata": {
    "colab_type": "text",
    "id": "Ax6g2C8SVp_M"
   },
   "source": [
    "ВАРИАНТ 2"
   ]
  },
  {
   "cell_type": "code",
   "execution_count": null,
   "metadata": {
    "colab": {},
    "colab_type": "code",
    "id": "lev6TH7gVp_4"
   },
   "outputs": [],
   "source": [
    "month_list ={} # создаем пустой словарь для счетчиков месяцев\n",
    "# указываем в каком диапазоне месяцев используем функцию перебора месяцев\n",
    "start_month = 1\n",
    "end_month = 13    \n",
    "\n",
    "data.apply(search_month_v2, axis=1)\n",
    "\n",
    "month_list = sorted(month_list.items(), key=operator.itemgetter(1), reverse = True)\n",
    "month_list"
   ]
  },
  {
   "cell_type": "code",
   "execution_count": null,
   "metadata": {},
   "outputs": [],
   "source": [
    "answers['21'] = 'сентябрь'"
   ]
  },
  {
   "cell_type": "markdown",
   "metadata": {
    "colab_type": "text",
    "id": "uAJsZ_NeVp_7"
   },
   "source": [
    "# 22. Сколько суммарно вышло фильмов летом? (за июнь, июль, август)"
   ]
  },
  {
   "cell_type": "markdown",
   "metadata": {
    "colab_type": "text",
    "id": "Ax6g2C8SVp_M"
   },
   "source": [
    "ВАРИАНТ 1"
   ]
  },
  {
   "cell_type": "code",
   "execution_count": null,
   "metadata": {
    "colab": {},
    "colab_type": "code",
    "id": "Aa-hEREoVp_8"
   },
   "outputs": [],
   "source": [
    "month_list ={} # создаем пустой словарь для счетчиков месяцев\n",
    "# указываем в каком диапазоне месяцев используем функцию перебора месяцев\n",
    "start_month = 1\n",
    "end_month = 13    \n",
    "\n",
    "count_films = 0\n",
    "data.apply(search_month_v2, axis=1)\n",
    "\n",
    "for i in range (6,9):\n",
    "    count_films += month_list.get(i)\n",
    "    \n",
    "count_films    "
   ]
  },
  {
   "cell_type": "markdown",
   "metadata": {
    "colab_type": "text",
    "id": "Ax6g2C8SVp_M"
   },
   "source": [
    "ВАРИАНТ 2"
   ]
  },
  {
   "cell_type": "code",
   "execution_count": null,
   "metadata": {},
   "outputs": [],
   "source": [
    "sample = data[(data['date_of_release'].dt.month == 6) | (data['date_of_release'].dt.month == 7) | (data['date_of_release'].dt.month == 8)]\n",
    "len(sample)"
   ]
  },
  {
   "cell_type": "markdown",
   "metadata": {
    "colab_type": "text",
    "id": "Ax6g2C8SVp_M"
   },
   "source": [
    "ВАРИАНТ 3"
   ]
  },
  {
   "cell_type": "code",
   "execution_count": null,
   "metadata": {},
   "outputs": [],
   "source": [
    "sample = data[(data['release_date'].str.match('6/', na=False)) | (data['release_date'].str.match('7/', na=False)) | (data['release_date'].str.match('8/', na=False))]\n",
    "len(sample)"
   ]
  },
  {
   "cell_type": "code",
   "execution_count": null,
   "metadata": {},
   "outputs": [],
   "source": [
    "answers['22'] = '450'"
   ]
  },
  {
   "cell_type": "markdown",
   "metadata": {
    "colab_type": "text",
    "id": "G94ppOY1VqAA"
   },
   "source": [
    "# 23. Для какого режиссера зима – самое продуктивное время года? "
   ]
  },
  {
   "cell_type": "code",
   "execution_count": null,
   "metadata": {
    "colab": {},
    "colab_type": "code",
    "id": "RhNTsamuVqAB"
   },
   "outputs": [],
   "source": [
    "director_list = {}\n",
    "sample = data[(data['date_of_release'].dt.month == 12) | (data['date_of_release'].dt.month == 1) | (data['date_of_release'].dt.month == 2)]\n",
    "sample.apply(counting_director, axis=1)\n",
    "\n",
    "director_list = sorted(director_list.items(), key=operator.itemgetter(1), reverse = True)\n",
    "director_list[0:9]"
   ]
  },
  {
   "cell_type": "code",
   "execution_count": null,
   "metadata": {},
   "outputs": [],
   "source": [
    "answers['23'] = 'Peter Jackson'"
   ]
  },
  {
   "cell_type": "markdown",
   "metadata": {
    "colab_type": "text",
    "id": "RBo0JVjVVqAF"
   },
   "source": [
    "# 24. Какая студия дает самые длинные названия своим фильмам по количеству символов?"
   ]
  },
  {
   "cell_type": "code",
   "execution_count": null,
   "metadata": {
    "scrolled": true
   },
   "outputs": [],
   "source": [
    "#решение подсмотрено в slack - составит общий список студий, и посчитать сколько среднее значение длины названий фильмов у студии\n",
    "company_list={} # создаем пустой словарь\n",
    "data.apply(search_company, axis=1) # помещаем в данный словарь названия студий, подсчитывая количество их упоминаний\n",
    "\n",
    "# переводим словарь в Series\n",
    "company_list = pd.Series(company_list)\n",
    "\n",
    "# В цикле перебираем название студий и считаем mean длины названий фильмов, если данная студия их снимала \n",
    "for company in company_list.index:\n",
    "    company_list[company] = data['len_title'][data['production_companies'].map(lambda x: True if company in x else False)].mean()\n",
    "\n",
    "company_list = sorted(company_list.items(), key=operator.itemgetter(1), reverse = True)\n",
    "company_list[0:9]\n"
   ]
  },
  {
   "cell_type": "code",
   "execution_count": null,
   "metadata": {},
   "outputs": [],
   "source": [
    "answers['24'] = 'Four By Two Productions'"
   ]
  },
  {
   "cell_type": "markdown",
   "metadata": {
    "colab_type": "text",
    "id": "9G0hbvR7VqAK"
   },
   "source": [
    "# 25. Описание фильмов какой студии в среднем самые длинные по количеству слов?"
   ]
  },
  {
   "cell_type": "code",
   "execution_count": null,
   "metadata": {
    "colab": {},
    "colab_type": "code",
    "id": "Ge2GsLNxVqAK"
   },
   "outputs": [],
   "source": [
    "#решение подсмотрено в slack - составит общий список студий, и посчитать сколько среднее значение длины названий фильмов у студии\n",
    "company_list={} # создаем пустой словарь\n",
    "data.apply(search_company, axis=1) # помещаем в данный словарь названия студий, подсчитывая количество их упоминаний\n",
    "\n",
    "# переводим словарь в Series\n",
    "company_list = pd.Series(company_list)\n",
    "\n",
    "# В цикле перебираем название студий и считаем mean описания фильмов, если данная студия их снимала \n",
    "for company in company_list.index:\n",
    "    company_list[company] = data['len_overview'][data['production_companies'].map(lambda x: True if company in x else False)].mean()\n",
    "\n",
    "company_list = sorted(company_list.items(), key=operator.itemgetter(1), reverse = True)\n",
    "company_list[0:9]"
   ]
  },
  {
   "cell_type": "code",
   "execution_count": null,
   "metadata": {},
   "outputs": [],
   "source": [
    "answers['25'] = 'Midnight Picture Show'"
   ]
  },
  {
   "cell_type": "markdown",
   "metadata": {
    "colab_type": "text",
    "id": "FJ1AFt90VqAP"
   },
   "source": [
    "# 26. Какие фильмы входят в 1 процент лучших по рейтингу? \n",
    "по vote_average"
   ]
  },
  {
   "cell_type": "code",
   "execution_count": null,
   "metadata": {
    "colab": {},
    "colab_type": "code",
    "id": "8qmJVq4CVqAQ"
   },
   "outputs": [],
   "source": [
    "\n",
    "list_vote = []\n",
    "def vote(row):\n",
    "    list_vote.append(data['vote_average'])\n",
    "    return row['vote_average']\n",
    "\n",
    "data.apply(vote, axis=1)\n",
    "range_vote = np.percentile(list_vote,99) # gives the 99th percentile\n",
    "\n",
    "sample = data.loc[data['vote_average'] > range_vote].reset_index(drop=True)\n",
    "sample"
   ]
  },
  {
   "cell_type": "code",
   "execution_count": null,
   "metadata": {},
   "outputs": [],
   "source": [
    "answers['26'] = 'Inside Out, The Dark Knight, 12 Years a Slave'"
   ]
  },
  {
   "cell_type": "markdown",
   "metadata": {
    "colab_type": "text",
    "id": "MdXsUXbCVqAV"
   },
   "source": [
    "# 27. Какие актеры чаще всего снимаются в одном фильме вместе?\n"
   ]
  },
  {
   "cell_type": "code",
   "execution_count": null,
   "metadata": {},
   "outputs": [],
   "source": [
    "pair_actors_list = {}\n",
    "data.apply(search_pair_actors, axis=1)\n",
    "pair_actors_list = sorted(pair_actors_list.items(), key=operator.itemgetter(1), reverse = True)\n",
    "pair_actors_list[0:9]\n"
   ]
  },
  {
   "cell_type": "code",
   "execution_count": null,
   "metadata": {
    "colab_type": "text",
    "id": "4ymnxEVoVqAW"
   },
   "outputs": [],
   "source": [
    "answers['27'] = 'Daniel Radcliffe & Rupert Grint'"
   ]
  },
  {
   "cell_type": "markdown",
   "metadata": {
    "colab_type": "text",
    "id": "U0nONFnGVqAX"
   },
   "source": [
    "# Submission"
   ]
  },
  {
   "cell_type": "code",
   "execution_count": null,
   "metadata": {
    "colab": {},
    "colab_type": "code",
    "id": "IfcaRO9-VqAX",
    "outputId": "0f132912-32bb-4196-c98c-abfbc4ad5a5f"
   },
   "outputs": [],
   "source": [
    "# в конце можно посмотреть свои ответы к каждому вопросу\n",
    "answers"
   ]
  },
  {
   "cell_type": "code",
   "execution_count": null,
   "metadata": {
    "colab": {},
    "colab_type": "code",
    "id": "SiRmHPl8VqAd"
   },
   "outputs": [],
   "source": [
    "# и убедиться что ни чего не пропустил)\n",
    "len(answers)"
   ]
  },
  {
   "cell_type": "code",
   "execution_count": null,
   "metadata": {},
   "outputs": [],
   "source": []
  }
 ],
 "metadata": {
  "colab": {
   "name": "Copy of [SF-DST] Movies IMBD v4.1 TEMPLATE.ipynb",
   "provenance": []
  },
  "kernelspec": {
   "display_name": "Python 3",
   "language": "python",
   "name": "python3"
  },
  "language_info": {
   "codemirror_mode": {
    "name": "ipython",
    "version": 3
   },
   "file_extension": ".py",
   "mimetype": "text/x-python",
   "name": "python",
   "nbconvert_exporter": "python",
   "pygments_lexer": "ipython3",
   "version": "3.7.6"
  }
 },
 "nbformat": 4,
 "nbformat_minor": 1
}
