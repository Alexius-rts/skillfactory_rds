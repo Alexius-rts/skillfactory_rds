{
 "cells": [
  {
   "cell_type": "markdown",
   "metadata": {},
   "source": [
    "Вашей задачей будет построить скоринг модель для вторичных клиентов банка, которая бы предсказывала вероятность дефолта клиента. Для этого нужно будет определить значимые параметры заемщика.\n",
    "\n",
    "\n",
    "данные:\n",
    "\n",
    "Описания полей\n",
    "- client_id - идентификатор клиента\n",
    "- education - уровень образования\n",
    "- sex - пол заемщика\n",
    "- age - возраст заемщика\n",
    "- car - флаг наличия автомобиля\n",
    "- car_type - флаг автомобиля иномарки\n",
    "- decline_app_cnt - количество отказанных прошлых заявок\n",
    "- good_work - флаг наличия “хорошей” работы\n",
    "- bki_request_cnt - количество запросов в БКИ\n",
    "- home_address - категоризатор домашнего адреса\n",
    "- work_address - категоризатор рабочего адреса\n",
    "- income - доход заемщика\n",
    "- foreign_passport - наличие загранпаспорта\n",
    "- sna - связь заемщика с клиентами банка\n",
    "- first_time - давность наличия информации о заемщике\n",
    "- score_bki - скоринговый балл по данным из БКИ\n",
    "- region_rating - рейтинг региона\n",
    "- app_date - дата подачи заявки\n",
    "- default - флаг дефолта по кредиту"
   ]
  },
  {
   "cell_type": "code",
   "execution_count": null,
   "metadata": {
    "_cell_guid": "b1076dfc-b9ad-4769-8c92-a6c4dae69d19",
    "_uuid": "8f2839f25d086af736a60e9eeb907d3b93b6e0e5"
   },
   "outputs": [],
   "source": [
    "# This Python 3 environment comes with many helpful analytics libraries installed\n",
    "# It is defined by the kaggle/python Docker image: https://github.com/kaggle/docker-python\n",
    "# For example, here's several helpful packages to load\n",
    "\n",
    "\n",
    "# Input data files are available in the read-only \"../input/\" directory\n",
    "# For example, running this (by clicking run or pressing Shift+Enter) will list all files under the input directory\n",
    "\n",
    "# You can write up to 20GB to the current directory (/kaggle/working/) that gets preserved as output when you create a version using \"Save & Run All\" \n",
    "# You can also write temporary files to /kaggle/temp/, but they won't be saved outside of the current session\n",
    "\n",
    "import os\n",
    "for dirname, _, filenames in os.walk('/kaggle/input'):\n",
    "    for filename in filenames:\n",
    "        print(os.path.join(dirname, filename))\n",
    "\n",
    "# Any results you write to the current directory are saved as output.\n",
    "PATH_to_file = '/kaggle/input/sf-dst-scoring/'"
   ]
  },
  {
   "cell_type": "code",
   "execution_count": null,
   "metadata": {},
   "outputs": [],
   "source": [
    "# всегда фиксируйте RANDOM_SEED, чтобы ваши эксперименты были воспроизводимы!\n",
    "RANDOM_SEED = 42"
   ]
  },
  {
   "cell_type": "code",
   "execution_count": null,
   "metadata": {},
   "outputs": [],
   "source": [
    "# зафиксируем версию пакетов, чтобы эксперименты были воспроизводимы:\n",
    "!pip freeze > requirements.txt"
   ]
  },
  {
   "cell_type": "markdown",
   "metadata": {},
   "source": [
    "### Импорт библиотек"
   ]
  },
  {
   "cell_type": "code",
   "execution_count": null,
   "metadata": {},
   "outputs": [],
   "source": [
    "import numpy as np # linear algebra\n",
    "import pandas as pd # data processing, CSV file I/O (e.g. pd.read_csv)\n",
    "\n",
    "import matplotlib.pyplot as plt\n",
    "%matplotlib inline\n",
    "\n",
    "import seaborn as sns\n",
    "\n",
    "from sklearn.feature_selection import f_classif, mutual_info_classif\n",
    "from sklearn.preprocessing import LabelEncoder, OneHotEncoder, StandardScaler, RobustScaler, PolynomialFeatures\n",
    "\n",
    "from sklearn.model_selection import train_test_split\n",
    "from sklearn.linear_model import LogisticRegression\n",
    "\n",
    "\n",
    "from sklearn.metrics import confusion_matrix\n",
    "from sklearn.metrics import auc, roc_auc_score, roc_curve, accuracy_score, recall_score, precision_score, f1_score\n",
    "\n",
    "import warnings\n",
    "warnings.filterwarnings(\"ignore\")\n",
    "\n",
    "import datetime as DT"
   ]
  },
  {
   "cell_type": "markdown",
   "metadata": {},
   "source": [
    "### Определение базовых функций"
   ]
  },
  {
   "cell_type": "code",
   "execution_count": null,
   "metadata": {},
   "outputs": [],
   "source": [
    "# Функция по сбору информации по каждому столбцу\n",
    "\n",
    "\n",
    "def my_describe(df):\n",
    "    \"\"\"Отображение описательных статистик датафрейма в удобной форме\"\"\"\n",
    "    temp = {}\n",
    "    temp['Имя признака'] = list(df.columns)\n",
    "    temp['Тип'] = df.dtypes\n",
    "    temp['Всего значений'] = df.describe(include='all').loc['count']\n",
    "    temp['Число пропусков'] = df.isnull().sum().values \n",
    "    temp['Кол-во уникальных'] = df.nunique().values\n",
    "    temp['Минимум'] = df.describe(include='all').loc['min']\n",
    "    temp['Максимум'] = df.describe(include='all').loc['max']\n",
    "    temp['Среднее'] = df.describe(include='all').loc['mean']\n",
    "    temp['Медиана'] = df.describe(include='all').loc['50%']\n",
    "    temp = pd.DataFrame.from_dict(temp, orient='index')\n",
    "    display(temp.T)\n",
    "    return\n",
    "\n",
    "\n",
    "def show_plot_boxplot(df, column, bins=80):\n",
    "    \"\"\"Построение гистограммы по столбцу и boxplot-а\"\"\"\n",
    "    color_text = plt.get_cmap('PuBuGn')(0.9)\n",
    "    plt.style.use('seaborn')\n",
    "    plt.rcParams['figure.figsize'] = (10, 4)\n",
    "    _, axes = plt.subplots(2, 1)\n",
    "    axes[0].hist(df[column], bins=bins)\n",
    "    axes[0].set_title(\"Гистограмма и boxplot для признака \"+column)\n",
    "    axes[1].boxplot(df[column], vert=False, showmeans = True)\n",
    "    axes[1].set_title('')\n",
    "    return\n",
    "\n",
    "\n",
    "# Пропишем функцию расчета IQR и квартилей.\n",
    "\n",
    "def IQR_perc(df,list_cols):\n",
    "    temp = {}\n",
    "    temp['Имя признака'] = list_cols\n",
    "    temp['IQR'] = df[list_cols].quantile(0.75) - df[list_cols].quantile(0.25)\n",
    "    temp['perc25'] = df[list_cols].quantile(0.25)\n",
    "    temp['perc75'] = df[list_cols].quantile(0.75)\n",
    "    temp['Л. граница выбросов'] = df[list_cols].quantile(0.25) - 1.5*(df[list_cols].quantile(0.75) - df[list_cols].quantile(0.25))\n",
    "    temp['П. граница выбросов'] =df[list_cols].quantile(0.75) + 1.5*(df[list_cols].quantile(0.75) - df[list_cols].quantile(0.25))\n",
    "    temp = pd.DataFrame.from_dict(temp, orient='index')\n",
    "    display(temp.T)\n",
    "    return\n",
    "\n",
    "\n",
    "\n",
    "def show_confusion_matrix(y_true, y_pred):\n",
    "    \"\"\"Функция отображает confusion-матрицу\"\"\"\n",
    "    color_text = plt.get_cmap('GnBu')(1.0)\n",
    "    class_names = ['Дефолт', 'НЕ дефолт']\n",
    "    cm = confusion_matrix(y_true, y_pred)\n",
    "    cm[0,0], cm[1,1] = cm[1,1], cm[0,0]\n",
    "    df = pd.DataFrame(cm, index=class_names, columns=class_names)\n",
    "    \n",
    "    fig, ax = plt.subplots(figsize=(4, 4))\n",
    "    ax.set(xticks=np.arange(cm.shape[1]), yticks=np.arange(cm.shape[0]), title=\"Матрица ошибок\")\n",
    "    ax.title.set_fontsize(15)\n",
    "    sns.heatmap(df, square=True, annot=True, fmt=\"d\", linewidths=1, cmap=\"GnBu\")\n",
    "    plt.setp(ax.get_yticklabels(), rotation=0, ha=\"right\", rotation_mode=\"anchor\", fontsize=12)\n",
    "    plt.setp(ax.get_xticklabels(), rotation=0, ha=\"center\", rotation_mode=\"anchor\", fontsize=12)\n",
    "    ax.set_ylabel('Предсказанные значения', fontsize=14, color = color_text)\n",
    "    ax.set_xlabel('Реальные значения', fontsize=14, color = color_text)\n",
    "    b, t = plt.ylim()\n",
    "    plt.ylim(b+0.5, t-0.5)\n",
    "    fig.tight_layout()\n",
    "    plt.show()\n",
    "    \n",
    "    \n",
    "def all_metrics(y_true, y_pred, y_pred_prob):\n",
    "    \"\"\"Функция выводит в виде датафрейма значения основных метрик классификации\"\"\"\n",
    "    dict_metric = {}\n",
    "    P = np.sum(y_true==1)\n",
    "    N = np.sum(y_true==0)\n",
    "    TP = np.sum((y_true==1)&(y_pred==1))\n",
    "    TN = np.sum((y_true==0)&(y_pred==0))\n",
    "    FP = np.sum((y_true==0)&(y_pred==1))\n",
    "    FN = np.sum((y_true==1)&(y_pred==0))\n",
    "    \n",
    "    dict_metric['P'] = [P,'Дефолт']\n",
    "    dict_metric['N'] = [N,'БЕЗ дефолта']\n",
    "    dict_metric['TP'] = [TP,'Истинно дефолтные']\n",
    "    dict_metric['TN'] = [TN,'Истинно НЕ дефолтные']\n",
    "    dict_metric['FP'] = [FP,'Ложно дефолтные']\n",
    "    dict_metric['FN'] = [FN,'Ложно НЕ дефолтные']\n",
    "    dict_metric['Accuracy'] = [accuracy_score(y_true, y_pred),'Accuracy=(TP+TN)/(P+N)']\n",
    "    dict_metric['Precision'] = [precision_score(y_true, y_pred),'Точность = TP/(TP+FP)'] \n",
    "    dict_metric['Recall'] = [recall_score(y_true, y_pred),'Полнота = TP/P']\n",
    "    dict_metric['F1-score'] = [f1_score(y_true, y_pred),'Среднее гармоническое Precision и Recall']\n",
    "    dict_metric['ROC_AUC'] = [roc_auc_score(y_true, y_pred_prob),'ROC-AUC']    \n",
    "\n",
    "    temp_df = pd.DataFrame.from_dict(dict_metric, orient='index', columns=['Значение', 'Описание метрики'])\n",
    "    display(temp_df) \n",
    "\n",
    "def show_roc_curve(y_true, y_pred_prob):\n",
    "    \"\"\"Функция отображает ROC-кривую\"\"\"\n",
    "    fpr, tpr, _ = roc_curve(y_true, y_pred_prob)\n",
    "    plt.figure()\n",
    "    plt.plot([0, 1], label='Случайный классификатор', linestyle='--')\n",
    "    plt.plot(fpr, tpr, label = 'Логистическая регрессия')\n",
    "    plt.title('Логистическая регрессия ROC AUC = %0.3f' % roc_auc_score(y_true, y_pred_prob))\n",
    "    plt.ylabel('True Positive Rate')\n",
    "    plt.xlabel('False Positive Rate')\n",
    "    plt.legend(loc = 'lower right')\n",
    "    plt.show()"
   ]
  },
  {
   "cell_type": "markdown",
   "metadata": {},
   "source": [
    "### DATA"
   ]
  },
  {
   "cell_type": "code",
   "execution_count": null,
   "metadata": {},
   "outputs": [],
   "source": [
    "DATA_DIR = '/kaggle/input/sf-dst-scoring/'\n",
    "df_train = pd.read_csv(DATA_DIR+'/train.csv')\n",
    "df_test = pd.read_csv(DATA_DIR+'test.csv')\n",
    "sample_submission = pd.read_csv(DATA_DIR+'/sample_submission.csv')"
   ]
  },
  {
   "cell_type": "code",
   "execution_count": null,
   "metadata": {},
   "outputs": [],
   "source": [
    "df_train.info()"
   ]
  },
  {
   "cell_type": "code",
   "execution_count": null,
   "metadata": {},
   "outputs": [],
   "source": [
    "df_train.head(5)"
   ]
  },
  {
   "cell_type": "code",
   "execution_count": null,
   "metadata": {},
   "outputs": [],
   "source": [
    "# Построит диаграмму для переменной  'default'  \n",
    "ax = sns.countplot(x=\"default\", data=df_train)"
   ]
  },
  {
   "cell_type": "code",
   "execution_count": null,
   "metadata": {},
   "outputs": [],
   "source": [
    "df_test.info()"
   ]
  },
  {
   "cell_type": "code",
   "execution_count": null,
   "metadata": {},
   "outputs": [],
   "source": [
    "df_test.head(5)"
   ]
  },
  {
   "cell_type": "code",
   "execution_count": null,
   "metadata": {},
   "outputs": [],
   "source": [
    "sample_submission.head(5)"
   ]
  },
  {
   "cell_type": "code",
   "execution_count": null,
   "metadata": {},
   "outputs": [],
   "source": [
    "a = sample_submission.reset_index()\n",
    "a"
   ]
  },
  {
   "cell_type": "code",
   "execution_count": null,
   "metadata": {},
   "outputs": [],
   "source": [
    "sample_submission.info()"
   ]
  },
  {
   "cell_type": "code",
   "execution_count": null,
   "metadata": {},
   "outputs": [],
   "source": [
    "# ВАЖНО! для корректной обработки признаков объединяем трейн и тест в один датасет\n",
    "df_train['sample'] = 1 # помечаем где у нас трейн\n",
    "df_test['sample'] = 0 # помечаем где у нас тест\n",
    "df_test['default'] = 0 # в тесте у нас нет значения default, мы его должны предсказать, по этому пока просто заполняем нулями\n",
    "\n",
    "df = df_test.append(df_train, sort=False).reset_index(drop=True) # объединяем"
   ]
  },
  {
   "cell_type": "markdown",
   "metadata": {},
   "source": [
    "\n",
    "# **Очистка и подготовка данных**"
   ]
  },
  {
   "cell_type": "markdown",
   "metadata": {},
   "source": [
    "## Предобработка данных"
   ]
  },
  {
   "cell_type": "code",
   "execution_count": null,
   "metadata": {},
   "outputs": [],
   "source": [
    "# описываем функцию, заменяющую в строковых столбцах  пробел на None\n",
    "\n",
    "def clear_column(column):\n",
    "    return df[column].astype(str).apply(lambda x: None if x.strip() == '' else x)\n",
    "\n",
    "for col in df.columns:\n",
    "    clear_column(col)"
   ]
  },
  {
   "cell_type": "markdown",
   "metadata": {},
   "source": [
    "## 1. Первичный отсмотр данных"
   ]
  },
  {
   "cell_type": "code",
   "execution_count": null,
   "metadata": {},
   "outputs": [],
   "source": [
    "df.info()"
   ]
  },
  {
   "cell_type": "markdown",
   "metadata": {},
   "source": [
    "### Работа с пропусками"
   ]
  },
  {
   "cell_type": "code",
   "execution_count": null,
   "metadata": {},
   "outputs": [],
   "source": [
    "# построим карту пропусков данных\n",
    "f, ax = plt.subplots(figsize=(12, 5))\n",
    "sns.heatmap(df.isnull(), cbar=True)\n",
    "df.isnull().sum()"
   ]
  },
  {
   "cell_type": "markdown",
   "metadata": {},
   "source": [
    "У наличия пропусков могут быть разные причины, но пропуски нужно либо заполнить, либо исключить из набора полностью. Но с пропусками нужно быть внимательным, даже отсутствие информации может быть важным признаком!\n",
    "По этому перед обработкой NAN лучше вынести информацию о наличии пропуска как отдельный признак"
   ]
  },
  {
   "cell_type": "code",
   "execution_count": null,
   "metadata": {},
   "outputs": [],
   "source": [
    "\n",
    "# Подсчитаем общее число строк с пропусками\n",
    "df.shape[0] - df.dropna().shape[0]"
   ]
  },
  {
   "cell_type": "code",
   "execution_count": null,
   "metadata": {},
   "outputs": [],
   "source": [
    "column = 'education'\n",
    "print(f'Общая доля пропусков в столбце {column}:', round((df[column].isnull().value_counts(normalize=True) * 100),2)[1], '%')\n"
   ]
  },
  {
   "cell_type": "code",
   "execution_count": null,
   "metadata": {},
   "outputs": [],
   "source": [
    "# посмотрим значения 'education'\n",
    "df.education.value_counts().plot.barh()\n",
    "plt.show()"
   ]
  },
  {
   "cell_type": "code",
   "execution_count": null,
   "metadata": {},
   "outputs": [],
   "source": [
    "#пропуски наблюдаем только в столбц \"education\". Создадим новый столбец с признаком пропуска данных в education\n",
    "df['education_isNAN'] = pd.isna(df['education']).astype('uint8')"
   ]
  },
  {
   "cell_type": "markdown",
   "metadata": {},
   "source": [
    "Заполним пропуски, исходя из того, что уровень образования должен коррелироваться с уровнем дохода:"
   ]
  },
  {
   "cell_type": "code",
   "execution_count": null,
   "metadata": {},
   "outputs": [],
   "source": [
    "# посмотрим каков для каждого типа образования средний доход\n",
    "edu_income_mean = round(df.groupby(['education']).income.mean())\n",
    "# отсортируем получившийся датафрейм\n",
    "edu_income_mean.sort_values(inplace=True)"
   ]
  },
  {
   "cell_type": "code",
   "execution_count": null,
   "metadata": {},
   "outputs": [],
   "source": [
    "edu_income_mean\n",
    "# SCH - school, ...., ACD - academic#\n",
    "plt.figure(figsize=(6, 6))\n",
    "plt.ylim(top=200_000)\n",
    "ax = sns.boxplot(x=\"education\", y=\"income\", data=df)"
   ]
  },
  {
   "cell_type": "code",
   "execution_count": null,
   "metadata": {},
   "outputs": [],
   "source": [
    "# заполним пропуски в 'education' словом 'Unknown'\n",
    "df['education'] = df['education'].fillna('Unknown')\n",
    "# нулевым значениям в data['education'] присваиваем значение исходя из значения дохода в сравнении с вилкой среднего дохода\n",
    "# для каждого типа образования c учетом датафрейма edu_income_mean\n",
    "\n",
    "\n",
    "def insert_education(row):\n",
    "    if row['education'] == 'Unknown':\n",
    "        if row['income'] >= (edu_income_mean.iloc[4]+edu_income_mean.iloc[3])/2:\n",
    "            return edu_income_mean.index[4]\n",
    "        if (edu_income_mean.iloc[3]+edu_income_mean.iloc[2])/2 <= row['income'] < (edu_income_mean.iloc[4]+edu_income_mean.iloc[3])/2:\n",
    "            return edu_income_mean.index[3]\n",
    "        if (edu_income_mean.iloc[2]+edu_income_mean.iloc[1])/2 <= row['income'] < (edu_income_mean.iloc[3]+edu_income_mean.iloc[2])/2:\n",
    "            return edu_income_mean.index[2]\n",
    "        if (edu_income_mean.iloc[1]+edu_income_mean.iloc[0])/2 <= row['income'] < (edu_income_mean.iloc[2]+edu_income_mean.iloc[1])/2:\n",
    "            return edu_income_mean.index[1]\n",
    "        if row['income'] < (edu_income_mean.iloc[0]+edu_income_mean.iloc[1])/2:\n",
    "            return edu_income_mean.index[0]\n",
    "    return row['education']\n",
    "\n",
    "\n",
    "df['education'] = df.apply(insert_education, axis=1)"
   ]
  },
  {
   "cell_type": "code",
   "execution_count": null,
   "metadata": {},
   "outputs": [],
   "source": [
    "df.education.value_counts()"
   ]
  },
  {
   "cell_type": "markdown",
   "metadata": {},
   "source": [
    "# 2. Обработка признаков"
   ]
  },
  {
   "cell_type": "markdown",
   "metadata": {},
   "source": [
    "Для начала посмотрим какие признаки у нас могут быть категориальныe, бинарные и числовые:"
   ]
  },
  {
   "cell_type": "code",
   "execution_count": null,
   "metadata": {},
   "outputs": [],
   "source": [
    "df.nunique(dropna=False)"
   ]
  },
  {
   "cell_type": "code",
   "execution_count": null,
   "metadata": {},
   "outputs": [],
   "source": [
    "pd.set_option('display.max_columns', None)\n",
    "df.head(2)"
   ]
  },
  {
   "cell_type": "code",
   "execution_count": null,
   "metadata": {},
   "outputs": [],
   "source": [
    "# сформируем списки столбцов по группам исходя из типов признаков\n",
    "data_cols = ['app_date']\n",
    "num_cols = ['age', 'bki_request_cnt', 'decline_app_cnt', 'income', 'score_bki']\n",
    "bin_cols =['sex', 'car', 'car_type', 'foreign_passport', 'good_work', 'education_isNAN'] \n",
    "cat_cols =['education', 'region_rating', 'home_address','work_address', 'sna', 'first_time']"
   ]
  },
  {
   "cell_type": "markdown",
   "metadata": {},
   "source": [
    "### 2.1. Временные ряды"
   ]
  },
  {
   "cell_type": "code",
   "execution_count": null,
   "metadata": {},
   "outputs": [],
   "source": [
    "column = 'app_date'\n",
    "print(df[column].min())\n",
    "print (df[column].max())"
   ]
  },
  {
   "cell_type": "code",
   "execution_count": null,
   "metadata": {},
   "outputs": [],
   "source": [
    "# Преобразуем строковый признак 'app_date' в дату\n",
    "df[column] = df[column].apply(lambda x: DT.datetime.strptime(x, '%d%b%Y').date())"
   ]
  },
  {
   "cell_type": "code",
   "execution_count": null,
   "metadata": {},
   "outputs": [],
   "source": [
    "# определим диапазон дат и вместо них, назначим признаком число дней от начальной (минимальной)даты.\n",
    "print(df[column].min())\n",
    "print(df[column].max())\n",
    "start_date = df[column].min()\n",
    "df[column] = df[column].apply(lambda x: (x - start_date).days)"
   ]
  },
  {
   "cell_type": "code",
   "execution_count": null,
   "metadata": {},
   "outputs": [],
   "source": [
    "show_plot_boxplot(df,column)\n",
    "num_cols.append(column)"
   ]
  },
  {
   "cell_type": "code",
   "execution_count": null,
   "metadata": {},
   "outputs": [],
   "source": [
    "# Для очистки тренировочного датасета от выбросов в числовых переменных, снова разделим общий датасет по признаку Sample\n",
    "train_data = df.query('sample == 1')\n",
    "test_data = df.query('sample == 0')"
   ]
  },
  {
   "cell_type": "markdown",
   "metadata": {},
   "source": [
    "### 2.2. Числовые признаки"
   ]
  },
  {
   "cell_type": "code",
   "execution_count": null,
   "metadata": {},
   "outputs": [],
   "source": [
    "# посмотрим параметры IQR, гистограммы и боксплоты числовых признаков\n",
    "IQR_perc(train_data, num_cols)\n",
    "for column in num_cols:\n",
    "    show_plot_boxplot(train_data,column)"
   ]
  },
  {
   "cell_type": "markdown",
   "metadata": {},
   "source": [
    "После построения гистограмм стало очевидно, что распределения числовых переменных 'age', 'decline_app_cnt', 'bki_request_cnt', 'income' имеют тяжёлый правый хвост (у 'app_date' - левый), кроме того, почти все числовые признаки (кроме 'age' и 'app_date') содержат выбросы, к которым чувствительна LogisticRegression."
   ]
  },
  {
   "cell_type": "markdown",
   "metadata": {},
   "source": [
    "### 2.2.1 Удаление выбросов"
   ]
  },
  {
   "cell_type": "code",
   "execution_count": null,
   "metadata": {},
   "outputs": [],
   "source": [
    "# у столбцов 'age'и 'app_date'  на боксплотах нет выбросов, поэтому рассмотрим  другие 4 столбца  \n",
    "# подсчитаем количество значений, лежащих за пределами границ выбросов в тренировочном датасете:\n",
    "\n",
    "print('Количество значений за пределами границ выбросов в \"bki_request_cnt\":',\\\n",
    "        len(train_data.loc[train_data['bki_request_cnt'] > 7.5]))\n",
    "print((len(train_data.loc[train_data['bki_request_cnt'] > 7.5]) /train_data.shape[0])*100, '% общего датасета')\n",
    "\n",
    "print('Количество значений за пределами границ выбросов в \"decline_app_cnt\":',\\\n",
    "        len(train_data.loc[train_data['decline_app_cnt'] > 2]))\n",
    "print((len(train_data.loc[train_data['decline_app_cnt'] > 2]) /train_data.shape[0])*100, '% общего датасета')\n",
    " \n",
    "print('Количество значений за пределами границ выбросов в \"income\":',\\\n",
    "        len(train_data.loc[train_data['income'] > 90_000]))\n",
    "print((len(train_data.loc[train_data['income'] > 90_000]) /train_data.shape[0])*100, '% общего датасета')\n",
    "\n",
    "print('Количество значений за пределами границ выбросов в \"score_bki\":',\\\n",
    "        len((train_data.loc[train_data['score_bki'] > -0.52907]) + (train_data.loc[-3.29925 > train_data['score_bki']]))) \n",
    "print((len((train_data.loc[train_data['score_bki'] > -0.52907]) + \\\n",
    "                (train_data.loc[-3.29925 > train_data['score_bki']]))/train_data.shape[0])*100, '% общего датасета')\n"
   ]
  },
  {
   "cell_type": "code",
   "execution_count": null,
   "metadata": {},
   "outputs": [],
   "source": [
    "# Удалим данные выбросы\n",
    "train_data = train_data.drop(train_data[train_data['bki_request_cnt'] > 7.5].index)\n",
    "train_data = train_data.drop(train_data[train_data['decline_app_cnt'] > 5].index)\n",
    "train_data = train_data.drop(train_data[train_data['income'] > 90_000].index)\n",
    "train_data = train_data.drop(train_data[train_data['score_bki'] > -0.52907].index)\n",
    "train_data = train_data.drop(train_data[train_data['score_bki'] < -3.29925].index)     "
   ]
  },
  {
   "cell_type": "code",
   "execution_count": null,
   "metadata": {},
   "outputs": [],
   "source": [
    "# посмотрим параметры IQR, гистограммы и боксплоты числовых признаков\n",
    "IQR_perc(df, num_cols)\n",
    "for column in num_cols:\n",
    "    show_plot_boxplot(train_data,column)"
   ]
  },
  {
   "cell_type": "code",
   "execution_count": null,
   "metadata": {},
   "outputs": [],
   "source": [
    "# для дальнейшей обработки повторно объединим тренировочный и тесовый датасеты в один\n",
    "df = test_data.append(train_data, sort=False).reset_index(drop=True)"
   ]
  },
  {
   "cell_type": "markdown",
   "metadata": {},
   "source": [
    "Для того чтобы сделать распределение данных переменных более нормальным, можно работать с логарифмированными величинами этих переменных. Тогда можно избежать чувствительности к сильным отклонениям в суммах у линейных моделей.\n",
    "\n",
    "Анализ распределений и boxplot-ов показывает, что признак 'score_bki' может быть как положительным, так и отрицательным, его логарифмировать напрямую нельзя, но его распределение и так похоже на нормальное. Возьмем логарифм от числовых признаков за исключением  'score_bki' и построим графики распределения логарифмированных переменных."
   ]
  },
  {
   "cell_type": "code",
   "execution_count": null,
   "metadata": {},
   "outputs": [],
   "source": [
    "## только распределение 'score_bki' выглядит нормально\n",
    "# прологарифмируем остальные столбцы, чтобы сделать распределение данных переменных более нормальным\n",
    "num_cols.remove('score_bki')\n",
    "df[num_cols] = df[num_cols].apply(lambda y: np.log(y+1))\n",
    "num_cols.append('score_bki')"
   ]
  },
  {
   "cell_type": "code",
   "execution_count": null,
   "metadata": {},
   "outputs": [],
   "source": [
    "for column in num_cols:\n",
    "    show_plot_boxplot(df,column)"
   ]
  },
  {
   "cell_type": "markdown",
   "metadata": {},
   "source": [
    "После логарифмирования некоторые переменные стали менее смещёнными."
   ]
  },
  {
   "cell_type": "code",
   "execution_count": null,
   "metadata": {},
   "outputs": [],
   "source": [
    "fig, axes = plt.subplots(2, 3, figsize=(22, 12))\n",
    "plt.subplots_adjust(wspace = 0.2)\n",
    "axes = axes.flatten()\n",
    "for i in range(len(num_cols)):\n",
    "    sns.boxplot(x=\"default\", y=num_cols[i], data=df, orient = 'v', ax=axes[i],  showmeans = True)"
   ]
  },
  {
   "cell_type": "markdown",
   "metadata": {},
   "source": [
    "#### Выводы:\n",
    "- age: Дефолтные клиенты в среднем: младше,\n",
    "- 'bki_request_cnt': Дефолтные клиенты в среднем имеют больше запросов в БКИ\n",
    "- 'decline_app_cnt' Дефолтные клиенты в среднем имеют большее количество отмененных заявок\n",
    "- 'income': Дефолтные клиенты в среднем имеют более низкий доход-\n",
    "- 'app_date': Дефолтные клиенты в среднем имеют более раннюю дату подачи заявки\n",
    "- 'score_bki': Дефолтные клиенты в среднем имеют более высокий скорринговый балл. Возможно это связанно с тем, \n",
    " что до этого более часто брали кредиты, и как следствие улучшали свою кредитную историю "
   ]
  },
  {
   "cell_type": "markdown",
   "metadata": {},
   "source": [
    "### 2.2.2 Корреляция"
   ]
  },
  {
   "cell_type": "code",
   "execution_count": null,
   "metadata": {},
   "outputs": [],
   "source": [
    "correlation = df[num_cols].corr()\n",
    "plt.figure(figsize=(10, 6))\n",
    "sns.heatmap(correlation, annot=True, cmap='coolwarm')"
   ]
  },
  {
   "cell_type": "markdown",
   "metadata": {},
   "source": [
    "Признаки между собой слабо скоррелированы, а значит мы оставляем их все. Никакой признак не удаляем"
   ]
  },
  {
   "cell_type": "markdown",
   "metadata": {},
   "source": [
    "### 2.2.3 Значимость непрерывных переменных"
   ]
  },
  {
   "cell_type": "markdown",
   "metadata": {},
   "source": [
    "В качестве меры значимости мы будем использовать значение f-статистики. Чем значение статистики выше, тем меньше вероятность того, что средние значения не отличаются, и тем важнее данный признак для нашей линейной модели."
   ]
  },
  {
   "cell_type": "code",
   "execution_count": null,
   "metadata": {},
   "outputs": [],
   "source": [
    "# Проанализируем наши числовые признаки\n",
    "imp_num = pd.Series(f_classif(df[num_cols], df['default'])[0], index = num_cols)\n",
    "imp_num.sort_values(inplace = True)\n",
    "imp_num.plot(kind = 'barh')"
   ]
  },
  {
   "cell_type": "markdown",
   "metadata": {},
   "source": [
    "Видим, что наиболее важным признаком явл. score_bki - скоринговый балл по данным из БКИ, а наименее важным - возраст (age)"
   ]
  },
  {
   "cell_type": "markdown",
   "metadata": {},
   "source": [
    "## 2.3. Бинарные признаки"
   ]
  },
  {
   "cell_type": "code",
   "execution_count": null,
   "metadata": {},
   "outputs": [],
   "source": [
    "# Для перевода бинарных признаков в числа мы будем использовать LabelEncoder\n",
    "# В алфавитном порядке: No=0, Yes=1\n",
    "\n",
    "label_encoder = LabelEncoder()\n",
    "\n",
    "for column in bin_cols:\n",
    "    df[column] = label_encoder.fit_transform(df[column])\n",
    "    \n",
    "# убедимся в преобразовании    \n",
    "df.head()"
   ]
  },
  {
   "cell_type": "markdown",
   "metadata": {},
   "source": [
    "## 2.4. Категориальные признаки"
   ]
  },
  {
   "cell_type": "code",
   "execution_count": null,
   "metadata": {},
   "outputs": [],
   "source": [
    "# Переведем категориальные признаки в числа\n",
    "# в алфавитном порядке => education{0: 'ACD', 1: 'GRD', 2: 'PGR', 3: 'SCH', 4: 'UGR'}\n",
    "label_encoder = LabelEncoder()\n",
    "\n",
    "for column in cat_cols:\n",
    "    df[column] = label_encoder.fit_transform(df[column])\n",
    "df.head()"
   ]
  },
  {
   "cell_type": "code",
   "execution_count": null,
   "metadata": {},
   "outputs": [],
   "source": [
    "\"\"\"Для оценки значимости категориальных и бинарных переменных будем использовать функцию mutual_info_classif \n",
    "из библиотеки sklearn. Данная функция опирается на непараметрические методы, основанные на оценке энтропии \n",
    "в группах категориальных переменных.\"\"\"\n",
    "\n",
    "imp_cat = pd.Series(mutual_info_classif(df[bin_cols + cat_cols], df['default'],\n",
    "                                     discrete_features =True), index = bin_cols + cat_cols)\n",
    "imp_cat.sort_values(inplace = True)\n",
    "imp_cat.plot(kind = 'barh')"
   ]
  },
  {
   "cell_type": "markdown",
   "metadata": {},
   "source": [
    "Видим, что наиболее важным признаком явл. sna - связь заемщика с клиентами банка, а наименее важным -пол (sex), и вновь добавленый признак отсутствия (в датасете) образования - менее чем  у полупроцента людей из выборки"
   ]
  },
  {
   "cell_type": "markdown",
   "metadata": {},
   "source": [
    "## 3. Подготовка данных к машинному обучению"
   ]
  },
  {
   "cell_type": "markdown",
   "metadata": {},
   "source": [
    "Разбиваем датасет на тренировочный и тестовый, удалив лишние столбцы"
   ]
  },
  {
   "cell_type": "code",
   "execution_count": null,
   "metadata": {},
   "outputs": [],
   "source": [
    "train_data = df.query('sample == 1').drop(['sample', 'client_id'], axis=1)\n",
    "\n",
    "test_data = df.query('sample == 0').drop(['sample','default'], axis=1)\n",
    "# Сохраним ID клиентов из тестового набора для  формирования Submission\n",
    "id_test = test_data.client_id\n",
    "# Удалим ID клиентов из тестового набора для последующего формирования признакового проостранства\n",
    "test_data = test_data.drop(['client_id'], axis=1)\n",
    "\n",
    "\n",
    "# переведем категориальные данные в фиктивные переменные с удалением исходных столбцов из датафрейма\n",
    "train = pd.get_dummies(train_data, columns=cat_cols, dummy_na=False, dtype='uint8')"
   ]
  },
  {
   "cell_type": "code",
   "execution_count": null,
   "metadata": {},
   "outputs": [],
   "source": [
    "train.head(2)"
   ]
  },
  {
   "cell_type": "code",
   "execution_count": null,
   "metadata": {},
   "outputs": [],
   "source": [
    "y = train.default.values            # наша целевая переменная\n",
    "X = train.drop(['default'], axis=1)"
   ]
  },
  {
   "cell_type": "code",
   "execution_count": null,
   "metadata": {},
   "outputs": [],
   "source": []
  },
  {
   "cell_type": "code",
   "execution_count": null,
   "metadata": {},
   "outputs": [],
   "source": [
    "# Разделим данные для обучения следующим образом:\n",
    "X_train, X_test, y_train, y_test = train_test_split(X,y , test_size=0.20, random_state=RANDOM_SEED)\n",
    "X_train.shape, X_test.shape, y_train.shape, y_test.shape"
   ]
  },
  {
   "cell_type": "markdown",
   "metadata": {},
   "source": [
    "## 4. Оценка качества модели"
   ]
  },
  {
   "cell_type": "markdown",
   "metadata": {},
   "source": [
    "### 4.1 Модель без гиперпараметров"
   ]
  },
  {
   "cell_type": "code",
   "execution_count": null,
   "metadata": {},
   "outputs": [],
   "source": [
    "#model = LogisticRegression()\n",
    "model_one = LogisticRegression(random_state=RANDOM_SEED)\n",
    "model_one.fit(X_train, y_train)\n",
    "\n",
    "# Предсказываем вероятность и значения целевой переменной\n",
    "y_pred_prob = model_one.predict_proba(X_test)[:,1]\n",
    "y_pred = model_one.predict(X_test)\n",
    "\n",
    "# Оценка качества модели\n",
    "all_metrics(y_test, y_pred, y_pred_prob)\n",
    "show_roc_curve(y_test, y_pred_prob)\n",
    "show_confusion_matrix(y_test, y_pred)"
   ]
  },
  {
   "cell_type": "markdown",
   "metadata": {},
   "source": [
    "##### ВЫВОДЫ: \n",
    "Не угаданы дефолтные клиенты. Несмотря на то, что ROC-AUC высокий (эта кривая плохо оценивает эффективность алгоритма на несбалансированных данных). Значение точности, полноты и f1 сигнализирует о том что что-то не в порядке. Построенная модель очень плохая: из матрицы ошибок видно, что мы почти не угадываем дефолтных клиентов (40 из 1718). Это показывает и метрика recall = 0.023283. Таким образом, на основе выводов модели деньги будут выданы людям, которые их не смогут вернуть"
   ]
  },
  {
   "cell_type": "markdown",
   "metadata": {},
   "source": [
    "### 4.2. Модель без гиперпараметров, но с нормализацией числовых признаков (RobastScaler)"
   ]
  },
  {
   "cell_type": "markdown",
   "metadata": {},
   "source": [
    "Попробуем выполнить нормировку с помощью RobastScaler, которая при нормализации использует медианы и   квантили, поэтому не чувствительна к выбросам и может приводить к лучшим результатам."
   ]
  },
  {
   "cell_type": "code",
   "execution_count": null,
   "metadata": {},
   "outputs": [],
   "source": [
    "# При помощи RobastScaler нормируем числовые данные из тренировочного датасета сразу после разделения \n",
    "# и приводим к виду 2-мерного массива\n",
    "r_scaler = RobustScaler().fit(train_data[num_cols].values)\n",
    "r_scaler.transform(test_data[num_cols].values)\n",
    "\n",
    "\n",
    "\n",
    "\n",
    "\n",
    "X_num = r_scaler.transform(train_data[num_cols].values)\n",
    "X_num_test = r_scaler.transform(test_data[num_cols].values)\n",
    "# преобразуем категориальные данные в 2-х мерный массив, наподобие get_dummies\n",
    "\"\"\"По умолчанию OneHotEncoder преобразует данные в разреженную матрицу(sparse = True), чтобы не расходовать память на хранение многочисленных \n",
    "нулей. При (sparse = False) вернет массив\"\"\"\n",
    "X_cat = OneHotEncoder(sparse = False).fit_transform(train_data[cat_cols].values)\n",
    "X_cat_test = OneHotEncoder(sparse = False).fit_transform(test_data[cat_cols].values)\n",
    "# Объединяем (числовые, двоичные, и категориальные)\n",
    "X = np.hstack([X_num, train_data[bin_cols].values, X_cat])\n",
    "Test = np.hstack([X_num_test, test_data[bin_cols].values, X_cat_test])\n",
    "y = train_data['default'].values\n",
    "\n",
    "# Разбиваем датасет на тренировочный и тестовый, выделив 20% данных на валидацию\n",
    "X_train, X_test, y_train, y_test = train_test_split(X, y, test_size=0.2, random_state=RANDOM_SEED)\n",
    "\n",
    "# Обучаем модель\n",
    "model_two = LogisticRegression(random_state=RANDOM_SEED)\n",
    "\n",
    "model_two.fit(X_train, y_train)\n",
    "\n",
    "# Предсказываем\n",
    "y_pred_prob = model_two.predict_proba(X_test)[:,1]\n",
    "y_pred = model_two.predict(X_test)\n",
    "\n",
    "# Оценка качества модели\n",
    "all_metrics(y_test, y_pred, y_pred_prob)\n",
    "show_roc_curve(y_test, y_pred_prob)\n",
    "show_confusion_matrix(y_test, y_pred)"
   ]
  },
  {
   "cell_type": "markdown",
   "metadata": {},
   "source": [
    "ВЫВОД: RobustScaler не улучшил качество модели"
   ]
  },
  {
   "cell_type": "markdown",
   "metadata": {},
   "source": [
    "### 4.3. Модель с гиперпараметрами"
   ]
  },
  {
   "cell_type": "code",
   "execution_count": null,
   "metadata": {},
   "outputs": [],
   "source": [
    "from sklearn.model_selection import GridSearchCV\n",
    "\n",
    "C = np.logspace(0, 4, 10)\n",
    "iter_ = 50\n",
    "epsilon_stop = 1e-3\n",
    " \n",
    "hyperparameters = [\n",
    "    {'penalty': ['l1'], \n",
    "     'C': C,  \n",
    "     'max_iter':[iter_],\n",
    "     'tol':[epsilon_stop]},\n",
    "    {'penalty': ['l2'], \n",
    "     'C': C, \n",
    "     'max_iter':[iter_],\n",
    "     'tol':[epsilon_stop]},\n",
    "    {'penalty': ['none'], \n",
    "     'C': C, \n",
    "     'max_iter':[iter_],\n",
    "     'tol':[epsilon_stop]},\n",
    "]\n",
    "\n",
    "model = LogisticRegression()\n",
    "model.fit(X_train, y_train)\n",
    "\n",
    "# Создаем сетку поиска с использованием 5-кратной перекрестной проверки\n",
    "clf = GridSearchCV(model, hyperparameters, cv=5, verbose=0)\n",
    "\n",
    "best_model = clf.fit(X_train, y_train)\n",
    "\n",
    "# View best hyperparameters\n",
    "print('Лучшее Penalty:', best_model.best_estimator_.get_params()['penalty'])\n",
    "print('Лучшее C:', best_model.best_estimator_.get_params()['C'])\n",
    "print('Лучшее max_iter:', best_model.best_estimator_.get_params()['max_iter'])\n",
    "print('Лучшее tol:', best_model.best_estimator_.get_params()['tol'])\n"
   ]
  },
  {
   "cell_type": "code",
   "execution_count": null,
   "metadata": {},
   "outputs": [],
   "source": [
    "y = train.default.values            # наша целевая переменная\n",
    "X = train.drop(['default'], axis=1)\n",
    "\n",
    "# Разделим данные для обучения следующим образом:\n",
    "X_train, X_test, y_train, y_test = train_test_split(X,y , test_size=0.20, random_state=RANDOM_SEED)\n",
    "X_train.shape, X_test.shape, y_train.shape, y_test.shape\n",
    "\n",
    "# C=166.81\n",
    "model_3 = LogisticRegression(penalty='l2', C=2.7825594022071245, max_iter=50, class_weight ='balanced', tol= 0.001)\n",
    "model_3.fit(X_train, y_train)\n",
    "\n",
    "# Предсказываем вероятность и значения целевой переменной\n",
    "y_pred_prob = model_3.predict_proba(X_test)[:,1]\n",
    "y_pred = model_3.predict(X_test)\n",
    "\n",
    "# Оценка качества модели\n",
    "all_metrics(y_test, y_pred, y_pred_prob)\n",
    "show_roc_curve(y_test, y_pred_prob)\n",
    "show_confusion_matrix(y_test, y_pred)"
   ]
  },
  {
   "cell_type": "markdown",
   "metadata": {},
   "source": [
    "ВЫВОДЫ: \n",
    " - Построенная модель по сравнению с первой уже лучше определяет дефолтных клиентов, но в ней увеличилась ошибка распознавания не дефолтных клиентов. В такой ситуации банк рискует недополучить прибыль. Удалось увеличить показания Recall.\n",
    "- Удаление малозначительных признаков 'education_isNAN', 'age' и 'sex' метрики модели не  улучшило, а ухудшило, в следствие чего признаки пришлось оставить"
   ]
  },
  {
   "cell_type": "markdown",
   "metadata": {},
   "source": [
    "### Модель 4. Полиномиальные признаки, RobastScaler и гиперпараметры"
   ]
  },
  {
   "cell_type": "code",
   "execution_count": null,
   "metadata": {},
   "outputs": [],
   "source": [
    "# Преобразуем числовые признаки в полиномиальные\n",
    "poly = PolynomialFeatures(3)\n",
    "X_num = poly.fit_transform(train_data[num_cols].values)\n",
    "X_num_test =poly.fit_transform(test_data[num_cols].values)\n",
    "# При помощи RobastScaler нормируем числовые данные из тренировочного датасета сразу после разделения \n",
    "# и приводим к виду 2-мерного массива\n",
    "\n",
    "r_scaler = RobustScaler().fit(train_data[num_cols].values)\n",
    "r_scaler.transform(test_data[num_cols].values)\n",
    "\n",
    "\n",
    "X_num = r_scaler.transform(train_data[num_cols].values)\n",
    "X_num_test = r_scaler.transform(test_data[num_cols].values)\n",
    "\n",
    "# преобразуем категориальные данные в 2-х мерный массив, наподобие get_dummies\n",
    "\"\"\"По умолчанию OneHotEncoder преобразует данные в разреженную матрицу(sparse = True), чтобы не расходовать память на хранение многочисленных \n",
    "нулей. При (sparse = False) вернет массив\"\"\"\n",
    "X_cat = OneHotEncoder(sparse = False).fit_transform(train_data[cat_cols].values)\n",
    "X_cat_test = OneHotEncoder(sparse = False).fit_transform(test_data[cat_cols].values)\n",
    "# Объединяем (числовые, двоичные, и категориальные)\n",
    "X = np.hstack([X_num, train_data[bin_cols].values, X_cat])\n",
    "Test = np.hstack([X_num_test, test_data[bin_cols].values, X_cat_test])\n",
    "y = train_data['default'].values\n",
    "\n",
    "# Разбиваем датасет на тренировочный и тестовый, выделив 20% данных на валидацию\n",
    "X_train, X_test, y_train, y_test = train_test_split(X, y, test_size=0.2, random_state=RANDOM_SEED)\n",
    "\n",
    "# Находим лучшие гиперпараметры\n",
    "from sklearn.model_selection import GridSearchCV\n",
    "\n",
    "C = np.logspace(0, 4, 10)\n",
    "iter_ = 50\n",
    "epsilon_stop = 1e-3\n",
    " \n",
    "hyperparameters = [\n",
    "    {'penalty': ['l1'], \n",
    "     'C': C,  \n",
    "     'max_iter':[iter_],\n",
    "     'tol':[epsilon_stop]},\n",
    "    {'penalty': ['l2'], \n",
    "     'C': C, \n",
    "     'max_iter':[iter_],\n",
    "     'tol':[epsilon_stop]},\n",
    "    {'penalty': ['none'], \n",
    "     'C': C, \n",
    "     'max_iter':[iter_],\n",
    "     'tol':[epsilon_stop]},\n",
    "]\n",
    "\n",
    "model = LogisticRegression()\n",
    "model.fit(X_train, y_train)\n",
    "\n",
    "# Создаем сетку поиска с использованием 5-кратной перекрестной проверки\n",
    "clf = GridSearchCV(model, hyperparameters, cv=5, verbose=0)\n",
    "\n",
    "best_model = clf.fit(X_train, y_train)\n",
    "\n",
    "# View best hyperparameters\n",
    "print('Лучшее Penalty:', best_model.best_estimator_.get_params()['penalty'])\n",
    "print('Лучшее C:', best_model.best_estimator_.get_params()['C'])\n",
    "print('Лучшее max_iter:', best_model.best_estimator_.get_params()['max_iter'])\n",
    "print('Лучшее tol:', best_model.best_estimator_.get_params()['tol'])"
   ]
  },
  {
   "cell_type": "code",
   "execution_count": null,
   "metadata": {},
   "outputs": [],
   "source": [
    "# Передача лучших гиперпараметров непосредственно в модель, что позволяет пропустить пункт обучения модели\n",
    "#model_4 = best_model.best_estimator_\n",
    "\n",
    "\n",
    "# Обучаем модель\n",
    "# Вычислив 'penalty' с помощью GridSearchCV, исходя из его значения вручную подберем оптимальный 'solver'\n",
    "model_4 = LogisticRegression(penalty='l2', C=2.7825594022071245, max_iter=50, solver='sag', class_weight ='balanced', tol= 0.001, random_state=RANDOM_SEED)\n",
    "\n",
    "model_4.fit(X_train, y_train)\n",
    "\n",
    "# Предсказываем\n",
    "y_pred_prob = model_4.predict_proba(X_test)[:,1]\n",
    "y_pred = model_4.predict(X_test)\n",
    "\n",
    "# Оценка качества модели\n",
    "all_metrics(y_test, y_pred, y_pred_prob)\n",
    "show_roc_curve(y_test, y_pred_prob)\n",
    "show_confusion_matrix(y_test, y_pred)\n"
   ]
  },
  {
   "cell_type": "markdown",
   "metadata": {},
   "source": [
    "ВЫВОДЫ: \n",
    " - Построенная модель при добавлении полиномиальных признаков по сравнению с третьей  дала некоторое улучшение - recall немного улучшился"
   ]
  },
  {
   "cell_type": "markdown",
   "metadata": {},
   "source": [
    "### 5. Submission"
   ]
  },
  {
   "cell_type": "markdown",
   "metadata": {},
   "source": [
    "По ходу анализа набора данных  train соответствующие действия производились с набором test:\n",
    "\n",
    "- заполнили пропуски в test.education исходя из значения дохода;\n",
    "- преобразовали признак app_date (дата подачи заявки) в разницу между датой, указанной в столбце app_date и датой подачи первой заявки (01.01.2014) в днях;\n",
    "- взяли логарифм от числовых признаков age, decline_app_cnt, bki_request_cnt, incom, app_date\n",
    "- преобразовали бинарные переменные при помощи класса LabelEncoder;\n",
    "- преобразовали признак education в численный формат;\n",
    "- стандартизировали числовые признаки(RobustScaler), а также воспользоваться dummy-кодированием для категориальных переменных"
   ]
  },
  {
   "cell_type": "markdown",
   "metadata": {},
   "source": [
    "Готовим Submission на кагл:"
   ]
  },
  {
   "cell_type": "code",
   "execution_count": null,
   "metadata": {},
   "outputs": [],
   "source": [
    "test_data.sample(3)\n"
   ]
  },
  {
   "cell_type": "code",
   "execution_count": null,
   "metadata": {},
   "outputs": [],
   "source": [
    "sample_submission"
   ]
  },
  {
   "cell_type": "code",
   "execution_count": null,
   "metadata": {},
   "outputs": [],
   "source": [
    "# Формируем свой submission\n",
    "pred_prob_submission = model_4.predict_proba(Test)[:,1]\n",
    "\n",
    "submission = pd.DataFrame({'client_id': id_test, \n",
    "                            'default': pred_prob_submission})\n",
    "submission.to_csv('submission.csv', index=False)\n",
    "submission"
   ]
  },
  {
   "cell_type": "markdown",
   "metadata": {},
   "source": [
    "#### В рамках имеющегося времени удалось:\n",
    "- Построить 4 модели\n",
    "- От дисбаланса классов  в выборке избавились посредство гиперпараметра class_weight ='balanced'\n",
    "- Создать полиномиальные признаки\n",
    "- Избавиться от выбросов в числовых признаках"
   ]
  }
 ],
 "metadata": {
  "kernelspec": {
   "display_name": "Python 3",
   "language": "python",
   "name": "python3"
  },
  "language_info": {
   "codemirror_mode": {
    "name": "ipython",
    "version": 3
   },
   "file_extension": ".py",
   "mimetype": "text/x-python",
   "name": "python",
   "nbconvert_exporter": "python",
   "pygments_lexer": "ipython3",
   "version": "3.7.9"
  }
 },
 "nbformat": 4,
 "nbformat_minor": 4
}
