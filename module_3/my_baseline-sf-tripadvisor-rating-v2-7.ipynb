{
 "cells": [
  {
   "cell_type": "markdown",
   "metadata": {},
   "source": [
    "### Итоговое задание Беломойкина Алексея по Проекту 3. О вкусной и здоровой пище (SF-DST-18)"
   ]
  },
  {
   "cell_type": "markdown",
   "metadata": {},
   "source": [
    "![](https://www.pata.org/wp-content/uploads/2014/09/TripAdvisor_Logo-300x119.png)\n",
    "# Predict TripAdvisor Rating\n",
    "## В этом соревновании нам предстоит предсказать рейтинг ресторана в TripAdvisor\n",
    "**По ходу задачи:**\n",
    "* Прокачаем работу с pandas\n",
    "* Научимся работать с Kaggle Notebooks\n",
    "* Поймем как делать предобработку различных данных\n",
    "* Научимся работать с пропущенными данными (Nan)\n",
    "* Познакомимся с различными видами кодирования признаков\n",
    "* Немного попробуем [Feature Engineering](https://ru.wikipedia.org/wiki/Конструирование_признаков) (генерировать новые признаки)\n",
    "* И совсем немного затронем ML\n",
    "* И многое другое...   \n",
    "\n",
    "\n",
    "\n",
    "### И самое важное, все это вы сможете сделать самостоятельно!\n",
    "\n",
    "*Этот Ноутбук являетсся Примером/Шаблоном к этому соревнованию (Baseline) и не служит готовым решением!*   \n",
    "Вы можете использовать его как основу для построения своего решения.\n",
    "\n",
    "> что такое baseline решение, зачем оно нужно и почему предоставлять baseline к соревнованию стало важным стандартом на kaggle и других площадках.   \n",
    "**baseline** создается больше как шаблон, где можно посмотреть как происходит обращение с входящими данными и что нужно получить на выходе. При этом МЛ начинка может быть достаточно простой, просто для примера. Это помогает быстрее приступить к самому МЛ, а не тратить ценное время на чисто инженерные задачи. \n",
    "Также baseline являеться хорошей опорной точкой по метрике. Если твое решение хуже baseline - ты явно делаешь что-то не то и стоит попробовать другой путь) \n",
    "\n",
    "В контексте нашего соревнования baseline идет с небольшими примерами того, что можно делать с данными, и с инструкцией, что делать дальше, чтобы улучшить результат.  Вообще готовым решением это сложно назвать, так как используются всего 2 самых простых признака (а остальные исключаются)."
   ]
  },
  {
   "cell_type": "markdown",
   "metadata": {},
   "source": [
    "# import"
   ]
  },
  {
   "cell_type": "code",
   "execution_count": 1,
   "metadata": {
    "_cell_guid": "b1076dfc-b9ad-4769-8c92-a6c4dae69d19",
    "_uuid": "8f2839f25d086af736a60e9eeb907d3b93b6e0e5"
   },
   "outputs": [
    {
     "name": "stdout",
     "output_type": "stream",
     "text": [
      "/kaggle/input/sf-dst-restaurant-rating/main_task.csv\n",
      "/kaggle/input/sf-dst-restaurant-rating/kaggle_task.csv\n",
      "/kaggle/input/sf-dst-restaurant-rating/sample_submission.csv\n"
     ]
    }
   ],
   "source": [
    "# This Python 3 environment comes with many helpful analytics libraries installed\n",
    "# It is defined by the kaggle/python docker image: https://github.com/kaggle/docker-python\n",
    "# For example, here's several helpful packages to load in \n",
    "\n",
    "import numpy as np # linear algebra\n",
    "import pandas as pd # data processing, CSV file I/O (e.g. pd.read_csv)\n",
    "\n",
    "import matplotlib.pyplot as plt\n",
    "import seaborn as sns \n",
    "%matplotlib inline\n",
    "\n",
    "import operator\n",
    "from collections import Counter\n",
    "import datetime as DT\n",
    "\n",
    "# Загружаем специальный удобный инструмент для разделения датасета:\n",
    "from sklearn.model_selection import train_test_split\n",
    "\n",
    "\n",
    "# Input data files are available in the \"../input/\" directory.\n",
    "# For example, running this (by clicking run or pressing Shift+Enter) will list all files under the input directory\n",
    "\n",
    "import os\n",
    "for dirname, _, filenames in os.walk('/kaggle/input'):\n",
    "    for filename in filenames:\n",
    "        print(os.path.join(dirname, filename))\n",
    "\n",
    "# Any results you write to the current directory are saved as output."
   ]
  },
  {
   "cell_type": "code",
   "execution_count": 2,
   "metadata": {},
   "outputs": [],
   "source": [
    "# всегда фиксируйте RANDOM_SEED, чтобы ваши эксперименты были воспроизводимы!\n",
    "RANDOM_SEED = 42"
   ]
  },
  {
   "cell_type": "code",
   "execution_count": 3,
   "metadata": {},
   "outputs": [],
   "source": [
    "# зафиксируем версию пакетов, чтобы эксперименты были воспроизводимы:\n",
    "!pip freeze > requirements.txt"
   ]
  },
  {
   "cell_type": "markdown",
   "metadata": {},
   "source": [
    "# DATA"
   ]
  },
  {
   "cell_type": "code",
   "execution_count": 4,
   "metadata": {
    "_cell_guid": "79c7e3d0-c299-4dcb-8224-4455121ee9b0",
    "_uuid": "d629ff2d2480ee46fbb7e2d37f6b5fab8052498a"
   },
   "outputs": [],
   "source": [
    "DATA_DIR = '/kaggle/input/sf-dst-restaurant-rating/'\n",
    "df_train = pd.read_csv(DATA_DIR+'/main_task.csv')\n",
    "df_test = pd.read_csv(DATA_DIR+'kaggle_task.csv')\n",
    "sample_submission = pd.read_csv(DATA_DIR+'/sample_submission.csv')"
   ]
  },
  {
   "cell_type": "code",
   "execution_count": 5,
   "metadata": {},
   "outputs": [
    {
     "name": "stdout",
     "output_type": "stream",
     "text": [
      "<class 'pandas.core.frame.DataFrame'>\n",
      "RangeIndex: 40000 entries, 0 to 39999\n",
      "Data columns (total 10 columns):\n",
      "Restaurant_id        40000 non-null object\n",
      "City                 40000 non-null object\n",
      "Cuisine Style        30717 non-null object\n",
      "Ranking              40000 non-null float64\n",
      "Rating               40000 non-null float64\n",
      "Price Range          26114 non-null object\n",
      "Number of Reviews    37457 non-null float64\n",
      "Reviews              40000 non-null object\n",
      "URL_TA               40000 non-null object\n",
      "ID_TA                40000 non-null object\n",
      "dtypes: float64(3), object(7)\n",
      "memory usage: 3.1+ MB\n"
     ]
    }
   ],
   "source": [
    "df_train.info()"
   ]
  },
  {
   "cell_type": "code",
   "execution_count": 6,
   "metadata": {},
   "outputs": [
    {
     "data": {
      "text/html": [
       "<div>\n",
       "<style scoped>\n",
       "    .dataframe tbody tr th:only-of-type {\n",
       "        vertical-align: middle;\n",
       "    }\n",
       "\n",
       "    .dataframe tbody tr th {\n",
       "        vertical-align: top;\n",
       "    }\n",
       "\n",
       "    .dataframe thead th {\n",
       "        text-align: right;\n",
       "    }\n",
       "</style>\n",
       "<table border=\"1\" class=\"dataframe\">\n",
       "  <thead>\n",
       "    <tr style=\"text-align: right;\">\n",
       "      <th></th>\n",
       "      <th>Restaurant_id</th>\n",
       "      <th>City</th>\n",
       "      <th>Cuisine Style</th>\n",
       "      <th>Ranking</th>\n",
       "      <th>Rating</th>\n",
       "      <th>Price Range</th>\n",
       "      <th>Number of Reviews</th>\n",
       "      <th>Reviews</th>\n",
       "      <th>URL_TA</th>\n",
       "      <th>ID_TA</th>\n",
       "    </tr>\n",
       "  </thead>\n",
       "  <tbody>\n",
       "    <tr>\n",
       "      <th>0</th>\n",
       "      <td>id_5569</td>\n",
       "      <td>Paris</td>\n",
       "      <td>['European', 'French', 'International']</td>\n",
       "      <td>5570.0</td>\n",
       "      <td>3.5</td>\n",
       "      <td>$$ - $$$</td>\n",
       "      <td>194.0</td>\n",
       "      <td>[['Good food at your doorstep', 'A good hotel ...</td>\n",
       "      <td>/Restaurant_Review-g187147-d1912643-Reviews-R_...</td>\n",
       "      <td>d1912643</td>\n",
       "    </tr>\n",
       "    <tr>\n",
       "      <th>1</th>\n",
       "      <td>id_1535</td>\n",
       "      <td>Stockholm</td>\n",
       "      <td>NaN</td>\n",
       "      <td>1537.0</td>\n",
       "      <td>4.0</td>\n",
       "      <td>NaN</td>\n",
       "      <td>10.0</td>\n",
       "      <td>[['Unique cuisine', 'Delicious Nepalese food']...</td>\n",
       "      <td>/Restaurant_Review-g189852-d7992032-Reviews-Bu...</td>\n",
       "      <td>d7992032</td>\n",
       "    </tr>\n",
       "    <tr>\n",
       "      <th>2</th>\n",
       "      <td>id_352</td>\n",
       "      <td>London</td>\n",
       "      <td>['Japanese', 'Sushi', 'Asian', 'Grill', 'Veget...</td>\n",
       "      <td>353.0</td>\n",
       "      <td>4.5</td>\n",
       "      <td>$$$$</td>\n",
       "      <td>688.0</td>\n",
       "      <td>[['Catch up with friends', 'Not exceptional'],...</td>\n",
       "      <td>/Restaurant_Review-g186338-d8632781-Reviews-RO...</td>\n",
       "      <td>d8632781</td>\n",
       "    </tr>\n",
       "    <tr>\n",
       "      <th>3</th>\n",
       "      <td>id_3456</td>\n",
       "      <td>Berlin</td>\n",
       "      <td>NaN</td>\n",
       "      <td>3458.0</td>\n",
       "      <td>5.0</td>\n",
       "      <td>NaN</td>\n",
       "      <td>3.0</td>\n",
       "      <td>[[], []]</td>\n",
       "      <td>/Restaurant_Review-g187323-d1358776-Reviews-Es...</td>\n",
       "      <td>d1358776</td>\n",
       "    </tr>\n",
       "    <tr>\n",
       "      <th>4</th>\n",
       "      <td>id_615</td>\n",
       "      <td>Munich</td>\n",
       "      <td>['German', 'Central European', 'Vegetarian Fri...</td>\n",
       "      <td>621.0</td>\n",
       "      <td>4.0</td>\n",
       "      <td>$$ - $$$</td>\n",
       "      <td>84.0</td>\n",
       "      <td>[['Best place to try a Bavarian food', 'Nice b...</td>\n",
       "      <td>/Restaurant_Review-g187309-d6864963-Reviews-Au...</td>\n",
       "      <td>d6864963</td>\n",
       "    </tr>\n",
       "  </tbody>\n",
       "</table>\n",
       "</div>"
      ],
      "text/plain": [
       "  Restaurant_id       City                                      Cuisine Style  \\\n",
       "0       id_5569      Paris            ['European', 'French', 'International']   \n",
       "1       id_1535  Stockholm                                                NaN   \n",
       "2        id_352     London  ['Japanese', 'Sushi', 'Asian', 'Grill', 'Veget...   \n",
       "3       id_3456     Berlin                                                NaN   \n",
       "4        id_615     Munich  ['German', 'Central European', 'Vegetarian Fri...   \n",
       "\n",
       "   Ranking  Rating Price Range  Number of Reviews  \\\n",
       "0   5570.0     3.5    $$ - $$$              194.0   \n",
       "1   1537.0     4.0         NaN               10.0   \n",
       "2    353.0     4.5        $$$$              688.0   \n",
       "3   3458.0     5.0         NaN                3.0   \n",
       "4    621.0     4.0    $$ - $$$               84.0   \n",
       "\n",
       "                                             Reviews  \\\n",
       "0  [['Good food at your doorstep', 'A good hotel ...   \n",
       "1  [['Unique cuisine', 'Delicious Nepalese food']...   \n",
       "2  [['Catch up with friends', 'Not exceptional'],...   \n",
       "3                                           [[], []]   \n",
       "4  [['Best place to try a Bavarian food', 'Nice b...   \n",
       "\n",
       "                                              URL_TA     ID_TA  \n",
       "0  /Restaurant_Review-g187147-d1912643-Reviews-R_...  d1912643  \n",
       "1  /Restaurant_Review-g189852-d7992032-Reviews-Bu...  d7992032  \n",
       "2  /Restaurant_Review-g186338-d8632781-Reviews-RO...  d8632781  \n",
       "3  /Restaurant_Review-g187323-d1358776-Reviews-Es...  d1358776  \n",
       "4  /Restaurant_Review-g187309-d6864963-Reviews-Au...  d6864963  "
      ]
     },
     "execution_count": 6,
     "metadata": {},
     "output_type": "execute_result"
    }
   ],
   "source": [
    "df_train.head(5)"
   ]
  },
  {
   "cell_type": "code",
   "execution_count": 7,
   "metadata": {},
   "outputs": [
    {
     "name": "stdout",
     "output_type": "stream",
     "text": [
      "<class 'pandas.core.frame.DataFrame'>\n",
      "RangeIndex: 10000 entries, 0 to 9999\n",
      "Data columns (total 9 columns):\n",
      "Restaurant_id        10000 non-null object\n",
      "City                 10000 non-null object\n",
      "Cuisine Style        7693 non-null object\n",
      "Ranking              10000 non-null float64\n",
      "Price Range          6525 non-null object\n",
      "Number of Reviews    9343 non-null float64\n",
      "Reviews              9998 non-null object\n",
      "URL_TA               10000 non-null object\n",
      "ID_TA                10000 non-null object\n",
      "dtypes: float64(2), object(7)\n",
      "memory usage: 703.2+ KB\n"
     ]
    }
   ],
   "source": [
    "df_test.info()"
   ]
  },
  {
   "cell_type": "code",
   "execution_count": 8,
   "metadata": {},
   "outputs": [
    {
     "data": {
      "text/html": [
       "<div>\n",
       "<style scoped>\n",
       "    .dataframe tbody tr th:only-of-type {\n",
       "        vertical-align: middle;\n",
       "    }\n",
       "\n",
       "    .dataframe tbody tr th {\n",
       "        vertical-align: top;\n",
       "    }\n",
       "\n",
       "    .dataframe thead th {\n",
       "        text-align: right;\n",
       "    }\n",
       "</style>\n",
       "<table border=\"1\" class=\"dataframe\">\n",
       "  <thead>\n",
       "    <tr style=\"text-align: right;\">\n",
       "      <th></th>\n",
       "      <th>Restaurant_id</th>\n",
       "      <th>City</th>\n",
       "      <th>Cuisine Style</th>\n",
       "      <th>Ranking</th>\n",
       "      <th>Price Range</th>\n",
       "      <th>Number of Reviews</th>\n",
       "      <th>Reviews</th>\n",
       "      <th>URL_TA</th>\n",
       "      <th>ID_TA</th>\n",
       "    </tr>\n",
       "  </thead>\n",
       "  <tbody>\n",
       "    <tr>\n",
       "      <th>0</th>\n",
       "      <td>id_0</td>\n",
       "      <td>Paris</td>\n",
       "      <td>['Bar', 'Pub']</td>\n",
       "      <td>12963.0</td>\n",
       "      <td>$$ - $$$</td>\n",
       "      <td>4.0</td>\n",
       "      <td>[[], []]</td>\n",
       "      <td>/Restaurant_Review-g187147-d10746918-Reviews-L...</td>\n",
       "      <td>d10746918</td>\n",
       "    </tr>\n",
       "    <tr>\n",
       "      <th>1</th>\n",
       "      <td>id_1</td>\n",
       "      <td>Helsinki</td>\n",
       "      <td>['European', 'Scandinavian', 'Gluten Free Opti...</td>\n",
       "      <td>106.0</td>\n",
       "      <td>$$ - $$$</td>\n",
       "      <td>97.0</td>\n",
       "      <td>[['Very good reviews!', 'Fine dining in Hakani...</td>\n",
       "      <td>/Restaurant_Review-g189934-d6674944-Reviews-Ra...</td>\n",
       "      <td>d6674944</td>\n",
       "    </tr>\n",
       "    <tr>\n",
       "      <th>2</th>\n",
       "      <td>id_2</td>\n",
       "      <td>Edinburgh</td>\n",
       "      <td>['Vegetarian Friendly']</td>\n",
       "      <td>810.0</td>\n",
       "      <td>$$ - $$$</td>\n",
       "      <td>28.0</td>\n",
       "      <td>[['Better than the Links', 'Ivy Black'], ['12/...</td>\n",
       "      <td>/Restaurant_Review-g186525-d13129638-Reviews-B...</td>\n",
       "      <td>d13129638</td>\n",
       "    </tr>\n",
       "    <tr>\n",
       "      <th>3</th>\n",
       "      <td>id_3</td>\n",
       "      <td>London</td>\n",
       "      <td>['Italian', 'Mediterranean', 'European', 'Vege...</td>\n",
       "      <td>1669.0</td>\n",
       "      <td>$$$$</td>\n",
       "      <td>202.0</td>\n",
       "      <td>[['Most exquisite', 'Delicious and authentic']...</td>\n",
       "      <td>/Restaurant_Review-g186338-d680417-Reviews-Qui...</td>\n",
       "      <td>d680417</td>\n",
       "    </tr>\n",
       "    <tr>\n",
       "      <th>4</th>\n",
       "      <td>id_4</td>\n",
       "      <td>Bratislava</td>\n",
       "      <td>['Italian', 'Mediterranean', 'European', 'Seaf...</td>\n",
       "      <td>37.0</td>\n",
       "      <td>$$$$</td>\n",
       "      <td>162.0</td>\n",
       "      <td>[['Always the best in bratislava', 'Very good ...</td>\n",
       "      <td>/Restaurant_Review-g274924-d1112354-Reviews-Ma...</td>\n",
       "      <td>d1112354</td>\n",
       "    </tr>\n",
       "  </tbody>\n",
       "</table>\n",
       "</div>"
      ],
      "text/plain": [
       "  Restaurant_id        City  \\\n",
       "0          id_0       Paris   \n",
       "1          id_1    Helsinki   \n",
       "2          id_2   Edinburgh   \n",
       "3          id_3      London   \n",
       "4          id_4  Bratislava   \n",
       "\n",
       "                                       Cuisine Style  Ranking Price Range  \\\n",
       "0                                     ['Bar', 'Pub']  12963.0    $$ - $$$   \n",
       "1  ['European', 'Scandinavian', 'Gluten Free Opti...    106.0    $$ - $$$   \n",
       "2                            ['Vegetarian Friendly']    810.0    $$ - $$$   \n",
       "3  ['Italian', 'Mediterranean', 'European', 'Vege...   1669.0        $$$$   \n",
       "4  ['Italian', 'Mediterranean', 'European', 'Seaf...     37.0        $$$$   \n",
       "\n",
       "   Number of Reviews                                            Reviews  \\\n",
       "0                4.0                                           [[], []]   \n",
       "1               97.0  [['Very good reviews!', 'Fine dining in Hakani...   \n",
       "2               28.0  [['Better than the Links', 'Ivy Black'], ['12/...   \n",
       "3              202.0  [['Most exquisite', 'Delicious and authentic']...   \n",
       "4              162.0  [['Always the best in bratislava', 'Very good ...   \n",
       "\n",
       "                                              URL_TA      ID_TA  \n",
       "0  /Restaurant_Review-g187147-d10746918-Reviews-L...  d10746918  \n",
       "1  /Restaurant_Review-g189934-d6674944-Reviews-Ra...   d6674944  \n",
       "2  /Restaurant_Review-g186525-d13129638-Reviews-B...  d13129638  \n",
       "3  /Restaurant_Review-g186338-d680417-Reviews-Qui...    d680417  \n",
       "4  /Restaurant_Review-g274924-d1112354-Reviews-Ma...   d1112354  "
      ]
     },
     "execution_count": 8,
     "metadata": {},
     "output_type": "execute_result"
    }
   ],
   "source": [
    "df_test.head(5)"
   ]
  },
  {
   "cell_type": "code",
   "execution_count": 9,
   "metadata": {},
   "outputs": [
    {
     "data": {
      "text/html": [
       "<div>\n",
       "<style scoped>\n",
       "    .dataframe tbody tr th:only-of-type {\n",
       "        vertical-align: middle;\n",
       "    }\n",
       "\n",
       "    .dataframe tbody tr th {\n",
       "        vertical-align: top;\n",
       "    }\n",
       "\n",
       "    .dataframe thead th {\n",
       "        text-align: right;\n",
       "    }\n",
       "</style>\n",
       "<table border=\"1\" class=\"dataframe\">\n",
       "  <thead>\n",
       "    <tr style=\"text-align: right;\">\n",
       "      <th></th>\n",
       "      <th>Restaurant_id</th>\n",
       "      <th>Rating</th>\n",
       "    </tr>\n",
       "  </thead>\n",
       "  <tbody>\n",
       "    <tr>\n",
       "      <th>0</th>\n",
       "      <td>id_0</td>\n",
       "      <td>2.0</td>\n",
       "    </tr>\n",
       "    <tr>\n",
       "      <th>1</th>\n",
       "      <td>id_1</td>\n",
       "      <td>2.5</td>\n",
       "    </tr>\n",
       "    <tr>\n",
       "      <th>2</th>\n",
       "      <td>id_2</td>\n",
       "      <td>4.0</td>\n",
       "    </tr>\n",
       "    <tr>\n",
       "      <th>3</th>\n",
       "      <td>id_3</td>\n",
       "      <td>1.0</td>\n",
       "    </tr>\n",
       "    <tr>\n",
       "      <th>4</th>\n",
       "      <td>id_4</td>\n",
       "      <td>4.0</td>\n",
       "    </tr>\n",
       "  </tbody>\n",
       "</table>\n",
       "</div>"
      ],
      "text/plain": [
       "  Restaurant_id  Rating\n",
       "0          id_0     2.0\n",
       "1          id_1     2.5\n",
       "2          id_2     4.0\n",
       "3          id_3     1.0\n",
       "4          id_4     4.0"
      ]
     },
     "execution_count": 9,
     "metadata": {},
     "output_type": "execute_result"
    }
   ],
   "source": [
    "sample_submission.head(5)"
   ]
  },
  {
   "cell_type": "code",
   "execution_count": 10,
   "metadata": {},
   "outputs": [
    {
     "name": "stdout",
     "output_type": "stream",
     "text": [
      "<class 'pandas.core.frame.DataFrame'>\n",
      "RangeIndex: 10000 entries, 0 to 9999\n",
      "Data columns (total 2 columns):\n",
      "Restaurant_id    10000 non-null object\n",
      "Rating           10000 non-null float64\n",
      "dtypes: float64(1), object(1)\n",
      "memory usage: 156.4+ KB\n"
     ]
    }
   ],
   "source": [
    "sample_submission.info()"
   ]
  },
  {
   "cell_type": "code",
   "execution_count": 11,
   "metadata": {},
   "outputs": [],
   "source": [
    "# ВАЖНО! дря корректной обработки признаков объединяем трейн и тест в один датасет\n",
    "df_train['sample'] = 1 # помечаем где у нас трейн\n",
    "df_test['sample'] = 0 # помечаем где у нас тест\n",
    "df_test['Rating'] = 0 # в тесте у нас нет значения Rating, мы его должны предсказать, по этому пока просто заполняем нулями\n",
    "\n",
    "df = df_test.append(df_train, sort=False).reset_index(drop=True) # объединяем"
   ]
  },
  {
   "cell_type": "code",
   "execution_count": 12,
   "metadata": {},
   "outputs": [
    {
     "name": "stdout",
     "output_type": "stream",
     "text": [
      "<class 'pandas.core.frame.DataFrame'>\n",
      "RangeIndex: 50000 entries, 0 to 49999\n",
      "Data columns (total 11 columns):\n",
      "Restaurant_id        50000 non-null object\n",
      "City                 50000 non-null object\n",
      "Cuisine Style        38410 non-null object\n",
      "Ranking              50000 non-null float64\n",
      "Price Range          32639 non-null object\n",
      "Number of Reviews    46800 non-null float64\n",
      "Reviews              49998 non-null object\n",
      "URL_TA               50000 non-null object\n",
      "ID_TA                50000 non-null object\n",
      "sample               50000 non-null int64\n",
      "Rating               50000 non-null float64\n",
      "dtypes: float64(3), int64(1), object(7)\n",
      "memory usage: 4.2+ MB\n"
     ]
    }
   ],
   "source": [
    "df.info()"
   ]
  },
  {
   "cell_type": "markdown",
   "metadata": {},
   "source": [
    "Подробнее по признакам:\n",
    "* City: Город \n",
    "* Cuisine Style: Кухня\n",
    "* Ranking: Ранг ресторана относительно других ресторанов в этом городе\n",
    "* Price Range: Цены в ресторане в 3 категориях\n",
    "* Number of Reviews: Количество отзывов\n",
    "* Reviews: 2 последних отзыва и даты этих отзывов\n",
    "* URL_TA: страница ресторана на 'www.tripadvisor.com' \n",
    "* ID_TA: ID ресторана в TripAdvisor\n",
    "* Rating: Рейтинг ресторана"
   ]
  },
  {
   "cell_type": "code",
   "execution_count": 13,
   "metadata": {},
   "outputs": [
    {
     "data": {
      "text/html": [
       "<div>\n",
       "<style scoped>\n",
       "    .dataframe tbody tr th:only-of-type {\n",
       "        vertical-align: middle;\n",
       "    }\n",
       "\n",
       "    .dataframe tbody tr th {\n",
       "        vertical-align: top;\n",
       "    }\n",
       "\n",
       "    .dataframe thead th {\n",
       "        text-align: right;\n",
       "    }\n",
       "</style>\n",
       "<table border=\"1\" class=\"dataframe\">\n",
       "  <thead>\n",
       "    <tr style=\"text-align: right;\">\n",
       "      <th></th>\n",
       "      <th>Restaurant_id</th>\n",
       "      <th>City</th>\n",
       "      <th>Cuisine Style</th>\n",
       "      <th>Ranking</th>\n",
       "      <th>Price Range</th>\n",
       "      <th>Number of Reviews</th>\n",
       "      <th>Reviews</th>\n",
       "      <th>URL_TA</th>\n",
       "      <th>ID_TA</th>\n",
       "      <th>sample</th>\n",
       "      <th>Rating</th>\n",
       "    </tr>\n",
       "  </thead>\n",
       "  <tbody>\n",
       "    <tr>\n",
       "      <th>47651</th>\n",
       "      <td>id_109</td>\n",
       "      <td>Geneva</td>\n",
       "      <td>['French']</td>\n",
       "      <td>110.0</td>\n",
       "      <td>$$ - $$$</td>\n",
       "      <td>47.0</td>\n",
       "      <td>[['great dish of the Day served here.', 'Delic...</td>\n",
       "      <td>/Restaurant_Review-g4346525-d3737659-Reviews-C...</td>\n",
       "      <td>d3737659</td>\n",
       "      <td>1</td>\n",
       "      <td>4.5</td>\n",
       "    </tr>\n",
       "    <tr>\n",
       "      <th>39887</th>\n",
       "      <td>id_12381</td>\n",
       "      <td>London</td>\n",
       "      <td>['Healthy']</td>\n",
       "      <td>12391.0</td>\n",
       "      <td>NaN</td>\n",
       "      <td>NaN</td>\n",
       "      <td>[[], []]</td>\n",
       "      <td>/Restaurant_Review-g186338-d12949527-Reviews-Y...</td>\n",
       "      <td>d12949527</td>\n",
       "      <td>1</td>\n",
       "      <td>4.0</td>\n",
       "    </tr>\n",
       "    <tr>\n",
       "      <th>36231</th>\n",
       "      <td>id_3793</td>\n",
       "      <td>Milan</td>\n",
       "      <td>NaN</td>\n",
       "      <td>3795.0</td>\n",
       "      <td>NaN</td>\n",
       "      <td>3.0</td>\n",
       "      <td>[[], []]</td>\n",
       "      <td>/Restaurant_Review-g187849-d8338274-Reviews-Pa...</td>\n",
       "      <td>d8338274</td>\n",
       "      <td>1</td>\n",
       "      <td>4.0</td>\n",
       "    </tr>\n",
       "    <tr>\n",
       "      <th>34673</th>\n",
       "      <td>id_755</td>\n",
       "      <td>Edinburgh</td>\n",
       "      <td>['Italian', 'Bar', 'Pub', 'Diner', 'Wine Bar']</td>\n",
       "      <td>756.0</td>\n",
       "      <td>$$ - $$$</td>\n",
       "      <td>29.0</td>\n",
       "      <td>[['CLOSED.', 'Excellent B&amp;B. Excellent people....</td>\n",
       "      <td>/Restaurant_Review-g186525-d10800029-Reviews-I...</td>\n",
       "      <td>d10800029</td>\n",
       "      <td>1</td>\n",
       "      <td>4.5</td>\n",
       "    </tr>\n",
       "    <tr>\n",
       "      <th>8803</th>\n",
       "      <td>id_8803</td>\n",
       "      <td>Dublin</td>\n",
       "      <td>['Cafe', 'European', 'Vegetarian Friendly', 'V...</td>\n",
       "      <td>623.0</td>\n",
       "      <td>$</td>\n",
       "      <td>90.0</td>\n",
       "      <td>[['Nice food and people', 'Been here lots and ...</td>\n",
       "      <td>/Restaurant_Review-g186605-d8810167-Reviews-Kc...</td>\n",
       "      <td>d8810167</td>\n",
       "      <td>0</td>\n",
       "      <td>0.0</td>\n",
       "    </tr>\n",
       "  </tbody>\n",
       "</table>\n",
       "</div>"
      ],
      "text/plain": [
       "      Restaurant_id       City  \\\n",
       "47651        id_109     Geneva   \n",
       "39887      id_12381     London   \n",
       "36231       id_3793      Milan   \n",
       "34673        id_755  Edinburgh   \n",
       "8803        id_8803     Dublin   \n",
       "\n",
       "                                           Cuisine Style  Ranking Price Range  \\\n",
       "47651                                         ['French']    110.0    $$ - $$$   \n",
       "39887                                        ['Healthy']  12391.0         NaN   \n",
       "36231                                                NaN   3795.0         NaN   \n",
       "34673     ['Italian', 'Bar', 'Pub', 'Diner', 'Wine Bar']    756.0    $$ - $$$   \n",
       "8803   ['Cafe', 'European', 'Vegetarian Friendly', 'V...    623.0           $   \n",
       "\n",
       "       Number of Reviews                                            Reviews  \\\n",
       "47651               47.0  [['great dish of the Day served here.', 'Delic...   \n",
       "39887                NaN                                           [[], []]   \n",
       "36231                3.0                                           [[], []]   \n",
       "34673               29.0  [['CLOSED.', 'Excellent B&B. Excellent people....   \n",
       "8803                90.0  [['Nice food and people', 'Been here lots and ...   \n",
       "\n",
       "                                                  URL_TA      ID_TA  sample  \\\n",
       "47651  /Restaurant_Review-g4346525-d3737659-Reviews-C...   d3737659       1   \n",
       "39887  /Restaurant_Review-g186338-d12949527-Reviews-Y...  d12949527       1   \n",
       "36231  /Restaurant_Review-g187849-d8338274-Reviews-Pa...   d8338274       1   \n",
       "34673  /Restaurant_Review-g186525-d10800029-Reviews-I...  d10800029       1   \n",
       "8803   /Restaurant_Review-g186605-d8810167-Reviews-Kc...   d8810167       0   \n",
       "\n",
       "       Rating  \n",
       "47651     4.5  \n",
       "39887     4.0  \n",
       "36231     4.0  \n",
       "34673     4.5  \n",
       "8803      0.0  "
      ]
     },
     "execution_count": 13,
     "metadata": {},
     "output_type": "execute_result"
    }
   ],
   "source": [
    "df.sample(5)"
   ]
  },
  {
   "cell_type": "code",
   "execution_count": 14,
   "metadata": {},
   "outputs": [
    {
     "data": {
      "text/plain": [
       "\"[['Very good reviews!', 'Fine dining in Hakaniemi'], ['12/05/2017', '10/29/2017']]\""
      ]
     },
     "execution_count": 14,
     "metadata": {},
     "output_type": "execute_result"
    }
   ],
   "source": [
    "df.Reviews[1]"
   ]
  },
  {
   "cell_type": "markdown",
   "metadata": {},
   "source": [
    "Как видим, большинство признаков у нас требует очистки и предварительной обработки."
   ]
  },
  {
   "cell_type": "markdown",
   "metadata": {},
   "source": [
    "# Cleaning and Prepping Data\n",
    "Обычно данные содержат в себе кучу мусора, который необходимо почистить, для того чтобы привести их в приемлемый формат. Чистка данных — это необходимый этап решения почти любой реальной задачи.   \n",
    "![](https://analyticsindiamag.com/wp-content/uploads/2018/01/data-cleaning.png)"
   ]
  },
  {
   "cell_type": "markdown",
   "metadata": {},
   "source": [
    "![](https://www.pata.org/wp-content/uploads/2014/09/TripAdvisor_Logo-300x119.png)\n",
    "# Predict TripAdvisor Rating\n",
    "## В этом соревновании нам предстоит предсказать рейтинг ресторана в TripAdvisor\n",
    "**По ходу задачи:**\n",
    "* Прокачаем работу с pandas\n",
    "* Научимся работать с Kaggle Notebooks\n",
    "* Поймем как делать предобработку различных данных\n",
    "* Научимся работать с пропущенными данными (Nan)\n",
    "* Познакомимся с различными видами кодирования признаков\n",
    "* Немного попробуем [Feature Engineering](https://ru.wikipedia.org/wiki/Конструирование_признаков) (генерировать новые признаки)\n",
    "* И совсем немного затронем ML\n",
    "* И многое другое...   \n",
    "\n",
    "\n",
    "\n",
    "### И самое важное, все это вы сможете сделать самостоятельно!\n",
    "\n",
    "*Этот Ноутбук являетсся Примером/Шаблоном к этому соревнованию (Baseline) и не служит готовым решением!*   \n",
    "Вы можете использовать его как основу для построения своего решения.\n",
    "\n",
    "> что такое baseline решение, зачем оно нужно и почему предоставлять baseline к соревнованию стало важным стандартом на kaggle и других площадках.   \n",
    "**baseline** создается больше как шаблон, где можно посмотреть как происходит обращение с входящими данными и что нужно получить на выходе. При этом МЛ начинка может быть достаточно простой, просто для примера. Это помогает быстрее приступить к самому МЛ, а не тратить ценное время на чисто инженерные задачи. \n",
    "Также baseline являеться хорошей опорной точкой по метрике. Если твое решение хуже baseline - ты явно делаешь что-то не то и стоит попробовать другой путь) \n",
    "\n",
    "В контексте нашего соревнования baseline идет с небольшими примерами того, что можно делать с данными, и с инструкцией, что делать дальше, чтобы улучшить результат.  Вообще готовым решением это сложно назвать, так как используются всего 2 самых простых признака (а остальные исключаются)."
   ]
  },
  {
   "cell_type": "markdown",
   "metadata": {},
   "source": [
    "## Предобработка данных и определение базовых функций."
   ]
  },
  {
   "cell_type": "code",
   "execution_count": 15,
   "metadata": {},
   "outputs": [],
   "source": [
    "\n",
    "#Приведем имена столбцов к нижнему регистру, и переименуем некоторые из них\n",
    "\n",
    "df.columns = map(str.lower, df.columns)\n",
    "df.rename(columns={'cuisine style': 'cuisine_style', 'price range': 'price_range', 'number of reviews':'number_reviews'}, inplace=True)\n",
    "\n",
    "\n",
    "# Функция по сбору информации по каждому столбцу\n",
    "\n",
    "def info_column(column):\n",
    "    print('Число уникальных значений:', df[column].nunique(), '\\n')\n",
    "    print('Число упоминания каждого значения: \\n',\n",
    "          df[column].value_counts(), '\\n')\n",
    "    print('Число пустых значений в столбце:',\n",
    "          (df[column].isnull()).sum(), '\\n')\n",
    "    return  # df.loc[:, [column]].info()\n",
    "\n",
    "# прорисовка гистограммы исходных данных\n",
    "def hist_source_data(column):\n",
    "    df[column].hist(alpha=0.4, bins=100, range=(\n",
    "        start_point, end_point), label='Исходные данные {}'. format(column))\n",
    "    plt.legend()\n",
    "    return"
   ]
  },
  {
   "cell_type": "markdown",
   "metadata": {},
   "source": [
    "## Первичный отсмотр данных"
   ]
  },
  {
   "cell_type": "code",
   "execution_count": 16,
   "metadata": {},
   "outputs": [
    {
     "name": "stdout",
     "output_type": "stream",
     "text": [
      "<class 'pandas.core.frame.DataFrame'>\n",
      "RangeIndex: 50000 entries, 0 to 49999\n",
      "Data columns (total 11 columns):\n",
      "restaurant_id     50000 non-null object\n",
      "city              50000 non-null object\n",
      "cuisine_style     38410 non-null object\n",
      "ranking           50000 non-null float64\n",
      "price_range       32639 non-null object\n",
      "number_reviews    46800 non-null float64\n",
      "reviews           49998 non-null object\n",
      "url_ta            50000 non-null object\n",
      "id_ta             50000 non-null object\n",
      "sample            50000 non-null int64\n",
      "rating            50000 non-null float64\n",
      "dtypes: float64(3), int64(1), object(7)\n",
      "memory usage: 4.2+ MB\n"
     ]
    }
   ],
   "source": [
    "df.info()"
   ]
  },
  {
   "cell_type": "code",
   "execution_count": 17,
   "metadata": {},
   "outputs": [
    {
     "data": {
      "text/plain": [
       "<matplotlib.axes._subplots.AxesSubplot at 0x7feb61c4cf98>"
      ]
     },
     "execution_count": 17,
     "metadata": {},
     "output_type": "execute_result"
    },
    {
     "data": {
      "image/png": "[encoded data removed]",
      "text/plain": [
       "<Figure size 432x288 with 2 Axes>"
      ]
     },
     "metadata": {
      "needs_background": "light"
     },
     "output_type": "display_data"
    }
   ],
   "source": [
    "# построим карту пропусков данных\n",
    "sns.heatmap(df.isnull(), cbar=True)"
   ]
  },
  {
   "cell_type": "code",
   "execution_count": 18,
   "metadata": {},
   "outputs": [],
   "source": [
    "# описываем функцию, заменяющую в строковых столбцах  пробел на None\n",
    "\n",
    "def clear_column(column):\n",
    "    return df[column].astype(str).apply(lambda x: None if x.strip() == '' else x)\n",
    "\n",
    "for col in df.columns:\n",
    "    clear_column(col)"
   ]
  },
  {
   "cell_type": "markdown",
   "metadata": {},
   "source": [
    "## 1. Обработка NAN \n",
    "У наличия пропусков могут быть разные причины, но пропуски нужно либо заполнить, либо исключить из набора полностью. Но с пропусками нужно быть внимательным, **даже отсутствие информации может быть важным признаком!**   \n",
    "По этому перед обработкой NAN лучше вынести информацию о наличии пропуска как отдельный признак "
   ]
  },
  {
   "cell_type": "code",
   "execution_count": 19,
   "metadata": {},
   "outputs": [],
   "source": [
    "# Для примера я возьму столбец Number of Reviews\n",
    "df['number_reviews_isNAN'] = pd.isna(df['number_reviews']).astype('uint8')"
   ]
  },
  {
   "cell_type": "code",
   "execution_count": 20,
   "metadata": {},
   "outputs": [
    {
     "data": {
      "text/plain": [
       "False    76.82\n",
       "True     23.18\n",
       "Name: cuisine_style, dtype: float64"
      ]
     },
     "execution_count": 20,
     "metadata": {},
     "output_type": "execute_result"
    }
   ],
   "source": [
    "# процент пропусков в столбце: 23.2%\n",
    "df['cuisine_style'].isnull().value_counts(normalize=True) * 100"
   ]
  },
  {
   "cell_type": "code",
   "execution_count": 21,
   "metadata": {},
   "outputs": [],
   "source": [
    "# Пустые значения в 'cuisine_style' заменяем на ['Unknown']\n",
    "df['cuisine_style'] = df['cuisine_style'].fillna(\"['Unknown']\")"
   ]
  },
  {
   "cell_type": "code",
   "execution_count": 22,
   "metadata": {},
   "outputs": [
    {
     "data": {
      "text/plain": [
       "False    65.278\n",
       "True     34.722\n",
       "Name: price_range, dtype: float64"
      ]
     },
     "execution_count": 22,
     "metadata": {},
     "output_type": "execute_result"
    }
   ],
   "source": [
    "# процент пропусков в столбце: 34.715\n",
    "df['price_range'].isnull().value_counts(normalize=True) * 100"
   ]
  },
  {
   "cell_type": "code",
   "execution_count": 23,
   "metadata": {},
   "outputs": [],
   "source": [
    "df['price_range_isNAN'] = pd.isna(df['price_range']).astype('uint8')"
   ]
  },
  {
   "cell_type": "code",
   "execution_count": 24,
   "metadata": {},
   "outputs": [],
   "source": [
    "df['reviews'] = df['reviews'].fillna('[[], []]') \n",
    "df['reviews_isNAN'] =df['reviews'].apply(lambda x: 1 if x =='[[], []]' else 0).astype('uint8')"
   ]
  },
  {
   "cell_type": "markdown",
   "metadata": {},
   "source": [
    "### 2. Обработка признаков\n",
    "Для начала посмотрим какие признаки у нас могут быть категориальными."
   ]
  },
  {
   "cell_type": "code",
   "execution_count": 25,
   "metadata": {},
   "outputs": [
    {
     "data": {
      "text/plain": [
       "restaurant_id           13094\n",
       "city                       31\n",
       "cuisine_style           10732\n",
       "ranking                 12975\n",
       "price_range                 4\n",
       "number_reviews           1574\n",
       "reviews                 41857\n",
       "url_ta                  49963\n",
       "id_ta                   49963\n",
       "sample                      2\n",
       "rating                     10\n",
       "number_reviews_isNAN        2\n",
       "price_range_isNAN           2\n",
       "reviews_isNAN               2\n",
       "dtype: int64"
      ]
     },
     "execution_count": 25,
     "metadata": {},
     "output_type": "execute_result"
    }
   ],
   "source": [
    "df.nunique(dropna=False)"
   ]
  },
  {
   "cell_type": "markdown",
   "metadata": {},
   "source": [
    "Какие признаки можно считать категориальными?"
   ]
  },
  {
   "cell_type": "markdown",
   "metadata": {},
   "source": [
    "Для кодирования категориальных признаков есть множество подходов:\n",
    "* Label Encoding\n",
    "* One-Hot Encoding\n",
    "* Target Encoding\n",
    "* Hashing\n",
    "\n",
    "Выбор кодирования зависит от признака и выбраной модели.\n",
    "Не будем сейчас сильно погружаться в эту тематику, давайте посмотрим лучше пример с One-Hot Encoding:\n",
    "![](https://i.imgur.com/mtimFxh.png)"
   ]
  },
  {
   "cell_type": "code",
   "execution_count": 26,
   "metadata": {},
   "outputs": [
    {
     "data": {
      "text/html": [
       "<div>\n",
       "<style scoped>\n",
       "    .dataframe tbody tr th:only-of-type {\n",
       "        vertical-align: middle;\n",
       "    }\n",
       "\n",
       "    .dataframe tbody tr th {\n",
       "        vertical-align: top;\n",
       "    }\n",
       "\n",
       "    .dataframe thead th {\n",
       "        text-align: right;\n",
       "    }\n",
       "</style>\n",
       "<table border=\"1\" class=\"dataframe\">\n",
       "  <thead>\n",
       "    <tr style=\"text-align: right;\">\n",
       "      <th></th>\n",
       "      <th>restaurant_id</th>\n",
       "      <th>city</th>\n",
       "      <th>cuisine_style</th>\n",
       "      <th>ranking</th>\n",
       "      <th>price_range</th>\n",
       "      <th>number_reviews</th>\n",
       "      <th>reviews</th>\n",
       "      <th>url_ta</th>\n",
       "      <th>id_ta</th>\n",
       "      <th>sample</th>\n",
       "      <th>rating</th>\n",
       "      <th>number_reviews_isNAN</th>\n",
       "      <th>price_range_isNAN</th>\n",
       "      <th>reviews_isNAN</th>\n",
       "    </tr>\n",
       "  </thead>\n",
       "  <tbody>\n",
       "    <tr>\n",
       "      <th>12200</th>\n",
       "      <td>id_862</td>\n",
       "      <td>Amsterdam</td>\n",
       "      <td>['Asian', 'Thai', 'Vegetarian Friendly', 'Vega...</td>\n",
       "      <td>864.0</td>\n",
       "      <td>$$ - $$$</td>\n",
       "      <td>151.0</td>\n",
       "      <td>[['Tasty Thai', 'Really nice meal'], ['06/11/2...</td>\n",
       "      <td>/Restaurant_Review-g188590-d1860469-Reviews-So...</td>\n",
       "      <td>d1860469</td>\n",
       "      <td>1</td>\n",
       "      <td>4.0</td>\n",
       "      <td>0</td>\n",
       "      <td>0</td>\n",
       "      <td>0</td>\n",
       "    </tr>\n",
       "    <tr>\n",
       "      <th>38840</th>\n",
       "      <td>id_943</td>\n",
       "      <td>Vienna</td>\n",
       "      <td>['Chinese', 'Wine Bar']</td>\n",
       "      <td>944.0</td>\n",
       "      <td>$$ - $$$</td>\n",
       "      <td>22.0</td>\n",
       "      <td>[['Fun place, modern, good food', 'excellent f...</td>\n",
       "      <td>/Restaurant_Review-g190454-d5984643-Reviews-Ki...</td>\n",
       "      <td>d5984643</td>\n",
       "      <td>1</td>\n",
       "      <td>4.5</td>\n",
       "      <td>0</td>\n",
       "      <td>0</td>\n",
       "      <td>0</td>\n",
       "    </tr>\n",
       "    <tr>\n",
       "      <th>9013</th>\n",
       "      <td>id_9013</td>\n",
       "      <td>Barcelona</td>\n",
       "      <td>['Spanish']</td>\n",
       "      <td>5370.0</td>\n",
       "      <td>NaN</td>\n",
       "      <td>10.0</td>\n",
       "      <td>[['Great local eatery', 'Nice local restaurant...</td>\n",
       "      <td>/Restaurant_Review-g187497-d3735959-Reviews-Ma...</td>\n",
       "      <td>d3735959</td>\n",
       "      <td>0</td>\n",
       "      <td>0.0</td>\n",
       "      <td>0</td>\n",
       "      <td>1</td>\n",
       "      <td>0</td>\n",
       "    </tr>\n",
       "    <tr>\n",
       "      <th>45185</th>\n",
       "      <td>id_363</td>\n",
       "      <td>Milan</td>\n",
       "      <td>['Mediterranean', 'Seafood', 'European', 'Vege...</td>\n",
       "      <td>364.0</td>\n",
       "      <td>$$$$</td>\n",
       "      <td>354.0</td>\n",
       "      <td>[['A great find. value and experience', 'Excel...</td>\n",
       "      <td>/Restaurant_Review-g187849-d4840508-Reviews-Ol...</td>\n",
       "      <td>d4840508</td>\n",
       "      <td>1</td>\n",
       "      <td>4.5</td>\n",
       "      <td>0</td>\n",
       "      <td>0</td>\n",
       "      <td>0</td>\n",
       "    </tr>\n",
       "    <tr>\n",
       "      <th>8271</th>\n",
       "      <td>id_8271</td>\n",
       "      <td>Munich</td>\n",
       "      <td>['Unknown']</td>\n",
       "      <td>1719.0</td>\n",
       "      <td>NaN</td>\n",
       "      <td>2.0</td>\n",
       "      <td>[[], []]</td>\n",
       "      <td>/Restaurant_Review-g187309-d5818043-Reviews-Al...</td>\n",
       "      <td>d5818043</td>\n",
       "      <td>0</td>\n",
       "      <td>0.0</td>\n",
       "      <td>0</td>\n",
       "      <td>1</td>\n",
       "      <td>1</td>\n",
       "    </tr>\n",
       "  </tbody>\n",
       "</table>\n",
       "</div>"
      ],
      "text/plain": [
       "      restaurant_id       city  \\\n",
       "12200        id_862  Amsterdam   \n",
       "38840        id_943     Vienna   \n",
       "9013        id_9013  Barcelona   \n",
       "45185        id_363      Milan   \n",
       "8271        id_8271     Munich   \n",
       "\n",
       "                                           cuisine_style  ranking price_range  \\\n",
       "12200  ['Asian', 'Thai', 'Vegetarian Friendly', 'Vega...    864.0    $$ - $$$   \n",
       "38840                            ['Chinese', 'Wine Bar']    944.0    $$ - $$$   \n",
       "9013                                         ['Spanish']   5370.0         NaN   \n",
       "45185  ['Mediterranean', 'Seafood', 'European', 'Vege...    364.0        $$$$   \n",
       "8271                                         ['Unknown']   1719.0         NaN   \n",
       "\n",
       "       number_reviews                                            reviews  \\\n",
       "12200           151.0  [['Tasty Thai', 'Really nice meal'], ['06/11/2...   \n",
       "38840            22.0  [['Fun place, modern, good food', 'excellent f...   \n",
       "9013             10.0  [['Great local eatery', 'Nice local restaurant...   \n",
       "45185           354.0  [['A great find. value and experience', 'Excel...   \n",
       "8271              2.0                                           [[], []]   \n",
       "\n",
       "                                                  url_ta     id_ta  sample  \\\n",
       "12200  /Restaurant_Review-g188590-d1860469-Reviews-So...  d1860469       1   \n",
       "38840  /Restaurant_Review-g190454-d5984643-Reviews-Ki...  d5984643       1   \n",
       "9013   /Restaurant_Review-g187497-d3735959-Reviews-Ma...  d3735959       0   \n",
       "45185  /Restaurant_Review-g187849-d4840508-Reviews-Ol...  d4840508       1   \n",
       "8271   /Restaurant_Review-g187309-d5818043-Reviews-Al...  d5818043       0   \n",
       "\n",
       "       rating  number_reviews_isNAN  price_range_isNAN  reviews_isNAN  \n",
       "12200     4.0                     0                  0              0  \n",
       "38840     4.5                     0                  0              0  \n",
       "9013      0.0                     0                  1              0  \n",
       "45185     4.5                     0                  0              0  \n",
       "8271      0.0                     0                  1              1  "
      ]
     },
     "execution_count": 26,
     "metadata": {},
     "output_type": "execute_result"
    }
   ],
   "source": [
    "df.sample(5)"
   ]
  },
  {
   "cell_type": "markdown",
   "metadata": {},
   "source": [
    "### 2.0. restaurant_id"
   ]
  },
  {
   "cell_type": "code",
   "execution_count": 27,
   "metadata": {},
   "outputs": [],
   "source": [
    "# создадим столбец с перекодированым 'restaurant_id'\n",
    "df['code_restaurant_id'] = df['restaurant_id'].apply(lambda x: int(x[3:]))"
   ]
  },
  {
   "cell_type": "markdown",
   "metadata": {},
   "source": [
    "### 2.1. city"
   ]
  },
  {
   "cell_type": "code",
   "execution_count": 28,
   "metadata": {},
   "outputs": [
    {
     "name": "stdout",
     "output_type": "stream",
     "text": [
      "Число уникальных значений: 31 \n",
      "\n",
      "Число упоминания каждого значения: \n",
      " London        7193\n",
      "Paris         6108\n",
      "Madrid        3813\n",
      "Barcelona     3395\n",
      "Berlin        2705\n",
      "Milan         2694\n",
      "Rome          2589\n",
      "Prague        1816\n",
      "Lisbon        1647\n",
      "Vienna        1443\n",
      "Amsterdam     1372\n",
      "Brussels      1314\n",
      "Hamburg       1186\n",
      "Munich        1145\n",
      "Lyon          1126\n",
      "Stockholm     1033\n",
      "Budapest      1021\n",
      "Warsaw         925\n",
      "Dublin         836\n",
      "Copenhagen     819\n",
      "Athens         776\n",
      "Edinburgh      745\n",
      "Zurich         685\n",
      "Oporto         642\n",
      "Geneva         590\n",
      "Krakow         554\n",
      "Oslo           488\n",
      "Helsinki       475\n",
      "Bratislava     380\n",
      "Luxembourg     263\n",
      "Ljubljana      222\n",
      "Name: city, dtype: int64 \n",
      "\n",
      "Число пустых значений в столбце: 0 \n",
      "\n"
     ]
    }
   ],
   "source": [
    "info_column('city')"
   ]
  },
  {
   "cell_type": "code",
   "execution_count": 29,
   "metadata": {},
   "outputs": [
    {
     "data": {
      "text/plain": [
       "array(['Paris', 'Helsinki', 'Edinburgh', 'London', 'Bratislava', 'Lisbon',\n",
       "       'Budapest', 'Stockholm', 'Rome', 'Milan', 'Munich', 'Hamburg',\n",
       "       'Prague', 'Vienna', 'Dublin', 'Barcelona', 'Brussels', 'Madrid',\n",
       "       'Oslo', 'Amsterdam', 'Berlin', 'Lyon', 'Athens', 'Warsaw',\n",
       "       'Oporto', 'Krakow', 'Copenhagen', 'Luxembourg', 'Zurich', 'Geneva',\n",
       "       'Ljubljana'], dtype=object)"
      ]
     },
     "execution_count": 29,
     "metadata": {},
     "output_type": "execute_result"
    }
   ],
   "source": [
    "df.city.unique()"
   ]
  },
  {
   "cell_type": "code",
   "execution_count": 30,
   "metadata": {},
   "outputs": [],
   "source": [
    "# Создаем эталонную таблицу с эталонными  значениями некоторых столбцов для каждого 'city'\n",
    "reference_table = pd.DataFrame(df.city.unique(), columns = ['city'])"
   ]
  },
  {
   "cell_type": "markdown",
   "metadata": {},
   "source": [
    "### 2.2. cuisine_style"
   ]
  },
  {
   "cell_type": "code",
   "execution_count": 31,
   "metadata": {},
   "outputs": [
    {
     "name": "stdout",
     "output_type": "stream",
     "text": [
      "Число уникальных значений: 10732 \n",
      "\n",
      "Число упоминания каждого значения: \n",
      " ['Unknown']                                                                                                11590\n",
      "['Italian']                                                                                                 1332\n",
      "['French']                                                                                                  1019\n",
      "['Spanish']                                                                                                  860\n",
      "['French', 'European']                                                                                       503\n",
      "                                                                                                           ...  \n",
      "['French', 'Steakhouse', 'Barbecue', 'European']                                                               1\n",
      "['Mediterranean', 'Greek', 'Delicatessen']                                                                     1\n",
      "['Delicatessen', 'Cafe']                                                                                       1\n",
      "['Moroccan', 'Vegetarian Friendly', 'Halal']                                                                   1\n",
      "['Irish', 'Cafe', 'European', 'Healthy', 'Vegetarian Friendly', 'Vegan Options', 'Gluten Free Options']        1\n",
      "Name: cuisine_style, Length: 10732, dtype: int64 \n",
      "\n",
      "Число пустых значений в столбце: 0 \n",
      "\n"
     ]
    }
   ],
   "source": [
    "info_column('cuisine_style')"
   ]
  },
  {
   "cell_type": "code",
   "execution_count": 32,
   "metadata": {},
   "outputs": [
    {
     "data": {
      "text/plain": [
       "['Unknown']                   11590\n",
       "['Italian']                    1332\n",
       "['French']                     1019\n",
       "['Spanish']                     860\n",
       "['French', 'European']          503\n",
       "['Cafe']                        500\n",
       "['Pizza']                       454\n",
       "['Italian', 'Pizza']            422\n",
       "['Chinese']                     418\n",
       "['European', 'Portuguese']      415\n",
       "Name: cuisine_style, dtype: int64"
      ]
     },
     "execution_count": 32,
     "metadata": {},
     "output_type": "execute_result"
    }
   ],
   "source": [
    "df['cuisine_style'].value_counts()[:10]"
   ]
  },
  {
   "cell_type": "code",
   "execution_count": 33,
   "metadata": {},
   "outputs": [],
   "source": [
    "# Создадим столбец со списками кухонь\n",
    "df['cuisines'] = df['cuisine_style'].str.findall(r\"'(\\b.*?\\b)'\") "
   ]
  },
  {
   "cell_type": "code",
   "execution_count": 34,
   "metadata": {},
   "outputs": [
    {
     "data": {
      "text/plain": [
       "[('Vegetarian Friendly', 14021),\n",
       " ('European', 12561),\n",
       " ('Unknown', 11590),\n",
       " ('Mediterranean', 7820),\n",
       " ('Italian', 7433),\n",
       " ('Vegan Options', 5684),\n",
       " ('Gluten Free Options', 5185),\n",
       " ('Bar', 4094),\n",
       " ('French', 3970),\n",
       " ('Asian', 3786),\n",
       " ('Pizza', 3502),\n",
       " ('Spanish', 3456),\n",
       " ('Pub', 3058),\n",
       " ('Cafe', 2883),\n",
       " ('Fast Food', 2122),\n",
       " ('British', 1992),\n",
       " ('International', 1966),\n",
       " ('Seafood', 1878),\n",
       " ('Japanese', 1860),\n",
       " ('Central European', 1727),\n",
       " ('American', 1642),\n",
       " ('Sushi', 1450),\n",
       " ('Chinese', 1446),\n",
       " ('Portuguese', 1385),\n",
       " ('Indian', 1328),\n",
       " ('Middle Eastern', 980),\n",
       " ('Thai', 923),\n",
       " ('Wine Bar', 877),\n",
       " ('German', 820),\n",
       " ('Halal', 773),\n",
       " ('Greek', 768),\n",
       " ('Healthy', 758),\n",
       " ('Fusion', 748),\n",
       " ('Czech', 745),\n",
       " ('Steakhouse', 729),\n",
       " ('Barbecue', 710),\n",
       " ('Contemporary', 652),\n",
       " ('Soups', 630),\n",
       " ('Eastern European', 629),\n",
       " ('Vietnamese', 622),\n",
       " ('Grill', 617),\n",
       " ('Gastropub', 608),\n",
       " ('Turkish', 574),\n",
       " ('Mexican', 572),\n",
       " ('South American', 490),\n",
       " ('Delicatessen', 473),\n",
       " ('Austrian', 462),\n",
       " ('Polish', 453),\n",
       " ('Scandinavian', 449),\n",
       " ('Hungarian', 444),\n",
       " ('Lebanese', 397),\n",
       " ('Diner', 375),\n",
       " ('Latin', 373),\n",
       " ('Dutch', 368),\n",
       " ('Irish', 352),\n",
       " ('Street Food', 336),\n",
       " ('Belgian', 335),\n",
       " ('Brew Pub', 299),\n",
       " ('Danish', 225),\n",
       " ('Swiss', 223),\n",
       " ('Swedish', 223),\n",
       " ('Argentinean', 214),\n",
       " ('Korean', 206),\n",
       " ('Scottish', 199),\n",
       " ('African', 193),\n",
       " ('Moroccan', 173),\n",
       " ('Central American', 168),\n",
       " ('Brazilian', 152),\n",
       " ('Pakistani', 140),\n",
       " ('Peruvian', 130),\n",
       " ('Caribbean', 124),\n",
       " ('Nepali', 121),\n",
       " ('Balti', 104),\n",
       " ('Bangladeshi', 100),\n",
       " ('Norwegian', 96),\n",
       " ('Israeli', 90),\n",
       " ('Slovenian', 85),\n",
       " ('Persian', 77),\n",
       " ('Indonesian', 71),\n",
       " ('Russian', 66),\n",
       " ('Arabic', 58),\n",
       " ('Kosher', 56),\n",
       " ('Ethiopian', 51),\n",
       " ('Venezuelan', 51),\n",
       " ('Malaysian', 38),\n",
       " ('Australian', 36),\n",
       " ('Jamaican', 36),\n",
       " ('Croatian', 33),\n",
       " ('Cuban', 32),\n",
       " ('Colombian', 30),\n",
       " ('Sri Lankan', 30),\n",
       " ('Taiwanese', 30),\n",
       " ('Tibetan', 29),\n",
       " ('Afghani', 27),\n",
       " ('Cajun & Creole', 27),\n",
       " ('Southwestern', 24),\n",
       " ('Egyptian', 24),\n",
       " ('Tunisian', 23),\n",
       " ('Hawaiian', 23),\n",
       " ('Cambodian', 22),\n",
       " ('Singaporean', 21),\n",
       " ('Mongolian', 20),\n",
       " ('Ukrainian', 20),\n",
       " ('Georgian', 18),\n",
       " ('Armenian', 17),\n",
       " ('Filipino', 17),\n",
       " ('Chilean', 16),\n",
       " ('Romanian', 13),\n",
       " ('Minority Chinese', 12),\n",
       " ('Central Asian', 12),\n",
       " ('Ecuadorean', 8),\n",
       " ('Albanian', 8),\n",
       " ('Canadian', 7),\n",
       " ('New Zealand', 7),\n",
       " ('Native American', 5),\n",
       " ('Uzbek', 5),\n",
       " ('Caucasian', 4),\n",
       " ('Welsh', 3),\n",
       " ('Azerbaijani', 3),\n",
       " ('Yunnan', 2),\n",
       " ('Polynesian', 2),\n",
       " ('Fujian', 2),\n",
       " ('Salvadoran', 1),\n",
       " ('Xinjiang', 1),\n",
       " ('Burmese', 1),\n",
       " ('Latvian', 1)]"
      ]
     },
     "execution_count": 34,
     "metadata": {},
     "output_type": "execute_result"
    }
   ],
   "source": [
    "# Создадим список списков всех кухонь и подсчитываем количество упоминаний каждой кухни\n",
    "cuis_list = df['cuisines'].tolist()\n",
    "\n",
    "\n",
    "def find_list_cuisines(list_of_lists):\n",
    "    result = []\n",
    "    for lst in list_of_lists:\n",
    "        result.extend(lst)\n",
    "    return result\n",
    "\n",
    "\n",
    "cuisines_counter = Counter(find_list_cuisines(cuis_list))\n",
    "cuisines_counter.most_common()"
   ]
  },
  {
   "cell_type": "markdown",
   "metadata": {},
   "source": [
    "### 2.3. ranking"
   ]
  },
  {
   "cell_type": "code",
   "execution_count": 35,
   "metadata": {},
   "outputs": [
    {
     "name": "stdout",
     "output_type": "stream",
     "text": [
      "Число уникальных значений: 12975 \n",
      "\n",
      "Число упоминания каждого значения: \n",
      " 93.0       22\n",
      "72.0       21\n",
      "491.0      21\n",
      "842.0      21\n",
      "1013.0     20\n",
      "           ..\n",
      "8027.0      1\n",
      "10415.0     1\n",
      "14621.0     1\n",
      "11766.0     1\n",
      "10585.0     1\n",
      "Name: ranking, Length: 12975, dtype: int64 \n",
      "\n",
      "Число пустых значений в столбце: 0 \n",
      "\n"
     ]
    }
   ],
   "source": [
    "info_column('ranking')"
   ]
  },
  {
   "cell_type": "markdown",
   "metadata": {},
   "source": [
    "### 2.4. rating"
   ]
  },
  {
   "cell_type": "code",
   "execution_count": 36,
   "metadata": {},
   "outputs": [
    {
     "data": {
      "image/png": "[encoded data removed]",
      "text/plain": [
       "<Figure size 432x288 with 1 Axes>"
      ]
     },
     "metadata": {
      "needs_background": "light"
     },
     "output_type": "display_data"
    }
   ],
   "source": [
    "start_point = df['ranking'].min()\n",
    "end_point = df['ranking'].max()\n",
    "hist_source_data('ranking')\n",
    "#Распределение нормальное. Выбросов и пропусков нет "
   ]
  },
  {
   "cell_type": "markdown",
   "metadata": {},
   "source": [
    "### 2.4 . rating"
   ]
  },
  {
   "cell_type": "code",
   "execution_count": 37,
   "metadata": {},
   "outputs": [
    {
     "name": "stdout",
     "output_type": "stream",
     "text": [
      "Число уникальных значений: 10 \n",
      "\n",
      "Число упоминания каждого значения: \n",
      " 4.0    13692\n",
      "4.5    10929\n",
      "0.0    10000\n",
      "3.5     6824\n",
      "5.0     3879\n",
      "3.0     2955\n",
      "2.5      915\n",
      "2.0      466\n",
      "1.0      201\n",
      "1.5      139\n",
      "Name: rating, dtype: int64 \n",
      "\n",
      "Число пустых значений в столбце: 0 \n",
      "\n"
     ]
    }
   ],
   "source": [
    "info_column('rating')"
   ]
  },
  {
   "cell_type": "code",
   "execution_count": 38,
   "metadata": {},
   "outputs": [
    {
     "data": {
      "image/png": "[encoded data removed]",
      "text/plain": [
       "<Figure size 432x288 with 1 Axes>"
      ]
     },
     "metadata": {
      "needs_background": "light"
     },
     "output_type": "display_data"
    }
   ],
   "source": [
    "start_point = df['ranking'].min()\n",
    "end_point = df['ranking'].max()\n",
    "hist_source_data('ranking')\n",
    "#Распределение нормальное. Выбросов и пропусков нет "
   ]
  },
  {
   "cell_type": "markdown",
   "metadata": {},
   "source": [
    "### 2.5. price_range"
   ]
  },
  {
   "cell_type": "code",
   "execution_count": 39,
   "metadata": {},
   "outputs": [
    {
     "name": "stdout",
     "output_type": "stream",
     "text": [
      "Число уникальных значений: 3 \n",
      "\n",
      "Число упоминания каждого значения: \n",
      " $$ - $$$    23041\n",
      "$            7816\n",
      "$$$$         1782\n",
      "Name: price_range, dtype: int64 \n",
      "\n",
      "Число пустых значений в столбце: 17361 \n",
      "\n"
     ]
    }
   ],
   "source": [
    "info_column('price_range')"
   ]
  },
  {
   "cell_type": "code",
   "execution_count": 40,
   "metadata": {},
   "outputs": [
    {
     "data": {
      "text/plain": [
       "False    65.278\n",
       "True     34.722\n",
       "Name: price_range, dtype: float64"
      ]
     },
     "execution_count": 40,
     "metadata": {},
     "output_type": "execute_result"
    }
   ],
   "source": [
    "# процент пропусков в столбце: 34.722\n",
    "df['price_range'].isnull().value_counts(normalize=True) * 100"
   ]
  },
  {
   "cell_type": "code",
   "execution_count": 41,
   "metadata": {},
   "outputs": [],
   "source": [
    "#  Заполним пропуски пробелами\n",
    "df['price_range'].fillna('',inplace = True)"
   ]
  },
  {
   "cell_type": "code",
   "execution_count": 42,
   "metadata": {},
   "outputs": [],
   "source": [
    "# Создаем в эталонной таблице столбец 'range_of_price' с модой диапазона  непустых цен для каждого 'city'\n",
    "\n",
    "def find_price_mode(row):\n",
    "    return df[(df['city'] == row['city']) & (df['price_range']!='')]['price_range'].mode()[0]\n",
    "\n",
    "\n",
    "reference_table['range_of_price'] = reference_table.apply(find_price_mode, axis=1)"
   ]
  },
  {
   "cell_type": "code",
   "execution_count": 43,
   "metadata": {},
   "outputs": [
    {
     "data": {
      "text/plain": [
       "$$ - $$$    31\n",
       "Name: range_of_price, dtype: int64"
      ]
     },
     "execution_count": 43,
     "metadata": {},
     "output_type": "execute_result"
    }
   ],
   "source": [
    "reference_table['range_of_price'].value_counts()"
   ]
  },
  {
   "cell_type": "code",
   "execution_count": 44,
   "metadata": {},
   "outputs": [],
   "source": [
    "# Пустым значениям в df['price_range'] присваиваем значение из эталонной таблицы в соответствии с 'city' \n",
    "def insert_range_of_price(row):\n",
    "    if row['price_range'] == '': \n",
    "        return str(reference_table[reference_table['city'] == row['city']]['range_of_price'].values)[2:-2]\n",
    "    return row['price_range']\n",
    "\n",
    "\n",
    "df['price_range'] = df.apply(insert_range_of_price, axis=1)"
   ]
  },
  {
   "cell_type": "code",
   "execution_count": 45,
   "metadata": {},
   "outputs": [
    {
     "data": {
      "text/plain": [
       "$$ - $$$    40402\n",
       "$            7816\n",
       "$$$$         1782\n",
       "Name: price_range, dtype: int64"
      ]
     },
     "execution_count": 45,
     "metadata": {},
     "output_type": "execute_result"
    }
   ],
   "source": [
    "df['price_range'].value_counts()"
   ]
  },
  {
   "cell_type": "code",
   "execution_count": 46,
   "metadata": {},
   "outputs": [],
   "source": [
    "#Перекодируем  'price_range' в цифры и создадим новый столбец 'сode_price_range':\n",
    "def code_price_range (row):\n",
    "    if row['price_range'] == '$':\n",
    "        return 1\n",
    "    if row['price_range'] == '$$ - $$$':\n",
    "        return 2\n",
    "    return 3\n",
    "df['code_price_range'] = df.apply(code_price_range, axis=1)"
   ]
  },
  {
   "cell_type": "markdown",
   "metadata": {},
   "source": [
    "### 2.6. number_reviews"
   ]
  },
  {
   "cell_type": "code",
   "execution_count": 47,
   "metadata": {},
   "outputs": [
    {
     "name": "stdout",
     "output_type": "stream",
     "text": [
      "Число уникальных значений: 1573 \n",
      "\n",
      "Число упоминания каждого значения: \n",
      " 2.0       2403\n",
      "3.0       2042\n",
      "4.0       1707\n",
      "5.0       1471\n",
      "6.0       1258\n",
      "          ... \n",
      "5216.0       1\n",
      "1932.0       1\n",
      "1050.0       1\n",
      "1145.0       1\n",
      "1471.0       1\n",
      "Name: number_reviews, Length: 1573, dtype: int64 \n",
      "\n",
      "Число пустых значений в столбце: 3200 \n",
      "\n"
     ]
    }
   ],
   "source": [
    "info_column('number_reviews')"
   ]
  },
  {
   "cell_type": "code",
   "execution_count": 48,
   "metadata": {},
   "outputs": [],
   "source": [
    "# для начала заполним пропуски в 'number_reviews' 0, чтобы не вылетали последующие функции\n",
    "df['number_reviews'].fillna(0,inplace = True)"
   ]
  },
  {
   "cell_type": "code",
   "execution_count": 49,
   "metadata": {},
   "outputs": [],
   "source": [
    "# Создаем в эталонной таблице столбец 'number_reviews' с модой количества отзывов для каждого 'city'\n",
    "\n",
    "def find_number_reviews_mode(row):\n",
    "    return df[df['city'] == row['city']]['number_reviews'].mode()[0]\n",
    "\n",
    "\n",
    "reference_table['number_reviews'] = reference_table.apply(find_number_reviews_mode, axis=1)"
   ]
  },
  {
   "cell_type": "code",
   "execution_count": 50,
   "metadata": {},
   "outputs": [],
   "source": [
    "\n",
    "# нулевым значениям в df[number_reviews'] присваиваем значение из эталонной таблицы в соответствии с 'city' \n",
    "def insert_number_reviews(row):\n",
    "    if row['number_reviews'] == 0: \n",
    "        return str(reference_table[reference_table['city'] == row['city']]['number_reviews'].values)[2:-2]\n",
    "    return row['number_reviews']\n",
    "\n",
    "\n",
    "df['last_review_date'] = df.apply(insert_number_reviews, axis=1)"
   ]
  },
  {
   "cell_type": "markdown",
   "metadata": {},
   "source": [
    "### 2.7. reviews"
   ]
  },
  {
   "cell_type": "code",
   "execution_count": 51,
   "metadata": {},
   "outputs": [
    {
     "name": "stdout",
     "output_type": "stream",
     "text": [
      "Число уникальных значений: 41857 \n",
      "\n",
      "Число упоминания каждого значения: \n",
      " [[], []]                                                                                                             8114\n",
      "[['Good service and clean', 'Chinese fusion cuisine - ok to try if you...'], ['11/21/2017', '05/23/2017']]              2\n",
      "[['Very average food. Over average prices.', 'great food with great service!'], ['11/17/2017', '08/17/2017']]           2\n",
      "[['Sat night', 'Can\\'t even explain.. \"A\" place.. A \"100...'], ['10/22/2017', '05/11/2017']]                            2\n",
      "[['Good restaurant for one meal.', 'Olive Garden Restaurant Warsaw. Food very...'], ['04/20/2015', '07/15/2013']]       2\n",
      "                                                                                                                     ... \n",
      "[['Mostly vegan heaven', 'Modern, delicious, healthy food'], ['08/08/2017', '07/09/2017']]                              1\n",
      "[['Slightly pricey but nice', 'Great food and service'], ['12/30/2017', '12/29/2017']]                                  1\n",
      "[['Sharing food', 'Great food as service'], ['12/28/2017', '12/09/2017']]                                               1\n",
      "[['Great bar', 'Cool spot for coctails'], ['09/16/2017', '04/30/2017']]                                                 1\n",
      "[['Went for diner but only had antipasti', 'Absolutely loved this place!'], ['09/18/2016', '07/04/2016']]               1\n",
      "Name: reviews, Length: 41857, dtype: int64 \n",
      "\n",
      "Число пустых значений в столбце: 0 \n",
      "\n"
     ]
    }
   ],
   "source": [
    "info_column('reviews')"
   ]
  },
  {
   "cell_type": "code",
   "execution_count": 52,
   "metadata": {},
   "outputs": [],
   "source": [
    "#Создаем столбец 'last_review_date' с датами отзывов\n",
    "df['last_review_date'] = df['reviews'].str.findall('\\d+/\\d+/\\d\\d\\d\\d')"
   ]
  },
  {
   "cell_type": "code",
   "execution_count": 53,
   "metadata": {},
   "outputs": [],
   "source": [
    "# оставляем в 'last_review_date' дату последнего отзыва\n",
    "# Если ее нет ставим None  \n",
    "def date_last_review (row):\n",
    "    if row['last_review_date'] == []:\n",
    "        return None\n",
    "    return max(row['last_review_date'])\n",
    "df['last_review_date'] = df.apply(date_last_review, axis=1)"
   ]
  },
  {
   "cell_type": "code",
   "execution_count": 54,
   "metadata": {},
   "outputs": [
    {
     "name": "stdout",
     "output_type": "stream",
     "text": [
      "2004-04-21 00:00:00\n"
     ]
    }
   ],
   "source": [
    "# Переводим столбец df['last_review_date'] в формат DateTime\n",
    "df['last_review_date'] = pd.to_datetime(df['last_review_date'])\n",
    "# находим самую раннюю дату\n",
    "oldest_date =df[df['last_review_date']!=None]['last_review_date'].min()\n",
    "print(oldest_date)\n",
    "# заполняем ею пропуски\n",
    "df['last_review_date'].fillna(oldest_date,inplace=True)"
   ]
  },
  {
   "cell_type": "code",
   "execution_count": 55,
   "metadata": {},
   "outputs": [
    {
     "data": {
      "text/plain": [
       "array(['2004-04-21T00:00:00.000000000', '2017-12-05T00:00:00.000000000',\n",
       "       '2017-12-28T00:00:00.000000000', ...,\n",
       "       '2012-08-10T00:00:00.000000000', '2012-04-11T00:00:00.000000000',\n",
       "       '2012-07-04T00:00:00.000000000'], dtype='datetime64[ns]')"
      ]
     },
     "execution_count": 55,
     "metadata": {},
     "output_type": "execute_result"
    }
   ],
   "source": [
    "df['last_review_date'].unique()"
   ]
  },
  {
   "cell_type": "markdown",
   "metadata": {},
   "source": [
    "### 2.8. URL_TA"
   ]
  },
  {
   "cell_type": "code",
   "execution_count": 56,
   "metadata": {},
   "outputs": [
    {
     "name": "stdout",
     "output_type": "stream",
     "text": [
      "Число уникальных значений: 49963 \n",
      "\n",
      "Число упоминания каждого значения: \n",
      " /Restaurant_Review-g187514-d697406-Reviews-Al_Mounia-Madrid.html                                                    2\n",
      "/Restaurant_Review-g187514-d11921719-Reviews-Crepets-Madrid.html                                                    2\n",
      "/Restaurant_Review-g187514-d3685055-Reviews-Shukran-Madrid.html                                                     2\n",
      "/Restaurant_Review-g274856-d3396817-Reviews-Restauracja_Olive_Garden-Warsaw_Mazovia_Province_Central_Poland.html    2\n",
      "/Restaurant_Review-g187514-d12488993-Reviews-Kathmandu_Tandoori_House_Nepali_Indian_Cuisine-Madrid.html             2\n",
      "                                                                                                                   ..\n",
      "/Restaurant_Review-g186338-d12833655-Reviews-Taka_Mayfair-London_England.html                                       1\n",
      "/Restaurant_Review-g187514-d3943992-Reviews-El_Barrio_Cerveceria-Madrid.html                                        1\n",
      "/Restaurant_Review-g186338-d8097661-Reviews-Wendells-London_England.html                                            1\n",
      "/Restaurant_Review-g187791-d6959710-Reviews-La_Fraschetta_2-Rome_Lazio.html                                         1\n",
      "/Restaurant_Review-g186605-d10145743-Reviews-The_Breffni_Inn-Dublin_County_Dublin.html                              1\n",
      "Name: url_ta, Length: 49963, dtype: int64 \n",
      "\n",
      "Число пустых значений в столбце: 0 \n",
      "\n"
     ]
    }
   ],
   "source": [
    "info_column('url_ta')"
   ]
  },
  {
   "cell_type": "code",
   "execution_count": 57,
   "metadata": {},
   "outputs": [],
   "source": [
    "df['code_url_ta']= df['url_ta'].str.split('-').apply(lambda x: x[1][1:]).astype('int64')"
   ]
  },
  {
   "cell_type": "markdown",
   "metadata": {},
   "source": [
    "### 2.9. ID_TA"
   ]
  },
  {
   "cell_type": "code",
   "execution_count": 58,
   "metadata": {},
   "outputs": [
    {
     "name": "stdout",
     "output_type": "stream",
     "text": [
      "Число уникальных значений: 49963 \n",
      "\n",
      "Число упоминания каждого значения: \n",
      " d3647024     2\n",
      "d11698990    2\n",
      "d3685055     2\n",
      "d1315077     2\n",
      "d8753348     2\n",
      "            ..\n",
      "d12242560    1\n",
      "d3630467     1\n",
      "d7903518     1\n",
      "d10397687    1\n",
      "d7222373     1\n",
      "Name: id_ta, Length: 49963, dtype: int64 \n",
      "\n",
      "Число пустых значений в столбце: 0 \n",
      "\n"
     ]
    }
   ],
   "source": [
    "info_column('id_ta')"
   ]
  },
  {
   "cell_type": "code",
   "execution_count": 59,
   "metadata": {},
   "outputs": [],
   "source": [
    "df['code_id_ta']= df['id_ta'].apply(lambda x: x[1:]).astype('int64')"
   ]
  },
  {
   "cell_type": "markdown",
   "metadata": {},
   "source": [
    "> Для некоторых алгоритмов МЛ даже для не категориальных признаков можно применить One-Hot Encoding, и это может улучшить качество модели. Пробуйте разные подходы к кодированию признака - никто не знает заранее, что может взлететь."
   ]
  },
  {
   "cell_type": "markdown",
   "metadata": {},
   "source": [
    "![](https://cs10.pikabu.ru/post_img/2018/09/06/11/1536261023140110012.jpg)"
   ]
  },
  {
   "cell_type": "markdown",
   "metadata": {},
   "source": [
    "## Создание дополнительных признаков"
   ]
  },
  {
   "cell_type": "code",
   "execution_count": 60,
   "metadata": {},
   "outputs": [
    {
     "data": {
      "text/plain": [
       "0    49926\n",
       "1       74\n",
       "Name: chain_restaurant, dtype: int64"
      ]
     },
     "execution_count": 60,
     "metadata": {},
     "output_type": "execute_result"
    }
   ],
   "source": [
    "# Создаем признак является ли ресторан сетевым, т.е. встречается ли его id более одного раза\n",
    "a = df.id_ta.value_counts()\n",
    "df['chain_restaurant'] = df.id_ta.apply(\n",
    "    lambda x: 1 if a[x] > 1 else 0).astype('uint8')\n",
    "df['chain_restaurant'].value_counts()"
   ]
  },
  {
   "cell_type": "code",
   "execution_count": 61,
   "metadata": {},
   "outputs": [],
   "source": [
    "# Создаем список столиц\n",
    "capital_list = ['Paris', 'Stockholm', 'London', 'Berlin', 'Bratislava', 'Vienna',\n",
    "                'Rome', 'Madrid', 'Dublin', 'Brussels', 'Warsaw', 'Budapest', 'Copenhagen', 'Amsterdam',\n",
    "                'Lisbon', 'Prague', 'Oslo', 'Helsinki', 'Edinburgh', 'Ljubljana', 'Athens',  'Luxembourg']\n",
    "cities_nord_europe = ['Stockholm', 'London', 'Dublin', 'Copenhagen', 'Amsterdam', 'Oslo',\n",
    "                      'Helsinki', 'Edinburgh']\n",
    "cities_central_europe = ['Paris', 'Berlin', 'Munich', 'Bratislava', 'Vienna',  'Brussels',\n",
    "                         'Zurich', 'Warsaw', 'Budapest', 'Hamburg', 'Prague', 'Geneva',\n",
    "                         'Ljubljana', 'Luxembourg', 'Krakow', 'Ljubljana']\n",
    "cities_south_europe = ['Oporto',  'Milan', 'Rome',\n",
    "                       'Barcelona', 'Madrid', 'Lyon', 'Lisbon', 'Geneva']"
   ]
  },
  {
   "cell_type": "code",
   "execution_count": 62,
   "metadata": {},
   "outputs": [],
   "source": [
    "# создаем признак нахождения ресторана в столице\n",
    "def find_capital_city (row):\n",
    "    if row['city'] in capital_list:\n",
    "        return 1\n",
    "    return 0\n",
    "df['capital_city'] = df.apply(find_capital_city, axis=1).astype('uint8')\n",
    "\n",
    "\n",
    "# создаем признак нахождения ресторана в северной Европе\n",
    "def find_nord_europe (row):\n",
    "    if row['city'] in cities_nord_europe:\n",
    "        return 1\n",
    "    return 0\n",
    "df['nord_europe'] = df.apply(find_nord_europe , axis=1).astype('uint8')\n",
    "\n",
    "# создаем признак нахождения ресторана в центральной Европе\n",
    "def find_central_europe (row):\n",
    "    if row['city'] in cities_central_europe:\n",
    "        return 1\n",
    "    return 0\n",
    "df['central_europe'] = df.apply(find_central_europe , axis=1).astype('uint8')\n",
    "\n",
    "# создаем признак нахождения ресторана в южной Европе\n",
    "def find_south_europe (row):\n",
    "    if row['city'] in cities_south_europe:\n",
    "        return 1\n",
    "    return 0\n",
    "df['south_europe'] = df.apply(find_south_europe , axis=1).astype('uint8')\n",
    "\n",
    "# Создадим признак, явдяется ли город морским портом\n",
    "seaport_list = ['Stockholm', 'London', 'Barcelona', 'Dublin', 'Copenhagen', 'Amsterdam', \n",
    "'Hamburg', 'Lisbon', 'Oslo',  'Helsinki', 'Edinburgh', 'Athens']\n",
    "\n",
    "df['seaport'] = df['city'].apply(lambda x: 1 if x in seaport_list else 0).astype('uint8')\n",
    "\n",
    "#Создание столбцов с дополнительными признаками городов\n",
    "for item in list(df.city.unique()):\n",
    "    df[item] = df.city.apply(lambda x: 1 if x==item else 0)\n",
    "#df = pd.get_dummies(df, columns=['city'], dummy_na=False)"
   ]
  },
  {
   "cell_type": "code",
   "execution_count": 63,
   "metadata": {},
   "outputs": [],
   "source": [
    "# Создаем признак количества кухонь в ресторане\n",
    "df['count_cuisines'] = df['cuisines'].apply(lambda x: len(x))"
   ]
  },
  {
   "cell_type": "code",
   "execution_count": 64,
   "metadata": {},
   "outputs": [],
   "source": [
    "# Cоздадим столбец присутствия редких кухонь (менее 20 на 40000 ресторанов)\n",
    "rare_cuisine_list = [x[0] for x in cuisines_counter.most_common()[-27:]]\n",
    "\n",
    "for cuisine in rare_cuisine_list:\n",
    "    df['rare_cuisine'] = df['cuisines'].apply(lambda x: 1 if cuisine in x else 0).astype('uint8')"
   ]
  },
  {
   "cell_type": "code",
   "execution_count": 65,
   "metadata": {},
   "outputs": [],
   "source": [
    "# Cоздадим столбец присутствия 100 популярных кухонь\n",
    "popular_cuisine_list = [x[0] for x in cuisines_counter.most_common()[:50]]\n",
    "\n",
    "for cuisine in popular_cuisine_list:\n",
    "    df['popular_cuisine'] = df['cuisines'].apply(lambda x: 1 if cuisine in x else 0).astype('uint8')"
   ]
  },
  {
   "cell_type": "code",
   "execution_count": 66,
   "metadata": {},
   "outputs": [],
   "source": [
    "# Cоздадим столбец нечасто встречающися кухонь\n",
    "infrequent_cuisine_list = [x[0] for x in cuisines_counter.most_common()[50:-26]]\n",
    "\n",
    "for cuisine in infrequent_cuisine_list:\n",
    "    df['infrequent_cuisine'] = df['cuisines'].apply(lambda x: 1 if cuisine in x else 0).astype('uint8')"
   ]
  },
  {
   "cell_type": "code",
   "execution_count": 67,
   "metadata": {},
   "outputs": [],
   "source": [
    "# Создадим списки с положительными и негативными словами из отзывов:\n",
    "\n",
    "good_words_list =['Good', ' good', ' excellent', 'fantast', 'Fantast', 'Excellent', 'Fine', ' fine', \n",
    "                  'Better', ' better', 'Delicious', ' delicious' 'Nice', 'nice', ' tasty', 'Tasty', \n",
    "                  'Worthy', 'worthy', ' friendly', 'Friendly' ' best', 'Best', ' cozy', 'Cozy', \n",
    "                  'Magnifi', ' magnifi', 'Elegant', ' elegant']\n",
    "\n",
    "bad_words_list =['Bad', 'bad', ' ugly', 'Ugly', ' slow', 'Slow', 'Nightmare', ' nightmare', ' lazy', 'Lazy', \n",
    "           ' expensive', 'Expensive', ' worst', 'Worst']\n",
    "\n",
    "# Создадим признаки наличия хороших и плохих отзывов\n",
    "df['good_reviews'] = df['reviews'].apply(lambda x: 1 if any(word in x for word in good_words_list) else 0).astype('uint8')\n",
    "\n",
    "\n",
    "df['bad_reviews'] = df['reviews'].apply(lambda x: 1 if any(word in x for word in bad_words_list) else 0).astype('uint8')"
   ]
  },
  {
   "cell_type": "code",
   "execution_count": 68,
   "metadata": {},
   "outputs": [],
   "source": [
    "# Создаем столбец с Timedelta с момента последнего отзыва\n",
    "df['days_from_review'] = DT.datetime.today() - df['last_review_date']\n",
    "# и преобразуем его в количество дней\n",
    "df['days_from_review'] = df['days_from_review'].map(lambda x: x.days)"
   ]
  },
  {
   "cell_type": "code",
   "execution_count": 69,
   "metadata": {},
   "outputs": [
    {
     "name": "stdout",
     "output_type": "stream",
     "text": [
      "<class 'pandas.core.frame.DataFrame'>\n",
      "RangeIndex: 50000 entries, 0 to 49999\n",
      "Data columns (total 64 columns):\n",
      "restaurant_id           50000 non-null object\n",
      "city                    50000 non-null object\n",
      "cuisine_style           50000 non-null object\n",
      "ranking                 50000 non-null float64\n",
      "price_range             50000 non-null object\n",
      "number_reviews          50000 non-null float64\n",
      "reviews                 50000 non-null object\n",
      "url_ta                  50000 non-null object\n",
      "id_ta                   50000 non-null object\n",
      "sample                  50000 non-null int64\n",
      "rating                  50000 non-null float64\n",
      "number_reviews_isNAN    50000 non-null uint8\n",
      "price_range_isNAN       50000 non-null uint8\n",
      "reviews_isNAN           50000 non-null uint8\n",
      "code_restaurant_id      50000 non-null int64\n",
      "cuisines                50000 non-null object\n",
      "code_price_range        50000 non-null int64\n",
      "last_review_date        50000 non-null datetime64[ns]\n",
      "code_url_ta             50000 non-null int64\n",
      "code_id_ta              50000 non-null int64\n",
      "chain_restaurant        50000 non-null uint8\n",
      "capital_city            50000 non-null uint8\n",
      "nord_europe             50000 non-null uint8\n",
      "central_europe          50000 non-null uint8\n",
      "south_europe            50000 non-null uint8\n",
      "seaport                 50000 non-null uint8\n",
      "Paris                   50000 non-null int64\n",
      "Helsinki                50000 non-null int64\n",
      "Edinburgh               50000 non-null int64\n",
      "London                  50000 non-null int64\n",
      "Bratislava              50000 non-null int64\n",
      "Lisbon                  50000 non-null int64\n",
      "Budapest                50000 non-null int64\n",
      "Stockholm               50000 non-null int64\n",
      "Rome                    50000 non-null int64\n",
      "Milan                   50000 non-null int64\n",
      "Munich                  50000 non-null int64\n",
      "Hamburg                 50000 non-null int64\n",
      "Prague                  50000 non-null int64\n",
      "Vienna                  50000 non-null int64\n",
      "Dublin                  50000 non-null int64\n",
      "Barcelona               50000 non-null int64\n",
      "Brussels                50000 non-null int64\n",
      "Madrid                  50000 non-null int64\n",
      "Oslo                    50000 non-null int64\n",
      "Amsterdam               50000 non-null int64\n",
      "Berlin                  50000 non-null int64\n",
      "Lyon                    50000 non-null int64\n",
      "Athens                  50000 non-null int64\n",
      "Warsaw                  50000 non-null int64\n",
      "Oporto                  50000 non-null int64\n",
      "Krakow                  50000 non-null int64\n",
      "Copenhagen              50000 non-null int64\n",
      "Luxembourg              50000 non-null int64\n",
      "Zurich                  50000 non-null int64\n",
      "Geneva                  50000 non-null int64\n",
      "Ljubljana               50000 non-null int64\n",
      "count_cuisines          50000 non-null int64\n",
      "rare_cuisine            50000 non-null uint8\n",
      "popular_cuisine         50000 non-null uint8\n",
      "infrequent_cuisine      50000 non-null uint8\n",
      "good_reviews            50000 non-null uint8\n",
      "bad_reviews             50000 non-null uint8\n",
      "days_from_review        50000 non-null int64\n",
      "dtypes: datetime64[ns](1), float64(3), int64(38), object(8), uint8(14)\n",
      "memory usage: 19.7+ MB\n"
     ]
    }
   ],
   "source": [
    "df.info(verbose = True)"
   ]
  },
  {
   "cell_type": "markdown",
   "metadata": {},
   "source": [
    "# EDA \n",
    "[Exploratory Data Analysis](https://ru.wikipedia.org/wiki/Разведочный_анализ_данных) - Анализ данных\n",
    "На этом этапе мы строим графики, ищем закономерности, аномалии, выбросы или связи между признаками.\n",
    "В общем цель этого этапа понять, что эти данные могут нам дать и как признаки могут быть взаимосвязаны между собой.\n",
    "Понимание изначальных признаков позволит сгенерировать новые, более сильные и, тем самым, сделать нашу модель лучше.\n",
    "![](https://miro.medium.com/max/2598/1*RXdMb7Uk6mGqWqPguHULaQ.png)"
   ]
  },
  {
   "cell_type": "markdown",
   "metadata": {},
   "source": [
    "### Посмотрим распределение признака"
   ]
  },
  {
   "cell_type": "code",
   "execution_count": 70,
   "metadata": {},
   "outputs": [
    {
     "data": {
      "text/plain": [
       "<matplotlib.axes._subplots.AxesSubplot at 0x7feb464cb0f0>"
      ]
     },
     "execution_count": 70,
     "metadata": {},
     "output_type": "execute_result"
    },
    {
     "data": {
      "image/png": "[encoded data removed]",
      "text/plain": [
       "<Figure size 720x288 with 2 Axes>"
      ]
     },
     "metadata": {
      "needs_background": "light"
     },
     "output_type": "display_data"
    }
   ],
   "source": [
    "fig, axes = plt.subplots(1, 2, figsize=(10, 4));\n",
    "df_train['Ranking'].hist(bins=100, ax=axes[0])\n",
    "df_train.boxplot(column='Ranking', ax=axes[1])"
   ]
  },
  {
   "cell_type": "markdown",
   "metadata": {},
   "source": [
    "У нас много ресторанов, которые не дотягивают и до 2500 места в своем городе, а что там по городам?"
   ]
  },
  {
   "cell_type": "code",
   "execution_count": 71,
   "metadata": {},
   "outputs": [
    {
     "data": {
      "text/plain": [
       "<matplotlib.axes._subplots.AxesSubplot at 0x7feb2ff36dd8>"
      ]
     },
     "execution_count": 71,
     "metadata": {},
     "output_type": "execute_result"
    },
    {
     "data": {
      "image/png": "[encoded data removed]",
      "text/plain": [
       "<Figure size 432x288 with 1 Axes>"
      ]
     },
     "metadata": {
      "needs_background": "light"
     },
     "output_type": "display_data"
    }
   ],
   "source": [
    "df_train['City'].value_counts(ascending=True).plot(kind='barh')"
   ]
  },
  {
   "cell_type": "markdown",
   "metadata": {},
   "source": [
    "А кто-то говорил, что французы любят поесть=) Посмотрим, как изменится распределение в большом городе:"
   ]
  },
  {
   "cell_type": "code",
   "execution_count": 72,
   "metadata": {},
   "outputs": [
    {
     "data": {
      "text/plain": [
       "<matplotlib.axes._subplots.AxesSubplot at 0x7feb34e1ec88>"
      ]
     },
     "execution_count": 72,
     "metadata": {},
     "output_type": "execute_result"
    },
    {
     "data": {
      "image/png": "[encoded data removed]",
      "text/plain": [
       "<Figure size 432x288 with 1 Axes>"
      ]
     },
     "metadata": {
      "needs_background": "light"
     },
     "output_type": "display_data"
    }
   ],
   "source": [
    "df.groupby(['city'])['count_cuisines'].mean().plot(kind='bar', ylim=(1.5,4), grid=True, title='Среднее количество кухонь в ресторанах города')"
   ]
  },
  {
   "cell_type": "code",
   "execution_count": 73,
   "metadata": {},
   "outputs": [],
   "source": [
    "# Сформируем новый признак - среднее число кухонь для города (<2, 2<=x<3,>=3):\n",
    "mean_cuisines_list =dict(round(df.groupby(['city'])['count_cuisines'].mean(),2))\n",
    "\n",
    "df['mean_cuisines<2'] = df.city.apply(lambda x: 1 if mean_cuisines_list[x]<2 else 0)\n",
    "df['2<=mean_cuisines<3'] = df.city.apply(lambda x: 1 if 2<=mean_cuisines_list[x]<3 else 0)\n",
    "df['mean_cuisines>=3'] = df.city.apply(lambda x: 1 if mean_cuisines_list[x]>=3 else 0)"
   ]
  },
  {
   "cell_type": "code",
   "execution_count": 74,
   "metadata": {},
   "outputs": [
    {
     "data": {
      "text/plain": [
       "<matplotlib.axes._subplots.AxesSubplot at 0x7feb4626f390>"
      ]
     },
     "execution_count": 74,
     "metadata": {},
     "output_type": "execute_result"
    },
    {
     "data": {
      "image/png": "[encoded data removed]",
      "text/plain": [
       "<Figure size 432x288 with 1 Axes>"
      ]
     },
     "metadata": {
      "needs_background": "light"
     },
     "output_type": "display_data"
    }
   ],
   "source": [
    "df_train['Ranking'][df_train['City'] =='London'].hist(bins=100)"
   ]
  },
  {
   "cell_type": "code",
   "execution_count": 75,
   "metadata": {},
   "outputs": [
    {
     "data": {
      "image/png": "[encoded data removed]",
      "text/plain": [
       "<Figure size 432x288 with 1 Axes>"
      ]
     },
     "metadata": {
      "needs_background": "light"
     },
     "output_type": "display_data"
    }
   ],
   "source": [
    "# посмотрим на топ 10 городов\n",
    "for x in (df_train['City'].value_counts())[0:10].index:\n",
    "    df_train['Ranking'][df_train['City'] == x].hist(bins=100)\n",
    "plt.show()"
   ]
  },
  {
   "cell_type": "markdown",
   "metadata": {},
   "source": [
    "Получается, что Ranking имеет нормальное распределение, просто в больших городах больше ресторанов, из-за мы этого имеем смещение.\n",
    "\n",
    ">Подумайте как из этого можно сделать признак для вашей модели. Я покажу вам пример, как визуализация помогает находить взаимосвязи. А далее действуйте без подсказок =) \n"
   ]
  },
  {
   "cell_type": "markdown",
   "metadata": {},
   "source": [
    "### Посмотрим распределение целевой переменной"
   ]
  },
  {
   "cell_type": "code",
   "execution_count": 76,
   "metadata": {},
   "outputs": [
    {
     "data": {
      "text/plain": [
       "<matplotlib.axes._subplots.AxesSubplot at 0x7feb345438d0>"
      ]
     },
     "execution_count": 76,
     "metadata": {},
     "output_type": "execute_result"
    },
    {
     "data": {
      "image/png": "[encoded data removed]",
      "text/plain": [
       "<Figure size 432x288 with 1 Axes>"
      ]
     },
     "metadata": {
      "needs_background": "light"
     },
     "output_type": "display_data"
    }
   ],
   "source": [
    "df_train['Rating'].value_counts(ascending=True).plot(kind='barh')"
   ]
  },
  {
   "cell_type": "markdown",
   "metadata": {},
   "source": [
    "### Посмотрим распределение целевой переменной относительно признака"
   ]
  },
  {
   "cell_type": "code",
   "execution_count": 77,
   "metadata": {},
   "outputs": [
    {
     "data": {
      "text/plain": [
       "<matplotlib.axes._subplots.AxesSubplot at 0x7feb34b74588>"
      ]
     },
     "execution_count": 77,
     "metadata": {},
     "output_type": "execute_result"
    },
    {
     "data": {
      "image/png": "[encoded data removed]",
      "text/plain": [
       "<Figure size 432x288 with 1 Axes>"
      ]
     },
     "metadata": {
      "needs_background": "light"
     },
     "output_type": "display_data"
    }
   ],
   "source": [
    "df_train['Ranking'][df_train['Rating'] == 5].hist(bins=100)"
   ]
  },
  {
   "cell_type": "code",
   "execution_count": 78,
   "metadata": {},
   "outputs": [
    {
     "data": {
      "text/plain": [
       "<matplotlib.axes._subplots.AxesSubplot at 0x7feb34a98dd8>"
      ]
     },
     "execution_count": 78,
     "metadata": {},
     "output_type": "execute_result"
    },
    {
     "data": {
      "image/png": "[encoded data removed]",
      "text/plain": [
       "<Figure size 432x288 with 1 Axes>"
      ]
     },
     "metadata": {
      "needs_background": "light"
     },
     "output_type": "display_data"
    }
   ],
   "source": [
    "df_train['Ranking'][df_train['Rating'] < 4].hist(bins=100)"
   ]
  },
  {
   "cell_type": "markdown",
   "metadata": {},
   "source": [
    "### И один из моих любимых - [корреляция признаков](https://ru.wikipedia.org/wiki/Корреляция)\n",
    "На этом графике уже сейчас вы сможете заметить, как признаки связаны между собой и с целевой переменной."
   ]
  },
  {
   "cell_type": "code",
   "execution_count": 79,
   "metadata": {},
   "outputs": [
    {
     "data": {
      "text/plain": [
       "Index(['restaurant_id', 'city', 'cuisine_style', 'ranking', 'price_range',\n",
       "       'number_reviews', 'reviews', 'url_ta', 'id_ta', 'sample', 'rating',\n",
       "       'number_reviews_isNAN', 'price_range_isNAN', 'reviews_isNAN',\n",
       "       'code_restaurant_id', 'cuisines', 'code_price_range',\n",
       "       'last_review_date', 'code_url_ta', 'code_id_ta', 'chain_restaurant',\n",
       "       'capital_city', 'nord_europe', 'central_europe', 'south_europe',\n",
       "       'seaport', 'Paris', 'Helsinki', 'Edinburgh', 'London', 'Bratislava',\n",
       "       'Lisbon', 'Budapest', 'Stockholm', 'Rome', 'Milan', 'Munich', 'Hamburg',\n",
       "       'Prague', 'Vienna', 'Dublin', 'Barcelona', 'Brussels', 'Madrid', 'Oslo',\n",
       "       'Amsterdam', 'Berlin', 'Lyon', 'Athens', 'Warsaw', 'Oporto', 'Krakow',\n",
       "       'Copenhagen', 'Luxembourg', 'Zurich', 'Geneva', 'Ljubljana',\n",
       "       'count_cuisines', 'rare_cuisine', 'popular_cuisine',\n",
       "       'infrequent_cuisine', 'good_reviews', 'bad_reviews', 'days_from_review',\n",
       "       'mean_cuisines<2', '2<=mean_cuisines<3', 'mean_cuisines>=3'],\n",
       "      dtype='object')"
      ]
     },
     "execution_count": 79,
     "metadata": {},
     "output_type": "execute_result"
    }
   ],
   "source": [
    "df.columns"
   ]
  },
  {
   "cell_type": "code",
   "execution_count": 80,
   "metadata": {},
   "outputs": [
    {
     "data": {
      "text/plain": [
       "<matplotlib.axes._subplots.AxesSubplot at 0x7feb349419e8>"
      ]
     },
     "execution_count": 80,
     "metadata": {},
     "output_type": "execute_result"
    },
    {
     "data": {
      "image/png": "[encoded data removed]",
      "text/plain": [
       "<Figure size 1512x1008 with 2 Axes>"
      ]
     },
     "metadata": {
      "needs_background": "light"
     },
     "output_type": "display_data"
    }
   ],
   "source": [
    "# Создаем датафрейм с основными числовыми признаками и смотрим их корреляцию\n",
    "df_base = df[['rating','ranking', 'number_reviews', 'code_restaurant_id', 'code_url_ta', 'code_price_range', 'price_range_isNAN', 'reviews_isNAN', 'days_from_review', \n",
    "              'code_id_ta', 'capital_city', 'count_cuisines', 'rare_cuisine','infrequent_cuisine', 'popular_cuisine', 'chain_restaurant', 'seaport', \n",
    "              'good_reviews', 'bad_reviews', 'mean_cuisines<2','2<=mean_cuisines<3','mean_cuisines>=3' ]] \n",
    "\n",
    "correlation = df_base.corr()\n",
    "plt.figure(figsize=(21, 14))\n",
    "sns.heatmap(correlation, annot=True, cmap='coolwarm')"
   ]
  },
  {
   "cell_type": "markdown",
   "metadata": {},
   "source": [
    "Вообще благодаря визуализации в этом датасете можно узнать много интересных фактов, например:\n",
    "* где больше Пицерий в Мадриде или Лондоне?\n",
    "* в каком городе кухня ресторанов более разнообразна?\n",
    "\n",
    "придумайте свои вопрос и найдите на него ответ в данных)"
   ]
  },
  {
   "cell_type": "markdown",
   "metadata": {},
   "source": [
    "# Data Preprocessing"
   ]
  },
  {
   "cell_type": "code",
   "execution_count": 81,
   "metadata": {},
   "outputs": [],
   "source": [
    "#Теперь, для удобства и воспроизводимости кода, завернем всю обработку в одну большую функцию.\n",
    "\n",
    "\n",
    "# на всякий случай, заново подгружаем данные\n",
    "#df_train = pd.read_csv(DATA_DIR+'/main_task.csv')\n",
    "#df_test = pd.read_csv(DATA_DIR+'/kaggle_task.csv')\n",
    "#df_train['sample'] = 1 # помечаем где у нас трейн\n",
    "#df_test['sample'] = 0 # помечаем где у нас тест\n",
    "#df_test['Rating'] = 0 # в тесте у нас нет значения Rating, мы его должны предсказать, по этому пока просто заполняем нулями\n",
    "\n",
    "#data = df_test.append(df_train, sort=False).reset_index(drop=True) # объединяем\n",
    "#data.info()\n",
    "\n",
    "def preproc_data(df_input):\n",
    "    '''includes several functions to pre-process the predictor data.'''\n",
    "    \n",
    "    df_output = df_input.copy()\n",
    "    \n",
    "    # ################### 1. Предобработка ############################################################## \n",
    "    # убираем не нужные для модели признаки\n",
    "    df_output.drop(['Restaurant_id','ID_TA',], axis = 1, inplace=True)\n",
    "    \n",
    "    \n",
    "    # ################### 2. NAN ############################################################## \n",
    "    # Далее заполняем пропуски, вы можете попробовать заполнением средним или средним по городу и тд...\n",
    "    df_output['Number of Reviews'].fillna(0, inplace=True)\n",
    "    # тут ваш код по обработке NAN\n",
    "    # ....\n",
    "    \n",
    "    \n",
    "    # ################### 3. Encoding ############################################################## \n",
    "    # для One-Hot Encoding в pandas есть готовая функция - get_dummies. Особенно радует параметр dummy_na\n",
    "    df_output = pd.get_dummies(df_output, columns=[ 'City',], dummy_na=True)\n",
    "    # тут ваш код не Encoding фитчей\n",
    "    # ....\n",
    "    \n",
    "    \n",
    "    # ################### 4. Feature Engineering ####################################################\n",
    "    # тут ваш код не генерацию новых фитчей\n",
    "    # ....\n",
    "    \n",
    "    \n",
    "    # ################### 5. Clean #################################################### \n",
    "    # убираем признаки которые еще не успели обработать, \n",
    "    # модель на признаках с dtypes \"object\" обучаться не будет, просто выберим их и удалим\n",
    "    object_columns = [s for s in df_output.columns if df_output[s].dtypes == 'object']\n",
    "    df_output.drop(object_columns, axis = 1, inplace=True)\n",
    "    \n",
    "    return df_output\n",
    "\n",
    "#df_preproc = preproc_data(data)"
   ]
  },
  {
   "cell_type": "code",
   "execution_count": 82,
   "metadata": {},
   "outputs": [],
   "source": [
    "# Создаем датафрейм с числовыми столбцами исходного датафрейма\n",
    "df_preproc = df.select_dtypes(include = ['int16', 'int32', 'int64', 'float16', 'float32', 'float64', 'uint8'])"
   ]
  },
  {
   "cell_type": "code",
   "execution_count": 83,
   "metadata": {},
   "outputs": [
    {
     "name": "stderr",
     "output_type": "stream",
     "text": [
      "/opt/conda/lib/python3.6/site-packages/pandas/core/frame.py:4117: SettingWithCopyWarning: \n",
      "A value is trying to be set on a copy of a slice from a DataFrame\n",
      "\n",
      "See the caveats in the documentation: http://pandas.pydata.org/pandas-docs/stable/user_guide/indexing.html#returning-a-view-versus-a-copy\n",
      "  errors=errors,\n"
     ]
    },
    {
     "data": {
      "text/html": [
       "<div>\n",
       "<style scoped>\n",
       "    .dataframe tbody tr th:only-of-type {\n",
       "        vertical-align: middle;\n",
       "    }\n",
       "\n",
       "    .dataframe tbody tr th {\n",
       "        vertical-align: top;\n",
       "    }\n",
       "\n",
       "    .dataframe thead th {\n",
       "        text-align: right;\n",
       "    }\n",
       "</style>\n",
       "<table border=\"1\" class=\"dataframe\">\n",
       "  <thead>\n",
       "    <tr style=\"text-align: right;\">\n",
       "      <th></th>\n",
       "      <th>ranking</th>\n",
       "      <th>number_reviews</th>\n",
       "      <th>sample</th>\n",
       "      <th>rating</th>\n",
       "      <th>number_reviews_isNAN</th>\n",
       "      <th>price_range_isNAN</th>\n",
       "      <th>reviews_isNAN</th>\n",
       "      <th>code_price_range</th>\n",
       "      <th>code_url_ta</th>\n",
       "      <th>chain_restaurant</th>\n",
       "      <th>...</th>\n",
       "      <th>Geneva</th>\n",
       "      <th>Ljubljana</th>\n",
       "      <th>count_cuisines</th>\n",
       "      <th>rare_cuisine</th>\n",
       "      <th>popular_cuisine</th>\n",
       "      <th>infrequent_cuisine</th>\n",
       "      <th>days_from_review</th>\n",
       "      <th>mean_cuisines&lt;2</th>\n",
       "      <th>2&lt;=mean_cuisines&lt;3</th>\n",
       "      <th>mean_cuisines&gt;=3</th>\n",
       "    </tr>\n",
       "  </thead>\n",
       "  <tbody>\n",
       "    <tr>\n",
       "      <th>12834</th>\n",
       "      <td>2341.0</td>\n",
       "      <td>79.0</td>\n",
       "      <td>1</td>\n",
       "      <td>4.0</td>\n",
       "      <td>0</td>\n",
       "      <td>0</td>\n",
       "      <td>0</td>\n",
       "      <td>2</td>\n",
       "      <td>186338</td>\n",
       "      <td>0</td>\n",
       "      <td>...</td>\n",
       "      <td>0</td>\n",
       "      <td>0</td>\n",
       "      <td>2</td>\n",
       "      <td>0</td>\n",
       "      <td>0</td>\n",
       "      <td>0</td>\n",
       "      <td>995</td>\n",
       "      <td>0</td>\n",
       "      <td>1</td>\n",
       "      <td>0</td>\n",
       "    </tr>\n",
       "    <tr>\n",
       "      <th>43928</th>\n",
       "      <td>262.0</td>\n",
       "      <td>227.0</td>\n",
       "      <td>1</td>\n",
       "      <td>5.0</td>\n",
       "      <td>0</td>\n",
       "      <td>0</td>\n",
       "      <td>0</td>\n",
       "      <td>2</td>\n",
       "      <td>187147</td>\n",
       "      <td>0</td>\n",
       "      <td>...</td>\n",
       "      <td>0</td>\n",
       "      <td>0</td>\n",
       "      <td>3</td>\n",
       "      <td>0</td>\n",
       "      <td>0</td>\n",
       "      <td>0</td>\n",
       "      <td>1001</td>\n",
       "      <td>0</td>\n",
       "      <td>1</td>\n",
       "      <td>0</td>\n",
       "    </tr>\n",
       "    <tr>\n",
       "      <th>10679</th>\n",
       "      <td>3712.0</td>\n",
       "      <td>187.0</td>\n",
       "      <td>1</td>\n",
       "      <td>4.0</td>\n",
       "      <td>0</td>\n",
       "      <td>0</td>\n",
       "      <td>0</td>\n",
       "      <td>2</td>\n",
       "      <td>186338</td>\n",
       "      <td>0</td>\n",
       "      <td>...</td>\n",
       "      <td>0</td>\n",
       "      <td>0</td>\n",
       "      <td>3</td>\n",
       "      <td>0</td>\n",
       "      <td>0</td>\n",
       "      <td>0</td>\n",
       "      <td>1067</td>\n",
       "      <td>0</td>\n",
       "      <td>1</td>\n",
       "      <td>0</td>\n",
       "    </tr>\n",
       "    <tr>\n",
       "      <th>2048</th>\n",
       "      <td>2036.0</td>\n",
       "      <td>57.0</td>\n",
       "      <td>0</td>\n",
       "      <td>0.0</td>\n",
       "      <td>0</td>\n",
       "      <td>0</td>\n",
       "      <td>0</td>\n",
       "      <td>2</td>\n",
       "      <td>190454</td>\n",
       "      <td>0</td>\n",
       "      <td>...</td>\n",
       "      <td>0</td>\n",
       "      <td>0</td>\n",
       "      <td>2</td>\n",
       "      <td>0</td>\n",
       "      <td>0</td>\n",
       "      <td>0</td>\n",
       "      <td>1864</td>\n",
       "      <td>0</td>\n",
       "      <td>1</td>\n",
       "      <td>0</td>\n",
       "    </tr>\n",
       "    <tr>\n",
       "      <th>46754</th>\n",
       "      <td>1162.0</td>\n",
       "      <td>11.0</td>\n",
       "      <td>1</td>\n",
       "      <td>5.0</td>\n",
       "      <td>0</td>\n",
       "      <td>1</td>\n",
       "      <td>0</td>\n",
       "      <td>2</td>\n",
       "      <td>187309</td>\n",
       "      <td>0</td>\n",
       "      <td>...</td>\n",
       "      <td>0</td>\n",
       "      <td>0</td>\n",
       "      <td>1</td>\n",
       "      <td>0</td>\n",
       "      <td>0</td>\n",
       "      <td>0</td>\n",
       "      <td>2199</td>\n",
       "      <td>0</td>\n",
       "      <td>1</td>\n",
       "      <td>0</td>\n",
       "    </tr>\n",
       "    <tr>\n",
       "      <th>38019</th>\n",
       "      <td>1839.0</td>\n",
       "      <td>30.0</td>\n",
       "      <td>1</td>\n",
       "      <td>4.5</td>\n",
       "      <td>0</td>\n",
       "      <td>0</td>\n",
       "      <td>0</td>\n",
       "      <td>1</td>\n",
       "      <td>188590</td>\n",
       "      <td>0</td>\n",
       "      <td>...</td>\n",
       "      <td>0</td>\n",
       "      <td>0</td>\n",
       "      <td>3</td>\n",
       "      <td>0</td>\n",
       "      <td>0</td>\n",
       "      <td>0</td>\n",
       "      <td>1183</td>\n",
       "      <td>0</td>\n",
       "      <td>0</td>\n",
       "      <td>1</td>\n",
       "    </tr>\n",
       "    <tr>\n",
       "      <th>20027</th>\n",
       "      <td>5757.0</td>\n",
       "      <td>10.0</td>\n",
       "      <td>1</td>\n",
       "      <td>3.5</td>\n",
       "      <td>0</td>\n",
       "      <td>1</td>\n",
       "      <td>1</td>\n",
       "      <td>2</td>\n",
       "      <td>187849</td>\n",
       "      <td>0</td>\n",
       "      <td>...</td>\n",
       "      <td>0</td>\n",
       "      <td>0</td>\n",
       "      <td>2</td>\n",
       "      <td>0</td>\n",
       "      <td>0</td>\n",
       "      <td>0</td>\n",
       "      <td>5988</td>\n",
       "      <td>0</td>\n",
       "      <td>1</td>\n",
       "      <td>0</td>\n",
       "    </tr>\n",
       "    <tr>\n",
       "      <th>45193</th>\n",
       "      <td>5319.0</td>\n",
       "      <td>37.0</td>\n",
       "      <td>1</td>\n",
       "      <td>4.5</td>\n",
       "      <td>0</td>\n",
       "      <td>0</td>\n",
       "      <td>0</td>\n",
       "      <td>2</td>\n",
       "      <td>187147</td>\n",
       "      <td>0</td>\n",
       "      <td>...</td>\n",
       "      <td>0</td>\n",
       "      <td>0</td>\n",
       "      <td>1</td>\n",
       "      <td>0</td>\n",
       "      <td>0</td>\n",
       "      <td>0</td>\n",
       "      <td>3593</td>\n",
       "      <td>0</td>\n",
       "      <td>1</td>\n",
       "      <td>0</td>\n",
       "    </tr>\n",
       "    <tr>\n",
       "      <th>38736</th>\n",
       "      <td>3357.0</td>\n",
       "      <td>15.0</td>\n",
       "      <td>1</td>\n",
       "      <td>2.5</td>\n",
       "      <td>0</td>\n",
       "      <td>0</td>\n",
       "      <td>0</td>\n",
       "      <td>1</td>\n",
       "      <td>190454</td>\n",
       "      <td>0</td>\n",
       "      <td>...</td>\n",
       "      <td>0</td>\n",
       "      <td>0</td>\n",
       "      <td>2</td>\n",
       "      <td>0</td>\n",
       "      <td>0</td>\n",
       "      <td>0</td>\n",
       "      <td>1416</td>\n",
       "      <td>0</td>\n",
       "      <td>1</td>\n",
       "      <td>0</td>\n",
       "    </tr>\n",
       "    <tr>\n",
       "      <th>13674</th>\n",
       "      <td>2506.0</td>\n",
       "      <td>150.0</td>\n",
       "      <td>1</td>\n",
       "      <td>4.0</td>\n",
       "      <td>0</td>\n",
       "      <td>0</td>\n",
       "      <td>0</td>\n",
       "      <td>2</td>\n",
       "      <td>187791</td>\n",
       "      <td>0</td>\n",
       "      <td>...</td>\n",
       "      <td>0</td>\n",
       "      <td>0</td>\n",
       "      <td>3</td>\n",
       "      <td>0</td>\n",
       "      <td>0</td>\n",
       "      <td>0</td>\n",
       "      <td>1097</td>\n",
       "      <td>0</td>\n",
       "      <td>0</td>\n",
       "      <td>1</td>\n",
       "    </tr>\n",
       "  </tbody>\n",
       "</table>\n",
       "<p>10 rows × 53 columns</p>\n",
       "</div>"
      ],
      "text/plain": [
       "       ranking  number_reviews  sample  rating  number_reviews_isNAN  \\\n",
       "12834   2341.0            79.0       1     4.0                     0   \n",
       "43928    262.0           227.0       1     5.0                     0   \n",
       "10679   3712.0           187.0       1     4.0                     0   \n",
       "2048    2036.0            57.0       0     0.0                     0   \n",
       "46754   1162.0            11.0       1     5.0                     0   \n",
       "38019   1839.0            30.0       1     4.5                     0   \n",
       "20027   5757.0            10.0       1     3.5                     0   \n",
       "45193   5319.0            37.0       1     4.5                     0   \n",
       "38736   3357.0            15.0       1     2.5                     0   \n",
       "13674   2506.0           150.0       1     4.0                     0   \n",
       "\n",
       "       price_range_isNAN  reviews_isNAN  code_price_range  code_url_ta  \\\n",
       "12834                  0              0                 2       186338   \n",
       "43928                  0              0                 2       187147   \n",
       "10679                  0              0                 2       186338   \n",
       "2048                   0              0                 2       190454   \n",
       "46754                  1              0                 2       187309   \n",
       "38019                  0              0                 1       188590   \n",
       "20027                  1              1                 2       187849   \n",
       "45193                  0              0                 2       187147   \n",
       "38736                  0              0                 1       190454   \n",
       "13674                  0              0                 2       187791   \n",
       "\n",
       "       chain_restaurant  ...  Geneva  Ljubljana  count_cuisines  rare_cuisine  \\\n",
       "12834                 0  ...       0          0               2             0   \n",
       "43928                 0  ...       0          0               3             0   \n",
       "10679                 0  ...       0          0               3             0   \n",
       "2048                  0  ...       0          0               2             0   \n",
       "46754                 0  ...       0          0               1             0   \n",
       "38019                 0  ...       0          0               3             0   \n",
       "20027                 0  ...       0          0               2             0   \n",
       "45193                 0  ...       0          0               1             0   \n",
       "38736                 0  ...       0          0               2             0   \n",
       "13674                 0  ...       0          0               3             0   \n",
       "\n",
       "       popular_cuisine  infrequent_cuisine  days_from_review  mean_cuisines<2  \\\n",
       "12834                0                   0               995                0   \n",
       "43928                0                   0              1001                0   \n",
       "10679                0                   0              1067                0   \n",
       "2048                 0                   0              1864                0   \n",
       "46754                0                   0              2199                0   \n",
       "38019                0                   0              1183                0   \n",
       "20027                0                   0              5988                0   \n",
       "45193                0                   0              3593                0   \n",
       "38736                0                   0              1416                0   \n",
       "13674                0                   0              1097                0   \n",
       "\n",
       "       2<=mean_cuisines<3  mean_cuisines>=3  \n",
       "12834                   1                 0  \n",
       "43928                   1                 0  \n",
       "10679                   1                 0  \n",
       "2048                    1                 0  \n",
       "46754                   1                 0  \n",
       "38019                   0                 1  \n",
       "20027                   1                 0  \n",
       "45193                   1                 0  \n",
       "38736                   1                 0  \n",
       "13674                   0                 1  \n",
       "\n",
       "[10 rows x 53 columns]"
      ]
     },
     "execution_count": 83,
     "metadata": {},
     "output_type": "execute_result"
    }
   ],
   "source": [
    "# У 'ranking' и 'code_restaurant_id' одинаковая корреляция со всеми столбцами, поэтому удалим 'code_restaurant_id'\n",
    "df_preproc.drop(['code_restaurant_id'], axis = 1,inplace=True, errors='ignore')\n",
    "# Из-за низкой кореляции с целевой переменной удаляем признаки морского порта и характеристики отзывов:\n",
    "df_preproc.drop([ 'seaport', 'good_reviews', 'bad_reviews', 'code_id_ta'], axis = 1,inplace=True, errors='ignore')\n",
    "df_preproc.sample(10)"
   ]
  },
  {
   "cell_type": "markdown",
   "metadata": {},
   "source": [
    "#### Запускаем и проверяем что получилось"
   ]
  },
  {
   "cell_type": "code",
   "execution_count": 84,
   "metadata": {},
   "outputs": [
    {
     "name": "stdout",
     "output_type": "stream",
     "text": [
      "<class 'pandas.core.frame.DataFrame'>\n",
      "RangeIndex: 50000 entries, 0 to 49999\n",
      "Data columns (total 53 columns):\n",
      "ranking                 50000 non-null float64\n",
      "number_reviews          50000 non-null float64\n",
      "sample                  50000 non-null int64\n",
      "rating                  50000 non-null float64\n",
      "number_reviews_isNAN    50000 non-null uint8\n",
      "price_range_isNAN       50000 non-null uint8\n",
      "reviews_isNAN           50000 non-null uint8\n",
      "code_price_range        50000 non-null int64\n",
      "code_url_ta             50000 non-null int64\n",
      "chain_restaurant        50000 non-null uint8\n",
      "capital_city            50000 non-null uint8\n",
      "nord_europe             50000 non-null uint8\n",
      "central_europe          50000 non-null uint8\n",
      "south_europe            50000 non-null uint8\n",
      "Paris                   50000 non-null int64\n",
      "Helsinki                50000 non-null int64\n",
      "Edinburgh               50000 non-null int64\n",
      "London                  50000 non-null int64\n",
      "Bratislava              50000 non-null int64\n",
      "Lisbon                  50000 non-null int64\n",
      "Budapest                50000 non-null int64\n",
      "Stockholm               50000 non-null int64\n",
      "Rome                    50000 non-null int64\n",
      "Milan                   50000 non-null int64\n",
      "Munich                  50000 non-null int64\n",
      "Hamburg                 50000 non-null int64\n",
      "Prague                  50000 non-null int64\n",
      "Vienna                  50000 non-null int64\n",
      "Dublin                  50000 non-null int64\n",
      "Barcelona               50000 non-null int64\n",
      "Brussels                50000 non-null int64\n",
      "Madrid                  50000 non-null int64\n",
      "Oslo                    50000 non-null int64\n",
      "Amsterdam               50000 non-null int64\n",
      "Berlin                  50000 non-null int64\n",
      "Lyon                    50000 non-null int64\n",
      "Athens                  50000 non-null int64\n",
      "Warsaw                  50000 non-null int64\n",
      "Oporto                  50000 non-null int64\n",
      "Krakow                  50000 non-null int64\n",
      "Copenhagen              50000 non-null int64\n",
      "Luxembourg              50000 non-null int64\n",
      "Zurich                  50000 non-null int64\n",
      "Geneva                  50000 non-null int64\n",
      "Ljubljana               50000 non-null int64\n",
      "count_cuisines          50000 non-null int64\n",
      "rare_cuisine            50000 non-null uint8\n",
      "popular_cuisine         50000 non-null uint8\n",
      "infrequent_cuisine      50000 non-null uint8\n",
      "days_from_review        50000 non-null int64\n",
      "mean_cuisines<2         50000 non-null int64\n",
      "2<=mean_cuisines<3      50000 non-null int64\n",
      "mean_cuisines>=3        50000 non-null int64\n",
      "dtypes: float64(3), int64(39), uint8(11)\n",
      "memory usage: 16.5 MB\n"
     ]
    }
   ],
   "source": [
    "df_preproc.info()"
   ]
  },
  {
   "cell_type": "code",
   "execution_count": 85,
   "metadata": {},
   "outputs": [],
   "source": [
    "# Теперь выделим тестовую часть\n",
    "train_data = df_preproc.query('sample == 1').drop(['sample'], axis=1)\n",
    "test_data = df_preproc.query('sample == 0').drop(['sample'], axis=1)\n",
    "\n",
    "y = train_data.rating.values            # наш таргет\n",
    "X = train_data.drop(['rating'], axis=1)"
   ]
  },
  {
   "cell_type": "markdown",
   "metadata": {},
   "source": [
    "**Перед тем как отправлять наши данные на обучение, разделим данные на еще один тест и трейн, для валидации. \n",
    "Это поможет нам проверить, как хорошо наша модель работает, до отправки submissiona на kaggle.**"
   ]
  },
  {
   "cell_type": "code",
   "execution_count": 86,
   "metadata": {},
   "outputs": [],
   "source": [
    "# Воспользуемся специальной функцие train_test_split для разбивки тестовых данных\n",
    "# выделим 20% данных на валидацию (параметр test_size)\n",
    "X_train, X_test, y_train, y_test = train_test_split(X, y, test_size=0.2, random_state=RANDOM_SEED)"
   ]
  },
  {
   "cell_type": "code",
   "execution_count": 87,
   "metadata": {},
   "outputs": [
    {
     "data": {
      "text/plain": [
       "((10000, 52), (40000, 52), (40000, 51), (32000, 51), (8000, 51))"
      ]
     },
     "execution_count": 87,
     "metadata": {},
     "output_type": "execute_result"
    }
   ],
   "source": [
    "# проверяем\n",
    "test_data.shape, train_data.shape, X.shape, X_train.shape, X_test.shape"
   ]
  },
  {
   "cell_type": "markdown",
   "metadata": {},
   "source": [
    "# Model \n",
    "Сам ML"
   ]
  },
  {
   "cell_type": "code",
   "execution_count": 88,
   "metadata": {},
   "outputs": [],
   "source": [
    "# Импортируем необходимые библиотеки:\n",
    "from sklearn.ensemble import RandomForestRegressor # инструмент для создания и обучения модели\n",
    "from sklearn import metrics # инструменты для оценки точности модели"
   ]
  },
  {
   "cell_type": "code",
   "execution_count": 89,
   "metadata": {},
   "outputs": [],
   "source": [
    "# Создаём модель (НАСТРОЙКИ НЕ ТРОГАЕМ)\n",
    "model = RandomForestRegressor(n_estimators=100, verbose=1, n_jobs=-1, random_state=RANDOM_SEED)"
   ]
  },
  {
   "cell_type": "code",
   "execution_count": 90,
   "metadata": {},
   "outputs": [
    {
     "name": "stderr",
     "output_type": "stream",
     "text": [
      "[Parallel(n_jobs=-1)]: Using backend ThreadingBackend with 4 concurrent workers.\n",
      "[Parallel(n_jobs=-1)]: Done  42 tasks      | elapsed:    2.6s\n",
      "[Parallel(n_jobs=-1)]: Done 100 out of 100 | elapsed:    6.0s finished\n",
      "[Parallel(n_jobs=4)]: Using backend ThreadingBackend with 4 concurrent workers.\n",
      "[Parallel(n_jobs=4)]: Done  42 tasks      | elapsed:    0.0s\n",
      "[Parallel(n_jobs=4)]: Done 100 out of 100 | elapsed:    0.1s finished\n"
     ]
    }
   ],
   "source": [
    "# Обучаем модель на тестовом наборе данных\n",
    "model.fit(X_train, y_train)\n",
    "\n",
    "# Используем обученную модель для предсказания рейтинга ресторанов в тестовой выборке.\n",
    "# Предсказанные значения записываем в переменную y_pred\n",
    "y_pred = model.predict(X_test)"
   ]
  },
  {
   "cell_type": "code",
   "execution_count": 91,
   "metadata": {},
   "outputs": [
    {
     "name": "stdout",
     "output_type": "stream",
     "text": [
      "MAE: 0.20547125\n"
     ]
    }
   ],
   "source": [
    "# Сравниваем предсказанные значения (y_pred) с реальными (y_test), и смотрим насколько они в среднем отличаются\n",
    "# Метрика называется Mean Absolute Error (MAE) и показывает среднее отклонение предсказанных значений от фактических.\n",
    "print('MAE:', metrics.mean_absolute_error(y_test, y_pred))"
   ]
  },
  {
   "cell_type": "code",
   "execution_count": 92,
   "metadata": {},
   "outputs": [
    {
     "data": {
      "text/plain": [
       "<matplotlib.axes._subplots.AxesSubplot at 0x7feb44084a90>"
      ]
     },
     "execution_count": 92,
     "metadata": {},
     "output_type": "execute_result"
    },
    {
     "data": {
      "image/png": "[encoded data removed]",
      "text/plain": [
       "<Figure size 720x720 with 1 Axes>"
      ]
     },
     "metadata": {
      "needs_background": "light"
     },
     "output_type": "display_data"
    }
   ],
   "source": [
    "# в RandomForestRegressor есть возможность вывести самые важные признаки для модели\n",
    "plt.rcParams['figure.figsize'] = (10,10)\n",
    "feat_importances = pd.Series(model.feature_importances_, index=X.columns)\n",
    "feat_importances.nlargest(15).plot(kind='barh')"
   ]
  },
  {
   "cell_type": "markdown",
   "metadata": {},
   "source": [
    "# Submission\n",
    "Если все устраевает - готовим Submission на кагл"
   ]
  },
  {
   "cell_type": "code",
   "execution_count": 93,
   "metadata": {},
   "outputs": [
    {
     "data": {
      "text/html": [
       "<div>\n",
       "<style scoped>\n",
       "    .dataframe tbody tr th:only-of-type {\n",
       "        vertical-align: middle;\n",
       "    }\n",
       "\n",
       "    .dataframe tbody tr th {\n",
       "        vertical-align: top;\n",
       "    }\n",
       "\n",
       "    .dataframe thead th {\n",
       "        text-align: right;\n",
       "    }\n",
       "</style>\n",
       "<table border=\"1\" class=\"dataframe\">\n",
       "  <thead>\n",
       "    <tr style=\"text-align: right;\">\n",
       "      <th></th>\n",
       "      <th>ranking</th>\n",
       "      <th>number_reviews</th>\n",
       "      <th>rating</th>\n",
       "      <th>number_reviews_isNAN</th>\n",
       "      <th>price_range_isNAN</th>\n",
       "      <th>reviews_isNAN</th>\n",
       "      <th>code_price_range</th>\n",
       "      <th>code_url_ta</th>\n",
       "      <th>chain_restaurant</th>\n",
       "      <th>capital_city</th>\n",
       "      <th>...</th>\n",
       "      <th>Geneva</th>\n",
       "      <th>Ljubljana</th>\n",
       "      <th>count_cuisines</th>\n",
       "      <th>rare_cuisine</th>\n",
       "      <th>popular_cuisine</th>\n",
       "      <th>infrequent_cuisine</th>\n",
       "      <th>days_from_review</th>\n",
       "      <th>mean_cuisines&lt;2</th>\n",
       "      <th>2&lt;=mean_cuisines&lt;3</th>\n",
       "      <th>mean_cuisines&gt;=3</th>\n",
       "    </tr>\n",
       "  </thead>\n",
       "  <tbody>\n",
       "    <tr>\n",
       "      <th>6849</th>\n",
       "      <td>227.0</td>\n",
       "      <td>52.0</td>\n",
       "      <td>0.0</td>\n",
       "      <td>0</td>\n",
       "      <td>0</td>\n",
       "      <td>0</td>\n",
       "      <td>2</td>\n",
       "      <td>187323</td>\n",
       "      <td>0</td>\n",
       "      <td>1</td>\n",
       "      <td>...</td>\n",
       "      <td>0</td>\n",
       "      <td>0</td>\n",
       "      <td>2</td>\n",
       "      <td>0</td>\n",
       "      <td>0</td>\n",
       "      <td>0</td>\n",
       "      <td>1371</td>\n",
       "      <td>0</td>\n",
       "      <td>1</td>\n",
       "      <td>0</td>\n",
       "    </tr>\n",
       "    <tr>\n",
       "      <th>6338</th>\n",
       "      <td>413.0</td>\n",
       "      <td>116.0</td>\n",
       "      <td>0.0</td>\n",
       "      <td>0</td>\n",
       "      <td>0</td>\n",
       "      <td>0</td>\n",
       "      <td>2</td>\n",
       "      <td>189400</td>\n",
       "      <td>0</td>\n",
       "      <td>1</td>\n",
       "      <td>...</td>\n",
       "      <td>0</td>\n",
       "      <td>0</td>\n",
       "      <td>4</td>\n",
       "      <td>0</td>\n",
       "      <td>0</td>\n",
       "      <td>0</td>\n",
       "      <td>1031</td>\n",
       "      <td>0</td>\n",
       "      <td>1</td>\n",
       "      <td>0</td>\n",
       "    </tr>\n",
       "    <tr>\n",
       "      <th>8359</th>\n",
       "      <td>1775.0</td>\n",
       "      <td>29.0</td>\n",
       "      <td>0.0</td>\n",
       "      <td>0</td>\n",
       "      <td>0</td>\n",
       "      <td>1</td>\n",
       "      <td>1</td>\n",
       "      <td>187849</td>\n",
       "      <td>0</td>\n",
       "      <td>0</td>\n",
       "      <td>...</td>\n",
       "      <td>0</td>\n",
       "      <td>0</td>\n",
       "      <td>1</td>\n",
       "      <td>0</td>\n",
       "      <td>0</td>\n",
       "      <td>0</td>\n",
       "      <td>5988</td>\n",
       "      <td>0</td>\n",
       "      <td>1</td>\n",
       "      <td>0</td>\n",
       "    </tr>\n",
       "    <tr>\n",
       "      <th>3488</th>\n",
       "      <td>1702.0</td>\n",
       "      <td>30.0</td>\n",
       "      <td>0.0</td>\n",
       "      <td>0</td>\n",
       "      <td>0</td>\n",
       "      <td>0</td>\n",
       "      <td>2</td>\n",
       "      <td>187514</td>\n",
       "      <td>0</td>\n",
       "      <td>1</td>\n",
       "      <td>...</td>\n",
       "      <td>0</td>\n",
       "      <td>0</td>\n",
       "      <td>5</td>\n",
       "      <td>0</td>\n",
       "      <td>0</td>\n",
       "      <td>0</td>\n",
       "      <td>1167</td>\n",
       "      <td>0</td>\n",
       "      <td>1</td>\n",
       "      <td>0</td>\n",
       "    </tr>\n",
       "    <tr>\n",
       "      <th>3239</th>\n",
       "      <td>1035.0</td>\n",
       "      <td>2.0</td>\n",
       "      <td>0.0</td>\n",
       "      <td>0</td>\n",
       "      <td>1</td>\n",
       "      <td>0</td>\n",
       "      <td>2</td>\n",
       "      <td>188113</td>\n",
       "      <td>0</td>\n",
       "      <td>0</td>\n",
       "      <td>...</td>\n",
       "      <td>0</td>\n",
       "      <td>0</td>\n",
       "      <td>1</td>\n",
       "      <td>0</td>\n",
       "      <td>0</td>\n",
       "      <td>0</td>\n",
       "      <td>1031</td>\n",
       "      <td>0</td>\n",
       "      <td>0</td>\n",
       "      <td>1</td>\n",
       "    </tr>\n",
       "    <tr>\n",
       "      <th>912</th>\n",
       "      <td>1014.0</td>\n",
       "      <td>1044.0</td>\n",
       "      <td>0.0</td>\n",
       "      <td>0</td>\n",
       "      <td>0</td>\n",
       "      <td>0</td>\n",
       "      <td>2</td>\n",
       "      <td>187497</td>\n",
       "      <td>0</td>\n",
       "      <td>0</td>\n",
       "      <td>...</td>\n",
       "      <td>0</td>\n",
       "      <td>0</td>\n",
       "      <td>4</td>\n",
       "      <td>0</td>\n",
       "      <td>0</td>\n",
       "      <td>0</td>\n",
       "      <td>987</td>\n",
       "      <td>0</td>\n",
       "      <td>1</td>\n",
       "      <td>0</td>\n",
       "    </tr>\n",
       "    <tr>\n",
       "      <th>804</th>\n",
       "      <td>11072.0</td>\n",
       "      <td>7.0</td>\n",
       "      <td>0.0</td>\n",
       "      <td>0</td>\n",
       "      <td>0</td>\n",
       "      <td>0</td>\n",
       "      <td>2</td>\n",
       "      <td>187147</td>\n",
       "      <td>0</td>\n",
       "      <td>1</td>\n",
       "      <td>...</td>\n",
       "      <td>0</td>\n",
       "      <td>0</td>\n",
       "      <td>2</td>\n",
       "      <td>0</td>\n",
       "      <td>0</td>\n",
       "      <td>0</td>\n",
       "      <td>1057</td>\n",
       "      <td>0</td>\n",
       "      <td>1</td>\n",
       "      <td>0</td>\n",
       "    </tr>\n",
       "    <tr>\n",
       "      <th>73</th>\n",
       "      <td>8403.0</td>\n",
       "      <td>26.0</td>\n",
       "      <td>0.0</td>\n",
       "      <td>0</td>\n",
       "      <td>0</td>\n",
       "      <td>0</td>\n",
       "      <td>2</td>\n",
       "      <td>186338</td>\n",
       "      <td>0</td>\n",
       "      <td>1</td>\n",
       "      <td>...</td>\n",
       "      <td>0</td>\n",
       "      <td>0</td>\n",
       "      <td>1</td>\n",
       "      <td>0</td>\n",
       "      <td>0</td>\n",
       "      <td>0</td>\n",
       "      <td>1000</td>\n",
       "      <td>0</td>\n",
       "      <td>1</td>\n",
       "      <td>0</td>\n",
       "    </tr>\n",
       "    <tr>\n",
       "      <th>9562</th>\n",
       "      <td>8142.0</td>\n",
       "      <td>11.0</td>\n",
       "      <td>0.0</td>\n",
       "      <td>0</td>\n",
       "      <td>1</td>\n",
       "      <td>1</td>\n",
       "      <td>2</td>\n",
       "      <td>187514</td>\n",
       "      <td>0</td>\n",
       "      <td>1</td>\n",
       "      <td>...</td>\n",
       "      <td>0</td>\n",
       "      <td>0</td>\n",
       "      <td>1</td>\n",
       "      <td>0</td>\n",
       "      <td>0</td>\n",
       "      <td>0</td>\n",
       "      <td>5988</td>\n",
       "      <td>0</td>\n",
       "      <td>1</td>\n",
       "      <td>0</td>\n",
       "    </tr>\n",
       "    <tr>\n",
       "      <th>3187</th>\n",
       "      <td>1183.0</td>\n",
       "      <td>483.0</td>\n",
       "      <td>0.0</td>\n",
       "      <td>0</td>\n",
       "      <td>0</td>\n",
       "      <td>0</td>\n",
       "      <td>2</td>\n",
       "      <td>186338</td>\n",
       "      <td>0</td>\n",
       "      <td>1</td>\n",
       "      <td>...</td>\n",
       "      <td>0</td>\n",
       "      <td>0</td>\n",
       "      <td>5</td>\n",
       "      <td>0</td>\n",
       "      <td>0</td>\n",
       "      <td>0</td>\n",
       "      <td>1031</td>\n",
       "      <td>0</td>\n",
       "      <td>1</td>\n",
       "      <td>0</td>\n",
       "    </tr>\n",
       "  </tbody>\n",
       "</table>\n",
       "<p>10 rows × 52 columns</p>\n",
       "</div>"
      ],
      "text/plain": [
       "      ranking  number_reviews  rating  number_reviews_isNAN  \\\n",
       "6849    227.0            52.0     0.0                     0   \n",
       "6338    413.0           116.0     0.0                     0   \n",
       "8359   1775.0            29.0     0.0                     0   \n",
       "3488   1702.0            30.0     0.0                     0   \n",
       "3239   1035.0             2.0     0.0                     0   \n",
       "912    1014.0          1044.0     0.0                     0   \n",
       "804   11072.0             7.0     0.0                     0   \n",
       "73     8403.0            26.0     0.0                     0   \n",
       "9562   8142.0            11.0     0.0                     0   \n",
       "3187   1183.0           483.0     0.0                     0   \n",
       "\n",
       "      price_range_isNAN  reviews_isNAN  code_price_range  code_url_ta  \\\n",
       "6849                  0              0                 2       187323   \n",
       "6338                  0              0                 2       189400   \n",
       "8359                  0              1                 1       187849   \n",
       "3488                  0              0                 2       187514   \n",
       "3239                  1              0                 2       188113   \n",
       "912                   0              0                 2       187497   \n",
       "804                   0              0                 2       187147   \n",
       "73                    0              0                 2       186338   \n",
       "9562                  1              1                 2       187514   \n",
       "3187                  0              0                 2       186338   \n",
       "\n",
       "      chain_restaurant  capital_city  ...  Geneva  Ljubljana  count_cuisines  \\\n",
       "6849                 0             1  ...       0          0               2   \n",
       "6338                 0             1  ...       0          0               4   \n",
       "8359                 0             0  ...       0          0               1   \n",
       "3488                 0             1  ...       0          0               5   \n",
       "3239                 0             0  ...       0          0               1   \n",
       "912                  0             0  ...       0          0               4   \n",
       "804                  0             1  ...       0          0               2   \n",
       "73                   0             1  ...       0          0               1   \n",
       "9562                 0             1  ...       0          0               1   \n",
       "3187                 0             1  ...       0          0               5   \n",
       "\n",
       "      rare_cuisine  popular_cuisine  infrequent_cuisine  days_from_review  \\\n",
       "6849             0                0                   0              1371   \n",
       "6338             0                0                   0              1031   \n",
       "8359             0                0                   0              5988   \n",
       "3488             0                0                   0              1167   \n",
       "3239             0                0                   0              1031   \n",
       "912              0                0                   0               987   \n",
       "804              0                0                   0              1057   \n",
       "73               0                0                   0              1000   \n",
       "9562             0                0                   0              5988   \n",
       "3187             0                0                   0              1031   \n",
       "\n",
       "      mean_cuisines<2  2<=mean_cuisines<3  mean_cuisines>=3  \n",
       "6849                0                   1                 0  \n",
       "6338                0                   1                 0  \n",
       "8359                0                   1                 0  \n",
       "3488                0                   1                 0  \n",
       "3239                0                   0                 1  \n",
       "912                 0                   1                 0  \n",
       "804                 0                   1                 0  \n",
       "73                  0                   1                 0  \n",
       "9562                0                   1                 0  \n",
       "3187                0                   1                 0  \n",
       "\n",
       "[10 rows x 52 columns]"
      ]
     },
     "execution_count": 93,
     "metadata": {},
     "output_type": "execute_result"
    }
   ],
   "source": [
    "test_data.sample(10)"
   ]
  },
  {
   "cell_type": "code",
   "execution_count": 94,
   "metadata": {},
   "outputs": [],
   "source": [
    "test_data = test_data.drop(['rating'], axis=1)"
   ]
  },
  {
   "cell_type": "code",
   "execution_count": 95,
   "metadata": {},
   "outputs": [
    {
     "data": {
      "text/html": [
       "<div>\n",
       "<style scoped>\n",
       "    .dataframe tbody tr th:only-of-type {\n",
       "        vertical-align: middle;\n",
       "    }\n",
       "\n",
       "    .dataframe tbody tr th {\n",
       "        vertical-align: top;\n",
       "    }\n",
       "\n",
       "    .dataframe thead th {\n",
       "        text-align: right;\n",
       "    }\n",
       "</style>\n",
       "<table border=\"1\" class=\"dataframe\">\n",
       "  <thead>\n",
       "    <tr style=\"text-align: right;\">\n",
       "      <th></th>\n",
       "      <th>Restaurant_id</th>\n",
       "      <th>Rating</th>\n",
       "    </tr>\n",
       "  </thead>\n",
       "  <tbody>\n",
       "    <tr>\n",
       "      <th>0</th>\n",
       "      <td>id_0</td>\n",
       "      <td>2.0</td>\n",
       "    </tr>\n",
       "    <tr>\n",
       "      <th>1</th>\n",
       "      <td>id_1</td>\n",
       "      <td>2.5</td>\n",
       "    </tr>\n",
       "    <tr>\n",
       "      <th>2</th>\n",
       "      <td>id_2</td>\n",
       "      <td>4.0</td>\n",
       "    </tr>\n",
       "    <tr>\n",
       "      <th>3</th>\n",
       "      <td>id_3</td>\n",
       "      <td>1.0</td>\n",
       "    </tr>\n",
       "    <tr>\n",
       "      <th>4</th>\n",
       "      <td>id_4</td>\n",
       "      <td>4.0</td>\n",
       "    </tr>\n",
       "    <tr>\n",
       "      <th>...</th>\n",
       "      <td>...</td>\n",
       "      <td>...</td>\n",
       "    </tr>\n",
       "    <tr>\n",
       "      <th>9995</th>\n",
       "      <td>id_9995</td>\n",
       "      <td>3.0</td>\n",
       "    </tr>\n",
       "    <tr>\n",
       "      <th>9996</th>\n",
       "      <td>id_9996</td>\n",
       "      <td>1.5</td>\n",
       "    </tr>\n",
       "    <tr>\n",
       "      <th>9997</th>\n",
       "      <td>id_9997</td>\n",
       "      <td>4.5</td>\n",
       "    </tr>\n",
       "    <tr>\n",
       "      <th>9998</th>\n",
       "      <td>id_9998</td>\n",
       "      <td>1.0</td>\n",
       "    </tr>\n",
       "    <tr>\n",
       "      <th>9999</th>\n",
       "      <td>id_9999</td>\n",
       "      <td>2.5</td>\n",
       "    </tr>\n",
       "  </tbody>\n",
       "</table>\n",
       "<p>10000 rows × 2 columns</p>\n",
       "</div>"
      ],
      "text/plain": [
       "     Restaurant_id  Rating\n",
       "0             id_0     2.0\n",
       "1             id_1     2.5\n",
       "2             id_2     4.0\n",
       "3             id_3     1.0\n",
       "4             id_4     4.0\n",
       "...            ...     ...\n",
       "9995       id_9995     3.0\n",
       "9996       id_9996     1.5\n",
       "9997       id_9997     4.5\n",
       "9998       id_9998     1.0\n",
       "9999       id_9999     2.5\n",
       "\n",
       "[10000 rows x 2 columns]"
      ]
     },
     "execution_count": 95,
     "metadata": {},
     "output_type": "execute_result"
    }
   ],
   "source": [
    "sample_submission"
   ]
  },
  {
   "cell_type": "code",
   "execution_count": 96,
   "metadata": {},
   "outputs": [
    {
     "name": "stderr",
     "output_type": "stream",
     "text": [
      "[Parallel(n_jobs=4)]: Using backend ThreadingBackend with 4 concurrent workers.\n",
      "[Parallel(n_jobs=4)]: Done  42 tasks      | elapsed:    0.0s\n",
      "[Parallel(n_jobs=4)]: Done 100 out of 100 | elapsed:    0.1s finished\n"
     ]
    }
   ],
   "source": [
    "predict_submission = model.predict(test_data)"
   ]
  },
  {
   "cell_type": "code",
   "execution_count": 97,
   "metadata": {},
   "outputs": [
    {
     "data": {
      "text/plain": [
       "array([3.09 , 4.255, 4.485, ..., 3.02 , 4.485, 4.395])"
      ]
     },
     "execution_count": 97,
     "metadata": {},
     "output_type": "execute_result"
    }
   ],
   "source": [
    "predict_submission"
   ]
  },
  {
   "cell_type": "code",
   "execution_count": 98,
   "metadata": {},
   "outputs": [
    {
     "data": {
      "text/html": [
       "<div>\n",
       "<style scoped>\n",
       "    .dataframe tbody tr th:only-of-type {\n",
       "        vertical-align: middle;\n",
       "    }\n",
       "\n",
       "    .dataframe tbody tr th {\n",
       "        vertical-align: top;\n",
       "    }\n",
       "\n",
       "    .dataframe thead th {\n",
       "        text-align: right;\n",
       "    }\n",
       "</style>\n",
       "<table border=\"1\" class=\"dataframe\">\n",
       "  <thead>\n",
       "    <tr style=\"text-align: right;\">\n",
       "      <th></th>\n",
       "      <th>Restaurant_id</th>\n",
       "      <th>Rating</th>\n",
       "    </tr>\n",
       "  </thead>\n",
       "  <tbody>\n",
       "    <tr>\n",
       "      <th>0</th>\n",
       "      <td>id_0</td>\n",
       "      <td>3.090</td>\n",
       "    </tr>\n",
       "    <tr>\n",
       "      <th>1</th>\n",
       "      <td>id_1</td>\n",
       "      <td>4.255</td>\n",
       "    </tr>\n",
       "    <tr>\n",
       "      <th>2</th>\n",
       "      <td>id_2</td>\n",
       "      <td>4.485</td>\n",
       "    </tr>\n",
       "    <tr>\n",
       "      <th>3</th>\n",
       "      <td>id_3</td>\n",
       "      <td>4.190</td>\n",
       "    </tr>\n",
       "    <tr>\n",
       "      <th>4</th>\n",
       "      <td>id_4</td>\n",
       "      <td>4.415</td>\n",
       "    </tr>\n",
       "    <tr>\n",
       "      <th>5</th>\n",
       "      <td>id_5</td>\n",
       "      <td>4.530</td>\n",
       "    </tr>\n",
       "    <tr>\n",
       "      <th>6</th>\n",
       "      <td>id_6</td>\n",
       "      <td>1.860</td>\n",
       "    </tr>\n",
       "    <tr>\n",
       "      <th>7</th>\n",
       "      <td>id_7</td>\n",
       "      <td>2.750</td>\n",
       "    </tr>\n",
       "    <tr>\n",
       "      <th>8</th>\n",
       "      <td>id_8</td>\n",
       "      <td>4.160</td>\n",
       "    </tr>\n",
       "    <tr>\n",
       "      <th>9</th>\n",
       "      <td>id_9</td>\n",
       "      <td>4.620</td>\n",
       "    </tr>\n",
       "  </tbody>\n",
       "</table>\n",
       "</div>"
      ],
      "text/plain": [
       "  Restaurant_id  Rating\n",
       "0          id_0   3.090\n",
       "1          id_1   4.255\n",
       "2          id_2   4.485\n",
       "3          id_3   4.190\n",
       "4          id_4   4.415\n",
       "5          id_5   4.530\n",
       "6          id_6   1.860\n",
       "7          id_7   2.750\n",
       "8          id_8   4.160\n",
       "9          id_9   4.620"
      ]
     },
     "execution_count": 98,
     "metadata": {},
     "output_type": "execute_result"
    }
   ],
   "source": [
    "sample_submission['Rating'] = predict_submission\n",
    "sample_submission.to_csv('submission.csv', index=False)\n",
    "sample_submission.head(10)"
   ]
  },
  {
   "cell_type": "markdown",
   "metadata": {},
   "source": [
    "# What's next?\n",
    "Или что делать, чтоб улучшить результат:\n",
    "* Обработать оставшиеся признаки в понятный для машины формат\n",
    "* Посмотреть, что еще можно извлечь из признаков\n",
    "* Сгенерировать новые признаки\n",
    "* Подгрузить дополнительные данные, например: по населению или благосостоянию городов\n",
    "* Подобрать состав признаков\n",
    "\n",
    "В общем, процесс творческий и весьма увлекательный! Удачи в соревновании!\n"
   ]
  },
  {
   "cell_type": "code",
   "execution_count": null,
   "metadata": {},
   "outputs": [],
   "source": []
  }
 ],
 "metadata": {
  "kernelspec": {
   "display_name": "Python 3",
   "language": "python",
   "name": "python3"
  },
  "language_info": {
   "codemirror_mode": {
    "name": "ipython",
    "version": 3
   },
   "file_extension": ".py",
   "mimetype": "text/x-python",
   "name": "python",
   "nbconvert_exporter": "python",
   "pygments_lexer": "ipython3",
   "version": "3.7.6"
  }
 },
 "nbformat": 4,
 "nbformat_minor": 4
}
